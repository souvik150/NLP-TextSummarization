{
  "nbformat": 4,
  "nbformat_minor": 0,
  "metadata": {
    "colab": {
      "provenance": [],
      "authorship_tag": "ABX9TyMxz565wCO9Sbk3Kq4VpMql",
      "include_colab_link": true
    },
    "kernelspec": {
      "name": "python3",
      "display_name": "Python 3"
    },
    "language_info": {
      "name": "python"
    }
  },
  "cells": [
    {
      "cell_type": "markdown",
      "metadata": {
        "id": "view-in-github",
        "colab_type": "text"
      },
      "source": [
        "<a href=\"https://colab.research.google.com/github/souvik150/NLP-TextSummarization/blob/master/TextSummarizaiton_FrequencyBased.ipynb\" target=\"_parent\"><img src=\"https://colab.research.google.com/assets/colab-badge.svg\" alt=\"Open In Colab\"/></a>"
      ]
    },
    {
      "cell_type": "markdown",
      "source": [
        "# Preprocessing the texts"
      ],
      "metadata": {
        "id": "ivANtS9ziVWR"
      }
    },
    {
      "cell_type": "code",
      "execution_count": 1,
      "metadata": {
        "id": "aUZcJIPpYcYI"
      },
      "outputs": [],
      "source": [
        "import re\n",
        "import nltk\n",
        "import string"
      ]
    },
    {
      "cell_type": "code",
      "source": [
        "# I added the word machine at the end of the last sentence\n",
        "original_text = \"\"\"Artificial intelligence is human like intelligence.\n",
        "                   It is the study of intelligent artificial agents.\n",
        "                   Science and engineering to produce intelligent machines.\n",
        "                   Solve problems and have intelligence.\n",
        "                   Related to intelligent behavior.\n",
        "                   Developing of reasoning machines.\n",
        "                   Learn from mistakes and successes.\n",
        "                   Artificial intelligence is related to reasoning in everyday situations.\"\"\""
      ],
      "metadata": {
        "id": "z55I9zjfidre"
      },
      "execution_count": 2,
      "outputs": []
    },
    {
      "cell_type": "code",
      "source": [
        "original_text"
      ],
      "metadata": {
        "colab": {
          "base_uri": "https://localhost:8080/",
          "height": 70
        },
        "id": "xpKkY_gBifiL",
        "outputId": "17259d40-1d16-46b4-ff6e-ebb4e1dfcf38"
      },
      "execution_count": 3,
      "outputs": [
        {
          "output_type": "execute_result",
          "data": {
            "text/plain": [
              "'Artificial intelligence is human like intelligence. \\n                   It is the study of intelligent artificial agents. \\n                   Science and engineering to produce intelligent machines. \\n                   Solve problems and have intelligence. \\n                   Related to intelligent behavior. \\n                   Developing of reasoning machines. \\n                   Learn from mistakes and successes. \\n                   Artificial intelligence is related to reasoning in everyday situations.'"
            ],
            "application/vnd.google.colaboratory.intrinsic+json": {
              "type": "string"
            }
          },
          "metadata": {},
          "execution_count": 3
        }
      ]
    },
    {
      "cell_type": "code",
      "source": [
        "original_text = re.sub(r'\\s+', ' ', original_text)"
      ],
      "metadata": {
        "id": "fPuGHqLnihzh"
      },
      "execution_count": 4,
      "outputs": []
    },
    {
      "cell_type": "code",
      "source": [
        "original_text"
      ],
      "metadata": {
        "colab": {
          "base_uri": "https://localhost:8080/",
          "height": 70
        },
        "id": "LJUsh_97ijcA",
        "outputId": "7f8861a6-182b-43ed-dd7d-7182594f09b7"
      },
      "execution_count": 5,
      "outputs": [
        {
          "output_type": "execute_result",
          "data": {
            "text/plain": [
              "'Artificial intelligence is human like intelligence. It is the study of intelligent artificial agents. Science and engineering to produce intelligent machines. Solve problems and have intelligence. Related to intelligent behavior. Developing of reasoning machines. Learn from mistakes and successes. Artificial intelligence is related to reasoning in everyday situations.'"
            ],
            "application/vnd.google.colaboratory.intrinsic+json": {
              "type": "string"
            }
          },
          "metadata": {},
          "execution_count": 5
        }
      ]
    },
    {
      "cell_type": "code",
      "source": [
        "nltk.download('punkt')"
      ],
      "metadata": {
        "colab": {
          "base_uri": "https://localhost:8080/"
        },
        "id": "To6dMlG1i-TB",
        "outputId": "484f3de7-12e8-4932-8f68-bb45eac0354f"
      },
      "execution_count": 6,
      "outputs": [
        {
          "output_type": "stream",
          "name": "stderr",
          "text": [
            "[nltk_data] Downloading package punkt to /root/nltk_data...\n",
            "[nltk_data]   Unzipping tokenizers/punkt.zip.\n"
          ]
        },
        {
          "output_type": "execute_result",
          "data": {
            "text/plain": [
              "True"
            ]
          },
          "metadata": {},
          "execution_count": 6
        }
      ]
    },
    {
      "cell_type": "code",
      "source": [
        "nltk.download('stopwords')"
      ],
      "metadata": {
        "colab": {
          "base_uri": "https://localhost:8080/"
        },
        "id": "Ugu6bhcbik9Z",
        "outputId": "6e452c16-93b8-4bb8-8153-e31884831292"
      },
      "execution_count": 7,
      "outputs": [
        {
          "output_type": "stream",
          "name": "stderr",
          "text": [
            "[nltk_data] Downloading package stopwords to /root/nltk_data...\n",
            "[nltk_data]   Unzipping corpora/stopwords.zip.\n"
          ]
        },
        {
          "output_type": "execute_result",
          "data": {
            "text/plain": [
              "True"
            ]
          },
          "metadata": {},
          "execution_count": 7
        }
      ]
    },
    {
      "cell_type": "code",
      "source": [
        "stopwords = nltk.corpus.stopwords.words('english')\n",
        "print(stopwords)"
      ],
      "metadata": {
        "colab": {
          "base_uri": "https://localhost:8080/"
        },
        "id": "QHQQMlyzjCrm",
        "outputId": "c3e47231-6c7b-4897-d17c-2330a1ebb68a"
      },
      "execution_count": 8,
      "outputs": [
        {
          "output_type": "stream",
          "name": "stdout",
          "text": [
            "['i', 'me', 'my', 'myself', 'we', 'our', 'ours', 'ourselves', 'you', \"you're\", \"you've\", \"you'll\", \"you'd\", 'your', 'yours', 'yourself', 'yourselves', 'he', 'him', 'his', 'himself', 'she', \"she's\", 'her', 'hers', 'herself', 'it', \"it's\", 'its', 'itself', 'they', 'them', 'their', 'theirs', 'themselves', 'what', 'which', 'who', 'whom', 'this', 'that', \"that'll\", 'these', 'those', 'am', 'is', 'are', 'was', 'were', 'be', 'been', 'being', 'have', 'has', 'had', 'having', 'do', 'does', 'did', 'doing', 'a', 'an', 'the', 'and', 'but', 'if', 'or', 'because', 'as', 'until', 'while', 'of', 'at', 'by', 'for', 'with', 'about', 'against', 'between', 'into', 'through', 'during', 'before', 'after', 'above', 'below', 'to', 'from', 'up', 'down', 'in', 'out', 'on', 'off', 'over', 'under', 'again', 'further', 'then', 'once', 'here', 'there', 'when', 'where', 'why', 'how', 'all', 'any', 'both', 'each', 'few', 'more', 'most', 'other', 'some', 'such', 'no', 'nor', 'not', 'only', 'own', 'same', 'so', 'than', 'too', 'very', 's', 't', 'can', 'will', 'just', 'don', \"don't\", 'should', \"should've\", 'now', 'd', 'll', 'm', 'o', 're', 've', 'y', 'ain', 'aren', \"aren't\", 'couldn', \"couldn't\", 'didn', \"didn't\", 'doesn', \"doesn't\", 'hadn', \"hadn't\", 'hasn', \"hasn't\", 'haven', \"haven't\", 'isn', \"isn't\", 'ma', 'mightn', \"mightn't\", 'mustn', \"mustn't\", 'needn', \"needn't\", 'shan', \"shan't\", 'shouldn', \"shouldn't\", 'wasn', \"wasn't\", 'weren', \"weren't\", 'won', \"won't\", 'wouldn', \"wouldn't\"]\n"
          ]
        }
      ]
    },
    {
      "cell_type": "code",
      "source": [
        "len(stopwords)"
      ],
      "metadata": {
        "colab": {
          "base_uri": "https://localhost:8080/"
        },
        "id": "wRExANVSjFHq",
        "outputId": "ae6fd976-fa50-4c13-ce1e-aeb0b466f98f"
      },
      "execution_count": 9,
      "outputs": [
        {
          "output_type": "execute_result",
          "data": {
            "text/plain": [
              "179"
            ]
          },
          "metadata": {},
          "execution_count": 9
        }
      ]
    },
    {
      "cell_type": "code",
      "source": [
        "string.punctuation"
      ],
      "metadata": {
        "colab": {
          "base_uri": "https://localhost:8080/",
          "height": 36
        },
        "id": "XSVH1I_gjIiB",
        "outputId": "7de34880-cf88-436a-c4dc-d4a91e4e1941"
      },
      "execution_count": 10,
      "outputs": [
        {
          "output_type": "execute_result",
          "data": {
            "text/plain": [
              "'!\"#$%&\\'()*+,-./:;<=>?@[\\\\]^_`{|}~'"
            ],
            "application/vnd.google.colaboratory.intrinsic+json": {
              "type": "string"
            }
          },
          "metadata": {},
          "execution_count": 10
        }
      ]
    },
    {
      "cell_type": "code",
      "source": [
        "def preprocess(text):\n",
        "  formatted_text = text.lower()\n",
        "  tokens = []\n",
        "  for token in nltk.word_tokenize(formatted_text):\n",
        "    tokens.append(token)\n",
        "  #print(tokens)\n",
        "  tokens = [word for word in tokens if word not in stopwords and word not in string.punctuation]\n",
        "  formatted_text = ' '.join(element for element in tokens)\n",
        "\n",
        "  return formatted_text"
      ],
      "metadata": {
        "id": "ZYnn3s6cjJ6W"
      },
      "execution_count": 11,
      "outputs": []
    },
    {
      "cell_type": "code",
      "source": [
        "formatted_text = preprocess(original_text)\n",
        "formatted_text"
      ],
      "metadata": {
        "colab": {
          "base_uri": "https://localhost:8080/",
          "height": 53
        },
        "id": "Dk4gAlq3jL4o",
        "outputId": "1cf74da3-9e32-4c8c-efe7-6b0dccdde330"
      },
      "execution_count": 12,
      "outputs": [
        {
          "output_type": "execute_result",
          "data": {
            "text/plain": [
              "'artificial intelligence human like intelligence study intelligent artificial agents science engineering produce intelligent machines solve problems intelligence related intelligent behavior developing reasoning machines learn mistakes successes artificial intelligence related reasoning everyday situations'"
            ],
            "application/vnd.google.colaboratory.intrinsic+json": {
              "type": "string"
            }
          },
          "metadata": {},
          "execution_count": 12
        }
      ]
    },
    {
      "cell_type": "markdown",
      "source": [
        "## Word Frequency"
      ],
      "metadata": {
        "id": "i7eQrOCRjUom"
      }
    },
    {
      "cell_type": "code",
      "source": [
        "word_frequency = nltk.FreqDist(nltk.word_tokenize(formatted_text))\n",
        "word_frequency"
      ],
      "metadata": {
        "colab": {
          "base_uri": "https://localhost:8080/"
        },
        "id": "NgQF7W7CjRd9",
        "outputId": "2420c094-53fe-4a82-dcd6-e2cb2b1faae9"
      },
      "execution_count": 13,
      "outputs": [
        {
          "output_type": "execute_result",
          "data": {
            "text/plain": [
              "FreqDist({'intelligence': 4, 'artificial': 3, 'intelligent': 3, 'machines': 2, 'related': 2, 'reasoning': 2, 'human': 1, 'like': 1, 'study': 1, 'agents': 1, ...})"
            ]
          },
          "metadata": {},
          "execution_count": 13
        }
      ]
    },
    {
      "cell_type": "code",
      "source": [
        "word_frequency['intelligence']"
      ],
      "metadata": {
        "colab": {
          "base_uri": "https://localhost:8080/"
        },
        "id": "6AlnRq2KjX2B",
        "outputId": "c5a63eb6-d869-44f0-9f30-38e66d7e8c39"
      },
      "execution_count": 14,
      "outputs": [
        {
          "output_type": "execute_result",
          "data": {
            "text/plain": [
              "4"
            ]
          },
          "metadata": {},
          "execution_count": 14
        }
      ]
    },
    {
      "cell_type": "code",
      "source": [
        "word_frequency.keys()"
      ],
      "metadata": {
        "colab": {
          "base_uri": "https://localhost:8080/"
        },
        "id": "noRxotkYjZZ8",
        "outputId": "4cc8660e-ed16-404d-f37a-05e8c0e42e1f"
      },
      "execution_count": 15,
      "outputs": [
        {
          "output_type": "execute_result",
          "data": {
            "text/plain": [
              "dict_keys(['artificial', 'intelligence', 'human', 'like', 'study', 'intelligent', 'agents', 'science', 'engineering', 'produce', 'machines', 'solve', 'problems', 'related', 'behavior', 'developing', 'reasoning', 'learn', 'mistakes', 'successes', 'everyday', 'situations'])"
            ]
          },
          "metadata": {},
          "execution_count": 15
        }
      ]
    },
    {
      "cell_type": "code",
      "source": [
        "len(word_frequency.keys())"
      ],
      "metadata": {
        "colab": {
          "base_uri": "https://localhost:8080/"
        },
        "id": "WipWHIEujbp5",
        "outputId": "90fdedea-b37d-4289-b8e9-e08195ca8321"
      },
      "execution_count": 16,
      "outputs": [
        {
          "output_type": "execute_result",
          "data": {
            "text/plain": [
              "22"
            ]
          },
          "metadata": {},
          "execution_count": 16
        }
      ]
    },
    {
      "cell_type": "code",
      "source": [
        "highest_frequency = max(word_frequency.values())\n",
        "highest_frequency"
      ],
      "metadata": {
        "colab": {
          "base_uri": "https://localhost:8080/"
        },
        "id": "n5xIAMYfjeGk",
        "outputId": "6f81eba1-0ba5-480f-c178-d708659d8c57"
      },
      "execution_count": 17,
      "outputs": [
        {
          "output_type": "execute_result",
          "data": {
            "text/plain": [
              "4"
            ]
          },
          "metadata": {},
          "execution_count": 17
        }
      ]
    },
    {
      "cell_type": "code",
      "source": [
        "for word in word_frequency.keys():\n",
        "  #print(word)\n",
        "  word_frequency[word] = (word_frequency[word] / highest_frequency)"
      ],
      "metadata": {
        "id": "_91Y8bwzjkUN"
      },
      "execution_count": 18,
      "outputs": []
    },
    {
      "cell_type": "code",
      "source": [
        "word_frequency"
      ],
      "metadata": {
        "colab": {
          "base_uri": "https://localhost:8080/"
        },
        "id": "VOIbTslFjl5U",
        "outputId": "70d58712-dc5b-4604-b408-7992f8fb9702"
      },
      "execution_count": 19,
      "outputs": [
        {
          "output_type": "execute_result",
          "data": {
            "text/plain": [
              "FreqDist({'intelligence': 1.0, 'artificial': 0.75, 'intelligent': 0.75, 'machines': 0.5, 'related': 0.5, 'reasoning': 0.5, 'human': 0.25, 'like': 0.25, 'study': 0.25, 'agents': 0.25, ...})"
            ]
          },
          "metadata": {},
          "execution_count": 19
        }
      ]
    },
    {
      "cell_type": "markdown",
      "source": [
        "## Sentence tokenization"
      ],
      "metadata": {
        "id": "E_7cgwJPjppK"
      }
    },
    {
      "cell_type": "code",
      "source": [
        "'Ph.d John went home. He arrived early.'.split('.')"
      ],
      "metadata": {
        "colab": {
          "base_uri": "https://localhost:8080/"
        },
        "id": "aAYDfBTkjneG",
        "outputId": "03a27e6d-b26d-48f5-e389-2c51d2ecc4f0"
      },
      "execution_count": 33,
      "outputs": [
        {
          "output_type": "execute_result",
          "data": {
            "text/plain": [
              "['Ph', 'd John went home', ' He arrived early', '']"
            ]
          },
          "metadata": {},
          "execution_count": 33
        }
      ]
    },
    {
      "cell_type": "code",
      "source": [
        "nltk.sent_tokenize('Ph.d John went home. He arrived early.')"
      ],
      "metadata": {
        "colab": {
          "base_uri": "https://localhost:8080/"
        },
        "id": "bf4nF4Y3kTNo",
        "outputId": "9f5f8f05-cb95-4e90-da0a-85250d3b4829"
      },
      "execution_count": 22,
      "outputs": [
        {
          "output_type": "execute_result",
          "data": {
            "text/plain": [
              "['Ph.d John went home.', 'He arrived early.']"
            ]
          },
          "metadata": {},
          "execution_count": 22
        }
      ]
    },
    {
      "cell_type": "code",
      "source": [
        "sentence_list = nltk.sent_tokenize(original_text)\n",
        "sentence_list"
      ],
      "metadata": {
        "colab": {
          "base_uri": "https://localhost:8080/"
        },
        "id": "0Wi1n72ykUI7",
        "outputId": "93c05330-028e-43cf-9f1e-172bf7cd78be"
      },
      "execution_count": 23,
      "outputs": [
        {
          "output_type": "execute_result",
          "data": {
            "text/plain": [
              "['Artificial intelligence is human like intelligence.',\n",
              " 'It is the study of intelligent artificial agents.',\n",
              " 'Science and engineering to produce intelligent machines.',\n",
              " 'Solve problems and have intelligence.',\n",
              " 'Related to intelligent behavior.',\n",
              " 'Developing of reasoning machines.',\n",
              " 'Learn from mistakes and successes.',\n",
              " 'Artificial intelligence is related to reasoning in everyday situations.']"
            ]
          },
          "metadata": {},
          "execution_count": 23
        }
      ]
    },
    {
      "cell_type": "markdown",
      "source": [
        "## Generate the summary (score for sentences)"
      ],
      "metadata": {
        "id": "h4gPfdB2khcy"
      }
    },
    {
      "cell_type": "code",
      "source": [
        "word_frequency"
      ],
      "metadata": {
        "colab": {
          "base_uri": "https://localhost:8080/"
        },
        "id": "t7Qxy2EPkY7s",
        "outputId": "5e1f5d49-41e6-4dfa-f041-cf1b07557f4d"
      },
      "execution_count": 24,
      "outputs": [
        {
          "output_type": "execute_result",
          "data": {
            "text/plain": [
              "FreqDist({'intelligence': 1.0, 'artificial': 0.75, 'intelligent': 0.75, 'machines': 0.5, 'related': 0.5, 'reasoning': 0.5, 'human': 0.25, 'like': 0.25, 'study': 0.25, 'agents': 0.25, ...})"
            ]
          },
          "metadata": {},
          "execution_count": 24
        }
      ]
    },
    {
      "cell_type": "code",
      "source": [
        "score_sentences = {}\n",
        "for sentence in sentence_list:\n",
        "  #print(sentence)\n",
        "  for word in nltk.word_tokenize(sentence.lower()):\n",
        "    #print(word)\n",
        "    if sentence not in score_sentences.keys():\n",
        "      score_sentences[sentence] = word_frequency[word]\n",
        "    else:\n",
        "      score_sentences[sentence] += word_frequency[word]"
      ],
      "metadata": {
        "id": "nERptghIkoWp"
      },
      "execution_count": 25,
      "outputs": []
    },
    {
      "cell_type": "code",
      "source": [
        "score_sentences"
      ],
      "metadata": {
        "colab": {
          "base_uri": "https://localhost:8080/"
        },
        "id": "oXepzoNmkm9D",
        "outputId": "d741d9f1-f437-40e6-8188-17dde50ae682"
      },
      "execution_count": 26,
      "outputs": [
        {
          "output_type": "execute_result",
          "data": {
            "text/plain": [
              "{'Artificial intelligence is human like intelligence.': 3.25,\n",
              " 'It is the study of intelligent artificial agents.': 2.0,\n",
              " 'Science and engineering to produce intelligent machines.': 2.0,\n",
              " 'Solve problems and have intelligence.': 1.5,\n",
              " 'Related to intelligent behavior.': 1.5,\n",
              " 'Developing of reasoning machines.': 1.25,\n",
              " 'Learn from mistakes and successes.': 0.75,\n",
              " 'Artificial intelligence is related to reasoning in everyday situations.': 3.25}"
            ]
          },
          "metadata": {},
          "execution_count": 26
        }
      ]
    },
    {
      "cell_type": "code",
      "source": [
        "score_sentences['Solve problems and have intelligence.']"
      ],
      "metadata": {
        "colab": {
          "base_uri": "https://localhost:8080/"
        },
        "id": "gcHEwfbvkp4M",
        "outputId": "8d35f06e-7e79-4b54-d4e8-d8ada6408b53"
      },
      "execution_count": 27,
      "outputs": [
        {
          "output_type": "execute_result",
          "data": {
            "text/plain": [
              "1.5"
            ]
          },
          "metadata": {},
          "execution_count": 27
        }
      ]
    },
    {
      "cell_type": "code",
      "source": [
        "score_sentences.keys()"
      ],
      "metadata": {
        "colab": {
          "base_uri": "https://localhost:8080/"
        },
        "id": "byk009tnkrnZ",
        "outputId": "ce6074e7-f95b-4826-8712-e8ee185326ab"
      },
      "execution_count": 28,
      "outputs": [
        {
          "output_type": "execute_result",
          "data": {
            "text/plain": [
              "dict_keys(['Artificial intelligence is human like intelligence.', 'It is the study of intelligent artificial agents.', 'Science and engineering to produce intelligent machines.', 'Solve problems and have intelligence.', 'Related to intelligent behavior.', 'Developing of reasoning machines.', 'Learn from mistakes and successes.', 'Artificial intelligence is related to reasoning in everyday situations.'])"
            ]
          },
          "metadata": {},
          "execution_count": 28
        }
      ]
    },
    {
      "cell_type": "code",
      "source": [
        "import heapq\n",
        "best_sentences = heapq.nlargest(3, score_sentences, key = score_sentences.get)"
      ],
      "metadata": {
        "id": "rxLYZld0ksgl"
      },
      "execution_count": 29,
      "outputs": []
    },
    {
      "cell_type": "code",
      "source": [
        "best_sentences"
      ],
      "metadata": {
        "colab": {
          "base_uri": "https://localhost:8080/"
        },
        "id": "KtO3dTD8kt2u",
        "outputId": "91d14903-0676-4fc9-9bd1-04132e03c74e"
      },
      "execution_count": 30,
      "outputs": [
        {
          "output_type": "execute_result",
          "data": {
            "text/plain": [
              "['Artificial intelligence is human like intelligence.',\n",
              " 'Artificial intelligence is related to reasoning in everyday situations.',\n",
              " 'It is the study of intelligent artificial agents.']"
            ]
          },
          "metadata": {},
          "execution_count": 30
        }
      ]
    },
    {
      "cell_type": "code",
      "source": [
        "summary = ' '.join(best_sentences)\n",
        "summary"
      ],
      "metadata": {
        "colab": {
          "base_uri": "https://localhost:8080/",
          "height": 36
        },
        "id": "tWPVcYfikvEn",
        "outputId": "9a168196-4904-4fe8-a465-e8f96e4dbb6a"
      },
      "execution_count": 31,
      "outputs": [
        {
          "output_type": "execute_result",
          "data": {
            "text/plain": [
              "'Artificial intelligence is human like intelligence. Artificial intelligence is related to reasoning in everyday situations. It is the study of intelligent artificial agents.'"
            ],
            "application/vnd.google.colaboratory.intrinsic+json": {
              "type": "string"
            }
          },
          "metadata": {},
          "execution_count": 31
        }
      ]
    },
    {
      "cell_type": "code",
      "source": [
        "original_text"
      ],
      "metadata": {
        "colab": {
          "base_uri": "https://localhost:8080/",
          "height": 70
        },
        "id": "DVdKVjTjkwra",
        "outputId": "bcb3a193-d9b1-4785-f826-f01c46a18306"
      },
      "execution_count": 32,
      "outputs": [
        {
          "output_type": "execute_result",
          "data": {
            "text/plain": [
              "'Artificial intelligence is human like intelligence. It is the study of intelligent artificial agents. Science and engineering to produce intelligent machines. Solve problems and have intelligence. Related to intelligent behavior. Developing of reasoning machines. Learn from mistakes and successes. Artificial intelligence is related to reasoning in everyday situations.'"
            ],
            "application/vnd.google.colaboratory.intrinsic+json": {
              "type": "string"
            }
          },
          "metadata": {},
          "execution_count": 32
        }
      ]
    },
    {
      "cell_type": "markdown",
      "source": [
        "## Visualizing the summary in HTML"
      ],
      "metadata": {
        "id": "ETt6impukzM0"
      }
    },
    {
      "cell_type": "code",
      "source": [
        "from IPython.core.display import HTML"
      ],
      "metadata": {
        "id": "uFQpBc3QnYgN"
      },
      "execution_count": 34,
      "outputs": []
    },
    {
      "cell_type": "code",
      "source": [
        "text = ''\n",
        "display(HTML(f'<h2>Summary</h2>'))\n",
        "for sentence in sentence_list:\n",
        "  #print(sentence)\n",
        "  #text += sentence\n",
        "  if sentence in best_sentences:\n",
        "    text += ' ' + sentence.replace(sentence, f\"<mark>{sentence}</mark>\")\n",
        "  else:\n",
        "    text += ' ' + sentence\n",
        "\n",
        "display(HTML(f\"\"\"{text}\"\"\"))"
      ],
      "metadata": {
        "colab": {
          "base_uri": "https://localhost:8080/",
          "height": 99
        },
        "id": "0Rxc9Jrckxpk",
        "outputId": "1c7ec512-51a4-445c-c4ea-34bf343eeb46"
      },
      "execution_count": 35,
      "outputs": [
        {
          "output_type": "display_data",
          "data": {
            "text/plain": [
              "<IPython.core.display.HTML object>"
            ],
            "text/html": [
              "<h2>Summary</h2>"
            ]
          },
          "metadata": {}
        },
        {
          "output_type": "display_data",
          "data": {
            "text/plain": [
              "<IPython.core.display.HTML object>"
            ],
            "text/html": [
              " <mark>Artificial intelligence is human like intelligence.</mark> <mark>It is the study of intelligent artificial agents.</mark> Science and engineering to produce intelligent machines. Solve problems and have intelligence. Related to intelligent behavior. Developing of reasoning machines. Learn from mistakes and successes. <mark>Artificial intelligence is related to reasoning in everyday situations.</mark>"
            ]
          },
          "metadata": {}
        }
      ]
    },
    {
      "cell_type": "markdown",
      "source": [
        "# Extracting texts from the Internet"
      ],
      "metadata": {
        "id": "2C4_L96Knmka"
      }
    },
    {
      "cell_type": "code",
      "source": [
        "# !pip install goose3\n",
        "from goose3 import Goose"
      ],
      "metadata": {
        "id": "VjqdEkqynamp"
      },
      "execution_count": 37,
      "outputs": []
    },
    {
      "cell_type": "code",
      "source": [
        "g = Goose()\n",
        "url = 'https://en.wikipedia.org/wiki/Automatic_summarization'\n",
        "article = g.extract(url)"
      ],
      "metadata": {
        "id": "_i4wygj3nouR"
      },
      "execution_count": 38,
      "outputs": []
    },
    {
      "cell_type": "code",
      "source": [
        "article.infos"
      ],
      "metadata": {
        "colab": {
          "base_uri": "https://localhost:8080/"
        },
        "id": "YHa9-lZgnw2j",
        "outputId": "a608f370-2bf8-4b63-827e-a1c09f9e8267"
      },
      "execution_count": 39,
      "outputs": [
        {
          "output_type": "execute_result",
          "data": {
            "text/plain": [
              "{'meta': {'description': '',\n",
              "  'lang': 'en',\n",
              "  'keywords': '',\n",
              "  'favicon': '/static/apple-touch/wikipedia.png',\n",
              "  'canonical': 'https://en.wikipedia.org/wiki/Automatic_summarization',\n",
              "  'encoding': 'UTF-8'},\n",
              " 'image': None,\n",
              " 'domain': 'en.wikipedia.org',\n",
              " 'title': 'Automatic summarization - Wikipedia',\n",
              " 'cleaned_text': 'Automatic summarization is the process of shortening a set of data computationally, to create a subset (a summary) that represents the most important or relevant information within the original content. Artificial intelligence algorithms are commonly developed and employed to achieve this, specialized for different types of data.\\n\\nText summarization is usually implemented by natural language processing methods, designed to locate the most informative sentences in a given document.[1] On the other hand, visual content can be summarized using computer vision algorithms. Image summarization is the subject of ongoing research; existing approaches typically attempt to display the most representative images from a given image collection, or generate a video that only includes the most important content from the entire collection.[2][3][4] Video summarization algorithms identify and extract from the original video content the most important frames (key-frames), and/or the most important video segments (key-shots), normally in a temporally ordered fashion.[5][6][7][8] Video summaries simply retain a carefully selected subset of the original video frames and, therefore, are not identical to the output of video synopsis algorithms, where new video frames are being synthesized based on the original video content.\\n\\nThere are two general approaches to automatic summarization: extraction and abstraction.\\n\\nHere, content is extracted from the original data, but the extracted content is not modified in any way. Examples of extracted content include key-phrases that can be used to \"tag\" or index a text document, or key sentences (including headings) that collectively comprise an abstract, and representative images or video segments, as stated above. For text, extraction is analogous to the process of skimming, where the summary (if available), headings and subheadings, figures, the first and last paragraphs of a section, and optionally the first and last sentences in a paragraph are read before one chooses to read the entire document in detail.[10] Other examples of extraction that include key sequences of text in terms of clinical relevance (including patient/problem, intervention, and outcome).[11]\\n\\nAbstractive summarization methods generate new text that did not exist in the original text.[12] This has been applied mainly for text. Abstractive methods build an internal semantic representation of the original content (often called a language model), and then use this representation to create a summary that is closer to what a human might express. Abstraction may transform the extracted content by paraphrasing sections of the source document, to condense a text more strongly than extraction. Such transformation, however, is computationally much more challenging than extraction, involving both natural language processing and often a deep understanding of the domain of the original text in cases where the original document relates to a special field of knowledge. \"Paraphrasing\" is even more difficult to apply to images and videos, which is why most summarization systems are extractive.\\n\\nApproaches aimed at higher summarization quality rely on combined software and human effort. In Machine Aided Human Summarization, extractive techniques highlight candidate passages for inclusion (to which the human adds or removes text). In Human Aided Machine Summarization, a human post-processes software output, in the same way that one edits the output of automatic translation by Google Translate.\\n\\nThere are broadly two types of extractive summarization tasks depending on what the summarization program focuses on. The first is generic summarization, which focuses on obtaining a generic summary or abstract of the collection (whether documents, or sets of images, or videos, news stories etc.). The second is query relevant summarization, sometimes called query-based summarization, which summarizes objects specific to a query. Summarization systems are able to create both query relevant text summaries and generic machine-generated summaries depending on what the user needs.\\n\\nAn example of a summarization problem is document summarization, which attempts to automatically produce an abstract from a given document. Sometimes one might be interested in generating a summary from a single source document, while others can use multiple source documents (for example, a cluster of articles on the same topic). This problem is called multi-document summarization. A related application is summarizing news articles. Imagine a system, which automatically pulls together news articles on a given topic (from the web), and concisely represents the latest news as a summary.\\n\\nImage collection summarization is another application example of automatic summarization. It consists in selecting a representative set of images from a larger set of images.[13] A summary in this context is useful to show the most representative images of results in an image collection exploration system. Video summarization is a related domain, where the system automatically creates a trailer of a long video. This also has applications in consumer or personal videos, where one might want to skip the boring or repetitive actions. Similarly, in surveillance videos, one would want to extract important and suspicious activity, while ignoring all the boring and redundant frames captured.\\n\\nAt a very high level, summarization algorithms try to find subsets of objects (like set of sentences, or a set of images), which cover information of the entire set. This is also called the core-set. These algorithms model notions like diversity, coverage, information and representativeness of the summary. Query based summarization techniques, additionally model for relevance of the summary with the query. Some techniques and algorithms which naturally model summarization problems are TextRank and PageRank, Submodular set function, Determinantal point process, maximal marginal relevance (MMR) etc.\\n\\nThe task is the following. You are given a piece of text, such as a journal article, and you must produce a list of keywords or key[phrase]s that capture the primary topics discussed in the text.[14] In the case of research articles, many authors provide manually assigned keywords, but most text lacks pre-existing keyphrases. For example, news articles rarely have keyphrases attached, but it would be useful to be able to automatically do so for a number of applications discussed below. Consider the example text from a news article:\\n\\nA keyphrase extractor might select \"Army Corps of Engineers\", \"President Bush\", \"New Orleans\", and \"defective flood-control pumps\" as keyphrases. These are pulled directly from the text. In contrast, an abstractive keyphrase system would somehow internalize the content and generate keyphrases that do not appear in the text, but more closely resemble what a human might produce, such as \"political negligence\" or \"inadequate protection from floods\". Abstraction requires a deep understanding of the text, which makes it difficult for a computer system. Keyphrases have many applications. They can enable document browsing by providing a short summary, improve information retrieval (if documents have keyphrases assigned, a user could search by keyphrase to produce more reliable hits than a full-text search), and be employed in generating index entries for a large text corpus.\\n\\nDepending on the different literature and the definition of key terms, words or phrases, keyword extraction is a highly related theme.\\n\\nBeginning with the work of Turney,[15] many researchers have approached keyphrase extraction as a supervised machine learning problem. Given a document, we construct an example for each unigram, bigram, and trigram found in the text (though other text units are also possible, as discussed below). We then compute various features describing each example (e.g., does the phrase begin with an upper-case letter?). We assume there are known keyphrases available for a set of training documents. Using the known keyphrases, we can assign positive or negative labels to the examples. Then we learn a classifier that can discriminate between positive and negative examples as a function of the features. Some classifiers make a binary classification for a test example, while others assign a probability of being a keyphrase. For instance, in the above text, we might learn a rule that says phrases with initial capital letters are likely to be keyphrases. After training a learner, we can select keyphrases for test documents in the following manner. We apply the same example-generation strategy to the test documents, then run each example through the learner. We can determine the keyphrases by looking at binary classification decisions or probabilities returned from our learned model. If probabilities are given, a threshold is used to select the keyphrases. Keyphrase extractors are generally evaluated using precision and recall. Precision measures how many of the proposed keyphrases are actually correct. Recall measures how many of the true keyphrases your system proposed. The two measures can be combined in an F-score, which is the harmonic mean of the two (F = 2PR/(P + R) ). Matches between the proposed keyphrases and the known keyphrases can be checked after stemming or applying some other text normalization.\\n\\nDesigning a supervised keyphrase extraction system involves deciding on several choices (some of these apply to unsupervised, too). The first choice is exactly how to generate examples. Turney and others have used all possible unigrams, bigrams, and trigrams without intervening punctuation and after removing stopwords. Hulth showed that you can get some improvement by selecting examples to be sequences of tokens that match certain patterns of part-of-speech tags. Ideally, the mechanism for generating examples produces all the known labeled keyphrases as candidates, though this is often not the case. For example, if we use only unigrams, bigrams, and trigrams, then we will never be able to extract a known keyphrase containing four words. Thus, recall may suffer. However, generating too many examples can also lead to low precision.\\n\\nWe also need to create features that describe the examples and are informative enough to allow a learning algorithm to discriminate keyphrases from non- keyphrases. Typically features involve various term frequencies (how many times a phrase appears in the current text or in a larger corpus), the length of the example, relative position of the first occurrence, various boolean syntactic features (e.g., contains all caps), etc. The Turney paper used about 12 such features. Hulth uses a reduced set of features, which were found most successful in the KEA (Keyphrase Extraction Algorithm) work derived from Turney\\'s seminal paper.\\n\\nIn the end, the system will need to return a list of keyphrases for a test document, so we need to have a way to limit the number. Ensemble methods (i.e., using votes from several classifiers) have been used to produce numeric scores that can be thresholded to provide a user-provided number of keyphrases. This is the technique used by Turney with C4.5 decision trees. Hulth used a single binary classifier so the learning algorithm implicitly determines the appropriate number.\\n\\nOnce examples and features are created, we need a way to learn to predict keyphrases. Virtually any supervised learning algorithm could be used, such as decision trees, Naive Bayes, and rule induction. In the case of Turney\\'s GenEx algorithm, a genetic algorithm is used to learn parameters for a domain-specific keyphrase extraction algorithm. The extractor follows a series of heuristics to identify keyphrases. The genetic algorithm optimizes parameters for these heuristics with respect to performance on training documents with known key phrases.\\n\\nAnother keyphrase extraction algorithm is TextRank. While supervised methods have some nice properties, like being able to produce interpretable rules for what features characterize a keyphrase, they also require a large amount of training data. Many documents with known keyphrases are needed. Furthermore, training on a specific domain tends to customize the extraction process to that domain, so the resulting classifier is not necessarily portable, as some of Turney\\'s results demonstrate. Unsupervised keyphrase extraction removes the need for training data. It approaches the problem from a different angle. Instead of trying to learn explicit features that characterize keyphrases, the TextRank algorithm[16] exploits the structure of the text itself to determine keyphrases that appear \"central\" to the text in the same way that PageRank selects important Web pages. Recall this is based on the notion of \"prestige\" or \"recommendation\" from social networks. In this way, TextRank does not rely on any previous training data at all, but rather can be run on any arbitrary piece of text, and it can produce output simply based on the text\\'s intrinsic properties. Thus the algorithm is easily portable to new domains and languages.\\n\\nTextRank is a general purpose graph-based ranking algorithm for NLP. Essentially, it runs PageRank on a graph specially designed for a particular NLP task. For keyphrase extraction, it builds a graph using some set of text units as vertices. Edges are based on some measure of semantic or lexical similarity between the text unit vertices. Unlike PageRank, the edges are typically undirected and can be weighted to reflect a degree of similarity. Once the graph is constructed, it is used to form a stochastic matrix, combined with a damping factor (as in the \"random surfer model\"), and the ranking over vertices is obtained by finding the eigenvector corresponding to eigenvalue 1 (i.e., the stationary distribution of the random walk on the graph).\\n\\nThe vertices should correspond to what we want to rank. Potentially, we could do something similar to the supervised methods and create a vertex for each unigram, bigram, trigram, etc. However, to keep the graph small, the authors decide to rank individual unigrams in a first step, and then include a second step that merges highly ranked adjacent unigrams to form multi-word phrases. This has a nice side effect of allowing us to produce keyphrases of arbitrary length. For example, if we rank unigrams and find that \"advanced\", \"natural\", \"language\", and \"processing\" all get high ranks, then we would look at the original text and see that these words appear consecutively and create a final keyphrase using all four together. Note that the unigrams placed in the graph can be filtered by part of speech. The authors found that adjectives and nouns were the best to include. Thus, some linguistic knowledge comes into play in this step.\\n\\nEdges are created based on word co-occurrence in this application of TextRank. Two vertices are connected by an edge if the unigrams appear within a window of size N in the original text. N is typically around 2–10. Thus, \"natural\" and \"language\" might be linked in a text about NLP. \"Natural\" and \"processing\" would also be linked because they would both appear in the same string of N words. These edges build on the notion of \"text cohesion\" and the idea that words that appear near each other are likely related in a meaningful way and \"recommend\" each other to the reader.\\n\\nSince this method simply ranks the individual vertices, we need a way to threshold or produce a limited number of keyphrases. The technique chosen is to set a count T to be a user-specified fraction of the total number of vertices in the graph. Then the top T vertices/unigrams are selected based on their stationary probabilities. A post- processing step is then applied to merge adjacent instances of these T unigrams. As a result, potentially more or less than T final keyphrases will be produced, but the number should be roughly proportional to the length of the original text.\\n\\nIt is not initially clear why applying PageRank to a co-occurrence graph would produce useful keyphrases. One way to think about it is the following. A word that appears multiple times throughout a text may have many different co-occurring neighbors. For example, in a text about machine learning, the unigram \"learning\" might co-occur with \"machine\", \"supervised\", \"un-supervised\", and \"semi-supervised\" in four different sentences. Thus, the \"learning\" vertex would be a central \"hub\" that connects to these other modifying words. Running PageRank/TextRank on the graph is likely to rank \"learning\" highly. Similarly, if the text contains the phrase \"supervised classification\", then there would be an edge between \"supervised\" and \"classification\". If \"classification\" appears several other places and thus has many neighbors, its importance would contribute to the importance of \"supervised\". If it ends up with a high rank, it will be selected as one of the top T unigrams, along with \"learning\" and probably \"classification\". In the final post-processing step, we would then end up with keyphrases \"supervised learning\" and \"supervised classification\".\\n\\nIn short, the co-occurrence graph will contain densely connected regions for terms that appear often and in different contexts. A random walk on this graph will have a stationary distribution that assigns large probabilities to the terms in the centers of the clusters. This is similar to densely connected Web pages getting ranked highly by PageRank. This approach has also been used in document summarization, considered below.\\n\\nLike keyphrase extraction, document summarization aims to identify the essence of a text. The only real difference is that now we are dealing with larger text units—whole sentences instead of words and phrases.\\n\\nSupervised text summarization is very much like supervised keyphrase extraction. Basically, if you have a collection of documents and human-generated summaries for them, you can learn features of sentences that make them good candidates for inclusion in the summary. Features might include the position in the document (i.e., the first few sentences are probably important), the number of words in the sentence, etc. The main difficulty in supervised extractive summarization is that the known summaries must be manually created by extracting sentences so the sentences in an original training document can be labeled as \"in summary\" or \"not in summary\". This is not typically how people create summaries, so simply using journal abstracts or existing summaries is usually not sufficient. The sentences in these summaries do not necessarily match up with sentences in the original text, so it would be difficult to assign labels to examples for training. Note, however, that these natural summaries can still be used for evaluation purposes, since ROUGE-1 evaluation only considers unigrams.\\n\\nDuring the DUC 2001 and 2002 evaluation workshops, TNO developed a sentence extraction system for multi-document summarization in the news domain. The system was based on a hybrid system using a Naive Bayes classifier and statistical language models for modeling salience. Although the system exhibited good results, the researchers wanted to explore the effectiveness of a maximum entropy (ME) classifier for the meeting summarization task, as ME is known to be robust against feature dependencies. Maximum entropy has also been applied successfully for summarization in the broadcast news domain.\\n\\nA promising approach is adaptive document/text summarization.[17] It involves first recognizing the text genre and then applying summarization algorithms optimized for this genre. Such software has been created.[18]\\n\\nThe unsupervised approach to summarization is also quite similar in spirit to unsupervised keyphrase extraction and gets around the issue of costly training data. Some unsupervised summarization approaches are based on finding a \"centroid\" sentence, which is the mean word vector of all the sentences in the document. Then the sentences can be ranked with regard to their similarity to this centroid sentence.\\n\\nA more principled way to estimate sentence importance is using random walks and eigenvector centrality. LexRank[19] is an algorithm essentially identical to TextRank, and both use this approach for document summarization. The two methods were developed by different groups at the same time, and LexRank simply focused on summarization, but could just as easily be used for keyphrase extraction or any other NLP ranking task.\\n\\nIn both LexRank and TextRank, a graph is constructed by creating a vertex for each sentence in the document.\\n\\nThe edges between sentences are based on some form of semantic similarity or content overlap. While LexRank uses cosine similarity of TF-IDF vectors, TextRank uses a very similar measure based on the number of words two sentences have in common (normalized by the sentences\\' lengths). The LexRank paper explored using unweighted edges after applying a threshold to the cosine values, but also experimented with using edges with weights equal to the similarity score. TextRank uses continuous similarity scores as weights.\\n\\nIn both algorithms, the sentences are ranked by applying PageRank to the resulting graph. A summary is formed by combining the top ranking sentences, using a threshold or length cutoff to limit the size of the summary.\\n\\nIt is worth noting that TextRank was applied to summarization exactly as described here, while LexRank was used as part of a larger summarization system (MEAD) that combines the LexRank score (stationary probability) with other features like sentence position and length using a linear combination with either user-specified or automatically tuned weights. In this case, some training documents might be needed, though the TextRank results show the additional features are not absolutely necessary.\\n\\nUnlike TextRank, LexRank has been applied to multi-document summarization.\\n\\nMulti-document summarization is an automatic procedure aimed at extraction of information from multiple texts written about the same topic. Resulting summary report allows individual users, such as professional information consumers, to quickly familiarize themselves with information contained in a large cluster of documents. In such a way, multi-document summarization systems are complementing the news aggregators performing the next step down the road of coping with information overload. Multi-document summarization may also be done in response to a question.[20][11]\\n\\nMulti-document summarization creates information reports that are both concise and comprehensive. With different opinions being put together and outlined, every topic is described from multiple perspectives within a single document. While the goal of a brief summary is to simplify information search and cut the time by pointing to the most relevant source documents, comprehensive multi-document summary should itself contain the required information, hence limiting the need for accessing original files to cases when refinement is required. Automatic summaries present information extracted from multiple sources algorithmically, without any editorial touch or subjective human intervention, thus making it completely unbiased.[dubious – discuss]\\n\\nMulti-document extractive summarization faces a problem of redundancy. Ideally, we want to extract sentences that are both \"central\" (i.e., contain the main ideas) and \"diverse\" (i.e., they differ from one another). For example, in a set of news articles about some event, each article is likely to have many similar sentences. To address this issue, LexRank applies a heuristic post-processing step that adds sentences in rank order, but discards sentences that are too similar to ones already in the summary. This method is called Cross-Sentence Information Subsumption (CSIS). These methods work based on the idea that sentences \"recommend\" other similar sentences to the reader. Thus, if one sentence is very similar to many others, it will likely be a sentence of great importance. Its importance also stems from the importance of the sentences \"recommending\" it. Thus, to get ranked highly and placed in a summary, a sentence must be similar to many sentences that are in turn also similar to many other sentences. This makes intuitive sense and allows the algorithms to be applied to an arbitrary new text. The methods are domain-independent and easily portable. One could imagine the features indicating important sentences in the news domain might vary considerably from the biomedical domain. However, the unsupervised \"recommendation\"-based approach applies to any domain.\\n\\nA related method is Maximal Marginal Relevance (MMR),[21] which uses a general-purpose graph-based ranking algorithm like Page/Lex/TextRank that handles both \"centrality\" and \"diversity\" in a unified mathematical framework based on absorbing Markov chain random walks (a random walk where certain states end the walk). The algorithm is called GRASSHOPPER.[22] In addition to explicitly promoting diversity during the ranking process, GRASSHOPPER incorporates a prior ranking (based on sentence position in the case of summarization).\\n\\nThe state of the art results for multi-document summarization are obtained using mixtures of submodular functions. These methods have achieved the state of the art results for Document Summarization Corpora, DUC 04 - 07.[23] Similar results were achieved with the use of determinantal point processes (which are a special case of submodular functions) for DUC-04.[24]\\n\\nA new method for multi-lingual multi-document summarization that avoids redundancy generates ideograms to represent the meaning of each sentence in each document, then evaluates similarity by comparing ideogram shape and position. It does not use word frequency, training or preprocessing. It uses two user-supplied parameters: equivalence (when are two sentences to be considered equivalent?) and relevance (how long is the desired summary?).\\n\\nThe idea of a submodular set function has recently emerged as a powerful modeling tool for various summarization problems. Submodular functions naturally model notions of coverage, information, representation and diversity. Moreover, several important combinatorial optimization problems occur as special instances of submodular optimization. For example, the set cover problem is a special case of submodular optimization, since the set cover function is submodular. The set cover function attempts to find a subset of objects which cover a given set of concepts. For example, in document summarization, one would like the summary to cover all important and relevant concepts in the document. This is an instance of set cover. Similarly, the facility location problem is a special case of submodular functions. The Facility Location function also naturally models coverage and diversity. Another example of a submodular optimization problem is using a determinantal point process to model diversity. Similarly, the Maximum-Marginal-Relevance procedure can also be seen as an instance of submodular optimization. All these important models encouraging coverage, diversity and information are all submodular. Moreover, submodular functions can be efficiently combined, and the resulting function is still submodular. Hence, one could combine one submodular function which models diversity, another one which models coverage and use human supervision to learn a right model of a submodular function for the problem.\\n\\nWhile submodular functions are fitting problems for summarization, they also admit very efficient algorithms for optimization. For example, a simple greedy algorithm admits a constant factor guarantee.[25] Moreover, the greedy algorithm is extremely simple to implement and can scale to large datasets, which is very important for summarization problems.\\n\\nSubmodular functions have achieved state-of-the-art for almost all summarization problems. For example, work by Lin and Bilmes, 2012[26] shows that submodular functions achieve the best results to date on DUC-04, DUC-05, DUC-06 and DUC-07 systems for document summarization. Similarly, work by Lin and Bilmes, 2011,[27] shows that many existing systems for automatic summarization are instances of submodular functions. This was a breakthrough result establishing submodular functions as the right models for summarization problems.[citation needed]\\n\\nSubmodular Functions have also been used for other summarization tasks. Tschiatschek et al., 2014 show[28] that mixtures of submodular functions achieve state-of-the-art results for image collection summarization. Similarly, Bairi et al., 2015[29] show the utility of submodular functions for summarizing multi-document topic hierarchies. Submodular Functions have also successfully been used for summarizing machine learning datasets.[30]\\n• The Reddit bot \"autotldr\",[31] created in 2011 summarizes news articles in the comment-section of reddit posts. It was found to be very useful by the reddit community which upvoted its summaries hundreds of thousands of times.[32] The name is reference to TL;DR − Internet slang for \"too long; didn\\'t read\".[33][34]\\n• Adversarial stylometry may make use of summaries, if the detail lost is not major and the summary is sufficiently stylistically different to the input.\\n\\nThe most common way to evaluate the informativeness of automatic summaries is to compare them with human-made model summaries.\\n\\nEvaluation can be intrinsic or extrinsic,[36] and inter-textual or intra-textual.[37]\\n\\nIntrinsic evaluation assesses the summaries directly, while extrinsic evaluation evaluates how the summarization system affects the completion of some other task. Intrinsic evaluations have assessed mainly the coherence and informativeness of summaries. Extrinsic evaluations, on the other hand, have tested the impact of summarization on tasks like relevance assessment, reading comprehension, etc.\\n\\nIntra-textual evaluation assess the output of a specific summarization system, while inter-textual evaluation focuses on contrastive analysis of outputs of several summarization systems.\\n\\nHuman judgement often varies greatly in what it considers a \"good\" summary, so creating an automatic evaluation process is particularly difficult. Manual evaluation can be used, but this is both time and labor-intensive, as it requires humans to read not only the summaries but also the source documents. Other issues are those concerning coherence and coverage.\\n\\nThe most common way to evaluate summaries is ROUGE (Recall-Oriented Understudy for Gisting Evaluation). It is very common for summarization and translation systems in NIST\\'s Document Understanding Conferences.[2] ROUGE is a recall-based measure of how well a summary covers the content of human-generated summaries known as references. It calculates n-gram overlaps between automatically generated summaries and previously written human summaries. It is recall-based to encourage inclusion of all important topics in summaries. Recall can be computed with respect to unigram, bigram, trigram, or 4-gram matching. For example, ROUGE-1 is the fraction of unigrams that appear in both the reference summary and the automatic summary out of all unigrams in the reference summary. If there are multiple reference summaries, their scores are averaged. A high level of overlap should indicate a high degree of shared concepts between the two summaries.\\n\\nROUGE cannot determine if the result is coherent, that is if sentences flow together in a sensibly. High-order n-gram ROUGE measures help to some degree.\\n\\nAnother unsolved problem is Anaphor resolution. Similarly, for image summarization, Tschiatschek et al., developed a Visual-ROUGE score which judges the performance of algorithms for image summarization.[38]\\n\\nDomain-independent summarization techniques apply sets of general features to identify information-rich text segments. Recent research focuses on domain-specific summarization using knowledge specific to the text\\'s domain, such as medical knowledge and ontologies for summarizing medical texts.[39]\\n\\nThe main drawback of the evaluation systems so far is that we need a reference summary (for some methods, more than one), to compare automatic summaries with models. This is a hard and expensive task. Much effort has to be made to create corpora of texts and their corresponding summaries. Furthermore, some methods require manual annotation of the summaries (e.g. SCU in the Pyramid Method). Moreover, they all perform a quantitative evaluation with regard to different similarity metrics.\\n\\nThe first publication in the area dates back to 1957 [40] (Hans Peter Luhn), starting with a statistical technique. Research increased significantly in 2015. Term frequency–inverse document frequency had been used by 2016. Pattern-based summarization was the most powerful option for multi-document summarization found by 2016. In the following year it was surpassed by latent semantic analysis (LSA) combined with non-negative matrix factorization (NMF). Although they did not replace other approaches and are often combined with them, by 2019 machine learning methods dominated the extractive summarization of single documents, which was considered to be nearing maturity. By 2020, the field was still very active and research is shifting towards abstractive summation and real-time summarization.[41]\\n\\nRecently the rise of transformer models replacing more traditional RNN (LSTM) have provided a flexibility in the mapping of text sequences to text sequences of a different type, which is well suited to automatic summarization. This includes models such as T5[42] and Pegasus.[43]\\n• None Potthast, Martin; Hagen, Matthias; Stein, Benno (2016). Author Obfuscation: Attacking the State of the Art in Authorship Verification . Conference and Labs of the Evaluation Forum.\\n• None Roxana, Angheluta (2002). The Use of Topic Segmentation for Automatic Summarization.\\n• None Elena, Lloret and Manuel, Palomar (2009). Challenging Issues of Automatic Summarization: Relevance Detection and Quality-based Evaluation. Archived from the original on 2018-10-03 .\\n• None Alrehamy, Hassan (2018). \"SemCluster: Unsupervised Automatic Keyphrase Extraction Using Affinity Propagation\". Advances in Computational Intelligence Systems. Advances in Intelligent Systems and Computing. Vol. 650. pp. 222–235. doi:10.1007/978-3-319-66939-7_19. ISBN .\\n• None Marcu, Daniel (2000). The Theory and Practice of Discourse Parsing and Summarization. MIT Press. ISBN .\\n• , Published in Proceeding RIAO\\'10 Adaptivity, Personalization and Fusion of Heterogeneous Information, CID Paris, France\\n• None Xiaojin, Zhu, Andrew Goldberg, Jurgen Van Gael, and David Andrzejewski (2007). Improving diversity in ranking using absorbing random walks . , The GRASSHOPPER algorithm\\n• None Miranda-Jiménez, Sabino, Gelbukh, Alexander, and Sidorov, Grigori (2013). \"Summarizing Conceptual Graphs for Automatic Summarization Task\". Conceptual Structures for STEM Research and Education. Lecture Notes in Computer Science. Vol. 7735. pp. 245–253. doi:10.1007/978-3-642-35786-2_18. ISBN . , Conceptual Structures for STEM Research and Education.',\n",
              " 'opengraph': {'title': 'Automatic summarization - Wikipedia',\n",
              "  'type': 'website'},\n",
              " 'tags': [],\n",
              " 'tweets': [],\n",
              " 'movies': [],\n",
              " 'links': ['/wiki/File:Question_book-new.svg',\n",
              "  '/wiki/Wikipedia:Verifiability',\n",
              "  'https://www.google.com/search?as_eq=wikipedia&q=%22Automatic+summarization%22',\n",
              "  'https://www.google.com/search?tbm=nws&q=%22Automatic+summarization%22+-wikipedia&tbs=ar:1',\n",
              "  'https://www.google.com/search?&q=%22Automatic+summarization%22&tbs=bkt:s&tbm=bks',\n",
              "  'https://www.google.com/search?tbs=bks:1&q=%22Automatic+summarization%22+-wikipedia',\n",
              "  'https://scholar.google.com/scholar?q=%22Automatic+summarization%22',\n",
              "  'https://www.jstor.org/action/doBasicSearch?Query=%22Automatic+summarization%22&acc=on&wc=on',\n",
              "  '/wiki/Special:EditPage/Automatic_summarization',\n",
              "  '/wiki/Help:Referencing_for_beginners',\n",
              "  '/wiki/Help:Maintenance_template_removal',\n",
              "  '/wiki/Abstract_(summary)',\n",
              "  '/wiki/Artificial_intelligence',\n",
              "  '/wiki/Algorithm',\n",
              "  '/wiki/Plain_text',\n",
              "  '/wiki/Natural_language_processing',\n",
              "  '#cite_note-Torres2014-1',\n",
              "  '/wiki/Computer_vision',\n",
              "  '/wiki/Image',\n",
              "  '#cite_note-2',\n",
              "  '#cite_note-3',\n",
              "  '#cite_note-4',\n",
              "  '#cite_note-PalPetrosino2012-5',\n",
              "  '#cite_note-Elhamifar2012-6',\n",
              "  '#cite_note-Mademlis2016-7',\n",
              "  '#cite_note-Mademlis2018-8',\n",
              "  '/wiki/Video_synopsis',\n",
              "  '/w/index.php?title=Automatic_summarization&action=edit&section=1',\n",
              "  '/wiki/Google_Docs',\n",
              "  '#cite_note-9',\n",
              "  '/w/index.php?title=Automatic_summarization&action=edit&section=2',\n",
              "  '/wiki/Information_extraction',\n",
              "  '/wiki/Abstract_(summary)',\n",
              "  '/w/index.php?title=Automatic_summarization&action=edit&section=3',\n",
              "  '#cite_note-10',\n",
              "  '#cite_note-Afzal_et_al-11',\n",
              "  '/w/index.php?title=Automatic_summarization&action=edit&section=4',\n",
              "  '#cite_note-12',\n",
              "  '/wiki/Automated_paraphrasing',\n",
              "  '/wiki/Natural_language_processing',\n",
              "  '/w/index.php?title=Automatic_summarization&action=edit&section=5',\n",
              "  '/w/index.php?title=Automatic_summarization&action=edit&section=6',\n",
              "  '/wiki/Cluster_analysis',\n",
              "  '/wiki/Multi-document_summarization',\n",
              "  '#cite_note-13',\n",
              "  '/wiki/Image_collection_exploration',\n",
              "  '/wiki/Submodular_set_function',\n",
              "  '/wiki/Determinantal_point_process',\n",
              "  '/w/index.php?title=Automatic_summarization&action=edit&section=7',\n",
              "  '#cite_note-14',\n",
              "  '/wiki/Research_article',\n",
              "  '/wiki/Natural-language_understanding',\n",
              "  '/wiki/Information_retrieval',\n",
              "  '/wiki/Full-text_search',\n",
              "  '/wiki/Keyword_extraction',\n",
              "  '/w/index.php?title=Automatic_summarization&action=edit&section=8',\n",
              "  '#cite_note-15',\n",
              "  '/wiki/Supervised_machine_learning',\n",
              "  '/wiki/Unigram',\n",
              "  '/wiki/Bigram',\n",
              "  '/wiki/Binary_classification',\n",
              "  '/wiki/Precision_and_recall',\n",
              "  '/wiki/Naive_Bayes',\n",
              "  '/wiki/Genetic_algorithm',\n",
              "  '/w/index.php?title=Automatic_summarization&action=edit&section=9',\n",
              "  '/wiki/Training_set',\n",
              "  '#cite_note-16',\n",
              "  '/wiki/PageRank',\n",
              "  '/wiki/Social_network',\n",
              "  '/wiki/Graph_(abstract_data_type)',\n",
              "  '/wiki/Natural_language_processing',\n",
              "  '/wiki/Lexical_(semiotics)',\n",
              "  '/wiki/Semantic_similarity',\n",
              "  '/wiki/Eigenvalue',\n",
              "  '/wiki/Stationary_distribution',\n",
              "  '/wiki/Random_walk',\n",
              "  '/wiki/Co-occurrence',\n",
              "  '/wiki/Unigram',\n",
              "  '/wiki/Cohesion_(linguistics)',\n",
              "  '/w/index.php?title=Automatic_summarization&action=edit&section=10',\n",
              "  '/w/index.php?title=Automatic_summarization&action=edit&section=11',\n",
              "  '/w/index.php?title=Automatic_summarization&action=edit&section=12',\n",
              "  '/wiki/Netherlands_Organisation_for_Applied_Scientific_Research',\n",
              "  '/wiki/Naive_Bayes_classifier',\n",
              "  '/wiki/Maximum_entropy_classifier',\n",
              "  '/w/index.php?title=Automatic_summarization&action=edit&section=13',\n",
              "  '#cite_note-17',\n",
              "  '#cite_note-18',\n",
              "  '/w/index.php?title=Automatic_summarization&action=edit&section=14',\n",
              "  '/wiki/Centroid',\n",
              "  '#cite_note-19',\n",
              "  '/wiki/Cosine_similarity',\n",
              "  '/wiki/TF-IDF',\n",
              "  '/wiki/Quantile_normalization',\n",
              "  '/wiki/Similarity_score',\n",
              "  '/w/index.php?title=MEAD&action=edit&redlink=1',\n",
              "  '/wiki/Linear_combination',\n",
              "  '/w/index.php?title=Automatic_summarization&action=edit&section=15',\n",
              "  '/wiki/Multi-document_summarization',\n",
              "  '/wiki/News_aggregators',\n",
              "  '/wiki/Information_overload',\n",
              "  '#cite_note-20',\n",
              "  '#cite_note-Afzal_et_al-11',\n",
              "  '/wiki/Wikipedia:Accuracy_dispute#Disputed_statement',\n",
              "  '/wiki/Talk:Automatic_summarization#Dubious',\n",
              "  '/w/index.php?title=Automatic_summarization&action=edit&section=16',\n",
              "  '#cite_note-21',\n",
              "  '/wiki/Absorbing_Markov_chain',\n",
              "  '#cite_note-22',\n",
              "  '#cite_note-23',\n",
              "  '#cite_note-24',\n",
              "  '/w/index.php?title=Automatic_summarization&action=edit&section=17',\n",
              "  '/wiki/Submodular_set_function',\n",
              "  '/wiki/Combinatorial_optimization',\n",
              "  '/wiki/Set_cover_problem',\n",
              "  '/wiki/Optimal_facility_location',\n",
              "  '/wiki/Determinantal_point_process',\n",
              "  '/wiki/Greedy_algorithm',\n",
              "  '#cite_note-25',\n",
              "  '#cite_note-26',\n",
              "  '#cite_note-27',\n",
              "  '/wiki/Wikipedia:Citation_needed',\n",
              "  '#cite_note-28',\n",
              "  '#cite_note-29',\n",
              "  '#cite_note-30',\n",
              "  '/w/index.php?title=Automatic_summarization&action=edit&section=18',\n",
              "  '/wiki/File:Wiki_letter_w_cropped.svg',\n",
              "  'https://en.wikipedia.org/w/index.php?title=Automatic_summarization&action=edit&section=',\n",
              "  '/wiki/Reddit',\n",
              "  '/wiki/Internet_bot',\n",
              "  '#cite_note-31',\n",
              "  '#cite_note-32',\n",
              "  '/wiki/TL;DR',\n",
              "  '/wiki/Internet_slang',\n",
              "  '#cite_note-33',\n",
              "  '#cite_note-34',\n",
              "  '/wiki/Adversarial_stylometry',\n",
              "  '/w/index.php?title=Automatic_summarization&action=edit&section=19',\n",
              "  '#cite_note-36',\n",
              "  '#cite_note-37',\n",
              "  '/w/index.php?title=Automatic_summarization&action=edit&section=20',\n",
              "  '/w/index.php?title=Automatic_summarization&action=edit&section=21',\n",
              "  '/wiki/Coherence_(linguistics)',\n",
              "  '/wiki/ROUGE_(metric)',\n",
              "  '/wiki/NIST',\n",
              "  'https://web.archive.org/web/20060408135021/http://haydn.isi.edu/ROUGE/',\n",
              "  '/wiki/N-gram',\n",
              "  '/wiki/Anaphora_(linguistics)',\n",
              "  '#cite_note-38',\n",
              "  '/w/index.php?title=Automatic_summarization&action=edit&section=22',\n",
              "  '#cite_note-39',\n",
              "  '/w/index.php?title=Automatic_summarization&action=edit&section=23',\n",
              "  '/w/index.php?title=Automatic_summarization&action=edit&section=24',\n",
              "  '#cite_note-40',\n",
              "  '/wiki/Hans_Peter_Luhn',\n",
              "  '/wiki/Term_frequency%E2%80%93inverse_document_frequency',\n",
              "  '/wiki/Latent_semantic_analysis',\n",
              "  '/wiki/Non-negative_matrix_factorization',\n",
              "  '#cite_note-41',\n",
              "  '/w/index.php?title=Automatic_summarization&action=edit&section=25',\n",
              "  '/wiki/Transformer_(machine_learning_model)',\n",
              "  '/wiki/Rnn_(software)',\n",
              "  '/wiki/LSTM',\n",
              "  '#cite_note-42',\n",
              "  '#cite_note-43',\n",
              "  '/w/index.php?title=Automatic_summarization&action=edit&section=26',\n",
              "  '/wiki/Sentence_extraction',\n",
              "  '/wiki/Text_mining',\n",
              "  '/wiki/Multi-document_summarization',\n",
              "  '/w/index.php?title=Automatic_summarization&action=edit&section=27',\n",
              "  '#cite_ref-Torres2014_1-0',\n",
              "  'https://www.wiley.com/en-gb/Automatic+Text+Summarization-p-9781848216686',\n",
              "  '/wiki/ISBN_(identifier)',\n",
              "  '/wiki/Special:BookSources/978-1-848-21668-6',\n",
              "  '#cite_ref-2',\n",
              "  '/wiki/Doi_(identifier)',\n",
              "  'https://doi.org/10.1109%2Ftvcg.2019.2948611',\n",
              "  '/wiki/ISSN_(identifier)',\n",
              "  'https://www.worldcat.org/issn/1077-2626',\n",
              "  '/wiki/PMID_(identifier)',\n",
              "  'https://pubmed.ncbi.nlm.nih.gov/31647438',\n",
              "  '/wiki/S2CID_(identifier)',\n",
              "  'https://api.semanticscholar.org/CorpusID:204865221',\n",
              "  '#cite_ref-3',\n",
              "  'https://www.proquest.com/docview/1986931333',\n",
              "  '/wiki/ProQuest_(identifier)',\n",
              "  'https://search.proquest.com/docview/1986931333',\n",
              "  '#cite_ref-4',\n",
              "  '/wiki/Doi_(identifier)',\n",
              "  'https://doi.org/10.1109%2Fmcg.2011.89',\n",
              "  '/wiki/ISSN_(identifier)',\n",
              "  'https://www.worldcat.org/issn/0272-1716',\n",
              "  '/wiki/PMID_(identifier)',\n",
              "  'https://pubmed.ncbi.nlm.nih.gov/24808292',\n",
              "  '/wiki/S2CID_(identifier)',\n",
              "  'https://api.semanticscholar.org/CorpusID:7668289',\n",
              "  '#cite_ref-PalPetrosino2012_5-0',\n",
              "  'https://books.google.com/books?id=O0fNBQAAQBAJ&q=video+surveillance+summarization&pg=PA81',\n",
              "  '/wiki/ISBN_(identifier)',\n",
              "  '/wiki/Special:BookSources/978-1-4398-5685-7',\n",
              "  '#cite_ref-Elhamifar2012_6-0',\n",
              "  'https://ieeexplore.ieee.org/document/6247852',\n",
              "  '/wiki/Doi_(identifier)',\n",
              "  'https://doi.org/10.1109%2FCVPR.2012.6247852',\n",
              "  '/wiki/ISBN_(identifier)',\n",
              "  '/wiki/Special:BookSources/978-1-4673-1228-8',\n",
              "  '/wiki/S2CID_(identifier)',\n",
              "  'https://api.semanticscholar.org/CorpusID:5909301',\n",
              "  '#cite_ref-Mademlis2016_7-0',\n",
              "  'https://ieeexplore.ieee.org/document/7583677',\n",
              "  '/wiki/Bibcode_(identifier)',\n",
              "  'https://ui.adsabs.harvard.edu/abs/2016ITIP...25.5828M',\n",
              "  '/wiki/Doi_(identifier)',\n",
              "  'https://doi.org/10.1109%2FTIP.2016.2615289',\n",
              "  '/wiki/Hdl_(identifier)',\n",
              "  'https://hdl.handle.net/1983%2F2bcdd7a5-825f-4ac9-90ec-f2f538bfcb72',\n",
              "  '/wiki/PMID_(identifier)',\n",
              "  'https://pubmed.ncbi.nlm.nih.gov/28113502',\n",
              "  '/wiki/S2CID_(identifier)',\n",
              "  'https://api.semanticscholar.org/CorpusID:18566122',\n",
              "  '#cite_ref-Mademlis2018_8-0',\n",
              "  'https://www.sciencedirect.com/science/article/abs/pii/S0020025517311398',\n",
              "  '/wiki/Doi_(identifier)',\n",
              "  'https://doi.org/10.1016%2Fj.ins.2017.12.020',\n",
              "  '#cite_ref-9',\n",
              "  'http://ai.googleblog.com/2022/03/auto-generated-summaries-in-google-docs.html',\n",
              "  '#cite_ref-10',\n",
              "  'https://www.dummies.com/education/language-arts/speed-reading/how-to-skim-text/',\n",
              "  '#cite_ref-Afzal_et_al_11-0',\n",
              "  '#cite_ref-Afzal_et_al_11-1',\n",
              "  'https://www.jmir.org/2020/10/e19810/',\n",
              "  '#cite_ref-12',\n",
              "  'https://www.worldcat.org/oclc/957355971',\n",
              "  '/wiki/ISBN_(identifier)',\n",
              "  '/wiki/Special:BookSources/978-1-970001-19-8',\n",
              "  '/wiki/OCLC_(identifier)',\n",
              "  'https://www.worldcat.org/oclc/957355971',\n",
              "  '#cite_ref-13',\n",
              "  '/wiki/Doi_(identifier)',\n",
              "  'https://doi.org/10.1007%2F978-3-642-10268-4_64',\n",
              "  '#cite_ref-14',\n",
              "  '/wiki/Doi_(identifier)',\n",
              "  'https://doi.org/10.1007%2F978-3-319-66939-7_19',\n",
              "  '/wiki/ISBN_(identifier)',\n",
              "  '/wiki/Special:BookSources/978-3-319-66938-0',\n",
              "  '#cite_ref-15',\n",
              "  '/wiki/ArXiv_(identifier)',\n",
              "  'https://arxiv.org/abs/cs/0212020',\n",
              "  '/wiki/Bibcode_(identifier)',\n",
              "  'https://ui.adsabs.harvard.edu/abs/2002cs.......12020T',\n",
              "  '/wiki/Doi_(identifier)',\n",
              "  'https://doi.org/10.1023%2FA%3A1009976227802',\n",
              "  '/wiki/S2CID_(identifier)',\n",
              "  'https://api.semanticscholar.org/CorpusID:7007323',\n",
              "  '#cite_ref-16',\n",
              "  'https://web.archive.org/web/20120617170501/http://acl.ldc.upenn.edu/acl2004/emnlp/pdf/Mihalcea.pdf',\n",
              "  '#cite_ref-17',\n",
              "  '/wiki/Doi_(identifier)',\n",
              "  'https://doi.org/10.3103%2FS0005105510030027',\n",
              "  '/wiki/S2CID_(identifier)',\n",
              "  'https://api.semanticscholar.org/CorpusID:1586931',\n",
              "  '#cite_ref-18',\n",
              "  'http://yatsko.zohosites.com/universal-summarizer-unis.html',\n",
              "  '#cite_ref-19',\n",
              "  'https://www.cs.cmu.edu/afs/cs/project/jair/pub/volume22/erkan04a-html/erkan04a.html',\n",
              "  '#cite_ref-20',\n",
              "  'https://www.academia.edu/2475776/Versatile_question_answering_systems_seeing_in_synthesis',\n",
              "  '#cite_ref-21',\n",
              "  'https://www.cs.cmu.edu/afs/.cs.cmu.edu/Web/People/jgc/publication/MMR_DiversityBased_Reranking_SIGIR_1998.pdf',\n",
              "  '#cite_ref-22',\n",
              "  'http://www.aclweb.org/anthology/N07-1013',\n",
              "  '#cite_ref-23',\n",
              "  'https://arxiv.org/abs/1210.4871',\n",
              "  '#cite_ref-24',\n",
              "  'http://www.nowpublishers.com/article/DownloadSummary/MAL-044',\n",
              "  '#cite_ref-25',\n",
              "  '#cite_ref-26',\n",
              "  'https://arxiv.org/abs/1210.4871',\n",
              "  '#cite_ref-27',\n",
              "  'http://www.aclweb.org/anthology/P11-1052',\n",
              "  '#cite_ref-28',\n",
              "  'http://papers.nips.cc/paper/5415-learning-mixtures-of-submodular-functions-for-image-collection-summarization.pdf',\n",
              "  '#cite_ref-29',\n",
              "  'http://www.aclweb.org/anthology/P15-1054',\n",
              "  '#cite_ref-30',\n",
              "  'http://www.jmlr.org/proceedings/papers/v37/wei15.pdf',\n",
              "  'https://web.archive.org/web/20170313220928/http://jmlr.org/proceedings/papers/v37/wei15.pdf',\n",
              "  '/wiki/Wayback_Machine',\n",
              "  '#cite_ref-31',\n",
              "  'https://www.reddit.com/user/autotldr',\n",
              "  '#cite_ref-32',\n",
              "  '/wiki/Megan_Squire',\n",
              "  'https://books.google.com/books?id=_qXWDQAAQBAJ&pg=PA185',\n",
              "  '/wiki/ISBN_(identifier)',\n",
              "  '/wiki/Special:BookSources/9781785885914',\n",
              "  '#cite_ref-33',\n",
              "  'https://www.lifewire.com/what-is-tldr-2483633',\n",
              "  '#cite_ref-34',\n",
              "  'http://www.ibtimes.com/what-does-tldr-mean-ama-til-glossary-reddit-terms-abbreviations-431704',\n",
              "  '#cite_ref-36',\n",
              "  'http://research.nii.ac.jp/ntcir/workshop/OnlineProceedings2/sum-mani.pdf',\n",
              "  '#cite_ref-37',\n",
              "  '/wiki/Doi_(identifier)',\n",
              "  'https://doi.org/10.3103%2FS0005105507030041',\n",
              "  '/wiki/S2CID_(identifier)',\n",
              "  'https://api.semanticscholar.org/CorpusID:7853204',\n",
              "  '#cite_ref-38',\n",
              "  'http://papers.nips.cc/paper/5415-learning-mixtures-of-submodular-functions-for-image-collection-summarization.pdf',\n",
              "  '#cite_ref-39',\n",
              "  '/wiki/Doi_(identifier)',\n",
              "  'https://doi.org/10.1007%2F978-3-642-38326-7_41',\n",
              "  '/wiki/ISBN_(identifier)',\n",
              "  '/wiki/Special:BookSources/978-3-642-38325-0',\n",
              "  '#cite_ref-40',\n",
              "  '#cite_ref-41',\n",
              "  'https://doi.org/10.1016%2Fj.jksuci.2020.05.006',\n",
              "  '/wiki/Doi_(identifier)',\n",
              "  'https://doi.org/10.1016%2Fj.jksuci.2020.05.006',\n",
              "  '/wiki/ISSN_(identifier)',\n",
              "  'https://www.worldcat.org/issn/1319-1578',\n",
              "  '#cite_ref-42',\n",
              "  'http://ai.googleblog.com/2020/02/exploring-transfer-learning-with-t5.html',\n",
              "  '#cite_ref-43',\n",
              "  '/w/index.php?title=Automatic_summarization&action=edit&section=28',\n",
              "  'https://ceur-ws.org/Vol-1609/16090716.pdf',\n",
              "  '/w/index.php?title=Automatic_summarization&action=edit&section=29',\n",
              "  'https://www.researchgate.net/publication/277288103',\n",
              "  'https://www.researchgate.net/publication/2553088',\n",
              "  'https://www.cs.ru.nl/~kraaijw/pubs/Biblio/papers/meeting_sum_tno.pdf',\n",
              "  'https://repository.upenn.edu/cgi/viewcontent.cgi?article=1762&context=cis_papers',\n",
              "  'https://web.archive.org/web/20181003061926/http://www.informatica.si/ojs-2.4.3/index.php/informatica/article/download/273/269',\n",
              "  'http://www.informatica.si/ojs-2.4.3/index.php/informatica/article/download/273/269',\n",
              "  '/wiki/Doi_(identifier)',\n",
              "  'https://doi.org/10.1007%2F978-3-319-66939-7_19',\n",
              "  '/wiki/ISBN_(identifier)',\n",
              "  '/wiki/Special:BookSources/978-3-319-66938-0',\n",
              "  'https://archive.org/details/springer_10.1007-978-3-642-72025-3',\n",
              "  '/wiki/ISBN_(identifier)',\n",
              "  '/wiki/Special:BookSources/978-3-540-63735-6',\n",
              "  '/wiki/ISBN_(identifier)',\n",
              "  '/wiki/Special:BookSources/978-0-262-13372-2',\n",
              "  '/wiki/ISBN_(identifier)',\n",
              "  '/wiki/Special:BookSources/978-1-58811-060-2',\n",
              "  'http://www.jason-huff.com/projects/autosummarize/',\n",
              "  'http://portal.acm.org/citation.cfm?id=1937055.1937111&coll=DL&dl=GUIDE&CFID=23185814&CFTOKEN=40272014/',\n",
              "  'http://pages.cs.wisc.edu/~jerryzhu/pub/grasshopper.pdf',\n",
              "  '/wiki/Doi_(identifier)',\n",
              "  'https://doi.org/10.1007%2F978-3-642-35786-2_18',\n",
              "  '/wiki/ISBN_(identifier)',\n",
              "  '/wiki/Special:BookSources/978-3-642-35785-5',\n",
              "  '/wiki/Natural_language_processing',\n",
              "  '/wiki/AI-complete',\n",
              "  '/wiki/Bag-of-words_model',\n",
              "  '/wiki/N-gram',\n",
              "  '/wiki/Bigram',\n",
              "  '/wiki/Trigram',\n",
              "  '/wiki/Computational_linguistics',\n",
              "  '/wiki/Natural-language_understanding',\n",
              "  '/wiki/Stop_word',\n",
              "  '/wiki/Text_processing',\n",
              "  '/wiki/Text_mining',\n",
              "  '/wiki/Collocation_extraction',\n",
              "  '/wiki/Concept_mining',\n",
              "  '/wiki/Coreference#Coreference_resolution',\n",
              "  '/wiki/Deep_linguistic_processing',\n",
              "  '/wiki/Distant_reading',\n",
              "  '/wiki/Information_extraction',\n",
              "  '/wiki/Named-entity_recognition',\n",
              "  '/wiki/Ontology_learning',\n",
              "  '/wiki/Parsing',\n",
              "  '/wiki/Part-of-speech_tagging',\n",
              "  '/wiki/Semantic_role_labeling',\n",
              "  '/wiki/Semantic_decomposition_(natural_language_processing)',\n",
              "  '/wiki/Semantic_similarity',\n",
              "  '/wiki/Sentiment_analysis',\n",
              "  '/wiki/Syntactic_parsing_(computational_linguistics)',\n",
              "  '/wiki/Terminology_extraction',\n",
              "  '/wiki/Text_mining',\n",
              "  '/wiki/Textual_entailment',\n",
              "  '/wiki/Truecasing',\n",
              "  '/wiki/Word-sense_disambiguation',\n",
              "  '/wiki/Word-sense_induction',\n",
              "  '/wiki/Text_segmentation',\n",
              "  '/wiki/Compound-term_processing',\n",
              "  '/wiki/Lemmatisation',\n",
              "  '/wiki/Lexical_analysis',\n",
              "  '/wiki/Shallow_parsing',\n",
              "  '/wiki/Stemming',\n",
              "  '/wiki/Sentence_boundary_disambiguation',\n",
              "  '/wiki/Word#Word_boundaries',\n",
              "  '/wiki/Multi-document_summarization',\n",
              "  '/wiki/Sentence_extraction',\n",
              "  '/wiki/Text_simplification',\n",
              "  '/wiki/Machine_translation',\n",
              "  '/wiki/Computer-assisted_translation',\n",
              "  '/wiki/Example-based_machine_translation',\n",
              "  '/wiki/Rule-based_machine_translation',\n",
              "  '/wiki/Statistical_machine_translation',\n",
              "  '/wiki/Transfer-based_machine_translation',\n",
              "  '/wiki/Neural_machine_translation',\n",
              "  '/wiki/Distributional_semantics',\n",
              "  '/wiki/BERT_(language_model)',\n",
              "  '/wiki/Document-term_matrix',\n",
              "  '/wiki/Explicit_semantic_analysis',\n",
              "  '/wiki/FastText',\n",
              "  '/wiki/GloVe',\n",
              "  '/wiki/Language_model',\n",
              "  '/wiki/Large_language_model',\n",
              "  '/wiki/Latent_semantic_analysis',\n",
              "  '/wiki/Seq2seq',\n",
              "  '/wiki/Word_embedding',\n",
              "  '/wiki/Word2vec',\n",
              "  '/wiki/Language_resource',\n",
              "  '/wiki/Corpus_linguistics',\n",
              "  '/wiki/Lexical_resource',\n",
              "  '/wiki/Linguistic_Linked_Open_Data',\n",
              "  '/wiki/Machine-readable_dictionary',\n",
              "  '/wiki/Parallel_text',\n",
              "  '/wiki/PropBank',\n",
              "  '/wiki/Semantic_network',\n",
              "  '/wiki/Simple_Knowledge_Organization_System',\n",
              "  '/wiki/Speech_corpus',\n",
              "  '/wiki/Text_corpus',\n",
              "  '/wiki/Thesaurus_(information_retrieval)',\n",
              "  '/wiki/Treebank',\n",
              "  '/wiki/Universal_Dependencies',\n",
              "  '/wiki/BabelNet',\n",
              "  '/wiki/Bank_of_English',\n",
              "  '/wiki/DBpedia',\n",
              "  '/wiki/FrameNet',\n",
              "  '/wiki/Google_Ngram_Viewer',\n",
              "  '/wiki/UBY',\n",
              "  '/wiki/WordNet',\n",
              "  '/wiki/Automatic_identification_and_data_capture',\n",
              "  '/wiki/Speech_recognition',\n",
              "  '/wiki/Speech_segmentation',\n",
              "  '/wiki/Speech_synthesis',\n",
              "  '/wiki/Natural_language_generation',\n",
              "  '/wiki/Optical_character_recognition',\n",
              "  '/wiki/Topic_model',\n",
              "  '/wiki/Document_classification',\n",
              "  '/wiki/Latent_Dirichlet_allocation',\n",
              "  '/wiki/Pachinko_allocation',\n",
              "  '/wiki/Computer-assisted_reviewing',\n",
              "  '/wiki/Automated_essay_scoring',\n",
              "  '/wiki/Concordancer',\n",
              "  '/wiki/Grammar_checker',\n",
              "  '/wiki/Predictive_text',\n",
              "  '/wiki/Pronunciation_assessment',\n",
              "  '/wiki/Spell_checker',\n",
              "  '/wiki/Syntax_guessing',\n",
              "  '/wiki/Natural_language_user_interface',\n",
              "  '/wiki/Chatbot',\n",
              "  '/wiki/Interactive_fiction',\n",
              "  '/wiki/Question_answering',\n",
              "  '/wiki/Virtual_assistant',\n",
              "  '/wiki/Voice_user_interface',\n",
              "  '/wiki/Hallucination_(artificial_intelligence)',\n",
              "  '/wiki/Natural_Language_Toolkit',\n",
              "  '/wiki/SpaCy'],\n",
              " 'authors': ['Contributors to Wikimedia projects'],\n",
              " 'publish_date': '2004-05-05T19:38:37Z'}"
            ]
          },
          "metadata": {},
          "execution_count": 39
        }
      ]
    },
    {
      "cell_type": "code",
      "source": [
        "article.title"
      ],
      "metadata": {
        "colab": {
          "base_uri": "https://localhost:8080/",
          "height": 36
        },
        "id": "r22JpvCeny90",
        "outputId": "c489bb37-c670-4176-dbc4-4952f8335c9f"
      },
      "execution_count": 40,
      "outputs": [
        {
          "output_type": "execute_result",
          "data": {
            "text/plain": [
              "'Automatic summarization - Wikipedia'"
            ],
            "application/vnd.google.colaboratory.intrinsic+json": {
              "type": "string"
            }
          },
          "metadata": {},
          "execution_count": 40
        }
      ]
    },
    {
      "cell_type": "code",
      "source": [
        "article.cleaned_text"
      ],
      "metadata": {
        "colab": {
          "base_uri": "https://localhost:8080/",
          "height": 123
        },
        "id": "-_-tLUsVn2O7",
        "outputId": "ed00fd7c-44d5-4870-f3e9-aa75170667cb"
      },
      "execution_count": 41,
      "outputs": [
        {
          "output_type": "execute_result",
          "data": {
            "text/plain": [
              "'Automatic summarization is the process of shortening a set of data computationally, to create a subset (a summary) that represents the most important or relevant information within the original content. Artificial intelligence algorithms are commonly developed and employed to achieve this, specialized for different types of data.\\n\\nText summarization is usually implemented by natural language processing methods, designed to locate the most informative sentences in a given document.[1] On the other hand, visual content can be summarized using computer vision algorithms. Image summarization is the subject of ongoing research; existing approaches typically attempt to display the most representative images from a given image collection, or generate a video that only includes the most important content from the entire collection.[2][3][4] Video summarization algorithms identify and extract from the original video content the most important frames (key-frames), and/or the most important video segments (key-shots), normally in a temporally ordered fashion.[5][6][7][8] Video summaries simply retain a carefully selected subset of the original video frames and, therefore, are not identical to the output of video synopsis algorithms, where new video frames are being synthesized based on the original video content.\\n\\nThere are two general approaches to automatic summarization: extraction and abstraction.\\n\\nHere, content is extracted from the original data, but the extracted content is not modified in any way. Examples of extracted content include key-phrases that can be used to \"tag\" or index a text document, or key sentences (including headings) that collectively comprise an abstract, and representative images or video segments, as stated above. For text, extraction is analogous to the process of skimming, where the summary (if available), headings and subheadings, figures, the first and last paragraphs of a section, and optionally the first and last sentences in a paragraph are read before one chooses to read the entire document in detail.[10] Other examples of extraction that include key sequences of text in terms of clinical relevance (including patient/problem, intervention, and outcome).[11]\\n\\nAbstractive summarization methods generate new text that did not exist in the original text.[12] This has been applied mainly for text. Abstractive methods build an internal semantic representation of the original content (often called a language model), and then use this representation to create a summary that is closer to what a human might express. Abstraction may transform the extracted content by paraphrasing sections of the source document, to condense a text more strongly than extraction. Such transformation, however, is computationally much more challenging than extraction, involving both natural language processing and often a deep understanding of the domain of the original text in cases where the original document relates to a special field of knowledge. \"Paraphrasing\" is even more difficult to apply to images and videos, which is why most summarization systems are extractive.\\n\\nApproaches aimed at higher summarization quality rely on combined software and human effort. In Machine Aided Human Summarization, extractive techniques highlight candidate passages for inclusion (to which the human adds or removes text). In Human Aided Machine Summarization, a human post-processes software output, in the same way that one edits the output of automatic translation by Google Translate.\\n\\nThere are broadly two types of extractive summarization tasks depending on what the summarization program focuses on. The first is generic summarization, which focuses on obtaining a generic summary or abstract of the collection (whether documents, or sets of images, or videos, news stories etc.). The second is query relevant summarization, sometimes called query-based summarization, which summarizes objects specific to a query. Summarization systems are able to create both query relevant text summaries and generic machine-generated summaries depending on what the user needs.\\n\\nAn example of a summarization problem is document summarization, which attempts to automatically produce an abstract from a given document. Sometimes one might be interested in generating a summary from a single source document, while others can use multiple source documents (for example, a cluster of articles on the same topic). This problem is called multi-document summarization. A related application is summarizing news articles. Imagine a system, which automatically pulls together news articles on a given topic (from the web), and concisely represents the latest news as a summary.\\n\\nImage collection summarization is another application example of automatic summarization. It consists in selecting a representative set of images from a larger set of images.[13] A summary in this context is useful to show the most representative images of results in an image collection exploration system. Video summarization is a related domain, where the system automatically creates a trailer of a long video. This also has applications in consumer or personal videos, where one might want to skip the boring or repetitive actions. Similarly, in surveillance videos, one would want to extract important and suspicious activity, while ignoring all the boring and redundant frames captured.\\n\\nAt a very high level, summarization algorithms try to find subsets of objects (like set of sentences, or a set of images), which cover information of the entire set. This is also called the core-set. These algorithms model notions like diversity, coverage, information and representativeness of the summary. Query based summarization techniques, additionally model for relevance of the summary with the query. Some techniques and algorithms which naturally model summarization problems are TextRank and PageRank, Submodular set function, Determinantal point process, maximal marginal relevance (MMR) etc.\\n\\nThe task is the following. You are given a piece of text, such as a journal article, and you must produce a list of keywords or key[phrase]s that capture the primary topics discussed in the text.[14] In the case of research articles, many authors provide manually assigned keywords, but most text lacks pre-existing keyphrases. For example, news articles rarely have keyphrases attached, but it would be useful to be able to automatically do so for a number of applications discussed below. Consider the example text from a news article:\\n\\nA keyphrase extractor might select \"Army Corps of Engineers\", \"President Bush\", \"New Orleans\", and \"defective flood-control pumps\" as keyphrases. These are pulled directly from the text. In contrast, an abstractive keyphrase system would somehow internalize the content and generate keyphrases that do not appear in the text, but more closely resemble what a human might produce, such as \"political negligence\" or \"inadequate protection from floods\". Abstraction requires a deep understanding of the text, which makes it difficult for a computer system. Keyphrases have many applications. They can enable document browsing by providing a short summary, improve information retrieval (if documents have keyphrases assigned, a user could search by keyphrase to produce more reliable hits than a full-text search), and be employed in generating index entries for a large text corpus.\\n\\nDepending on the different literature and the definition of key terms, words or phrases, keyword extraction is a highly related theme.\\n\\nBeginning with the work of Turney,[15] many researchers have approached keyphrase extraction as a supervised machine learning problem. Given a document, we construct an example for each unigram, bigram, and trigram found in the text (though other text units are also possible, as discussed below). We then compute various features describing each example (e.g., does the phrase begin with an upper-case letter?). We assume there are known keyphrases available for a set of training documents. Using the known keyphrases, we can assign positive or negative labels to the examples. Then we learn a classifier that can discriminate between positive and negative examples as a function of the features. Some classifiers make a binary classification for a test example, while others assign a probability of being a keyphrase. For instance, in the above text, we might learn a rule that says phrases with initial capital letters are likely to be keyphrases. After training a learner, we can select keyphrases for test documents in the following manner. We apply the same example-generation strategy to the test documents, then run each example through the learner. We can determine the keyphrases by looking at binary classification decisions or probabilities returned from our learned model. If probabilities are given, a threshold is used to select the keyphrases. Keyphrase extractors are generally evaluated using precision and recall. Precision measures how many of the proposed keyphrases are actually correct. Recall measures how many of the true keyphrases your system proposed. The two measures can be combined in an F-score, which is the harmonic mean of the two (F = 2PR/(P + R) ). Matches between the proposed keyphrases and the known keyphrases can be checked after stemming or applying some other text normalization.\\n\\nDesigning a supervised keyphrase extraction system involves deciding on several choices (some of these apply to unsupervised, too). The first choice is exactly how to generate examples. Turney and others have used all possible unigrams, bigrams, and trigrams without intervening punctuation and after removing stopwords. Hulth showed that you can get some improvement by selecting examples to be sequences of tokens that match certain patterns of part-of-speech tags. Ideally, the mechanism for generating examples produces all the known labeled keyphrases as candidates, though this is often not the case. For example, if we use only unigrams, bigrams, and trigrams, then we will never be able to extract a known keyphrase containing four words. Thus, recall may suffer. However, generating too many examples can also lead to low precision.\\n\\nWe also need to create features that describe the examples and are informative enough to allow a learning algorithm to discriminate keyphrases from non- keyphrases. Typically features involve various term frequencies (how many times a phrase appears in the current text or in a larger corpus), the length of the example, relative position of the first occurrence, various boolean syntactic features (e.g., contains all caps), etc. The Turney paper used about 12 such features. Hulth uses a reduced set of features, which were found most successful in the KEA (Keyphrase Extraction Algorithm) work derived from Turney\\'s seminal paper.\\n\\nIn the end, the system will need to return a list of keyphrases for a test document, so we need to have a way to limit the number. Ensemble methods (i.e., using votes from several classifiers) have been used to produce numeric scores that can be thresholded to provide a user-provided number of keyphrases. This is the technique used by Turney with C4.5 decision trees. Hulth used a single binary classifier so the learning algorithm implicitly determines the appropriate number.\\n\\nOnce examples and features are created, we need a way to learn to predict keyphrases. Virtually any supervised learning algorithm could be used, such as decision trees, Naive Bayes, and rule induction. In the case of Turney\\'s GenEx algorithm, a genetic algorithm is used to learn parameters for a domain-specific keyphrase extraction algorithm. The extractor follows a series of heuristics to identify keyphrases. The genetic algorithm optimizes parameters for these heuristics with respect to performance on training documents with known key phrases.\\n\\nAnother keyphrase extraction algorithm is TextRank. While supervised methods have some nice properties, like being able to produce interpretable rules for what features characterize a keyphrase, they also require a large amount of training data. Many documents with known keyphrases are needed. Furthermore, training on a specific domain tends to customize the extraction process to that domain, so the resulting classifier is not necessarily portable, as some of Turney\\'s results demonstrate. Unsupervised keyphrase extraction removes the need for training data. It approaches the problem from a different angle. Instead of trying to learn explicit features that characterize keyphrases, the TextRank algorithm[16] exploits the structure of the text itself to determine keyphrases that appear \"central\" to the text in the same way that PageRank selects important Web pages. Recall this is based on the notion of \"prestige\" or \"recommendation\" from social networks. In this way, TextRank does not rely on any previous training data at all, but rather can be run on any arbitrary piece of text, and it can produce output simply based on the text\\'s intrinsic properties. Thus the algorithm is easily portable to new domains and languages.\\n\\nTextRank is a general purpose graph-based ranking algorithm for NLP. Essentially, it runs PageRank on a graph specially designed for a particular NLP task. For keyphrase extraction, it builds a graph using some set of text units as vertices. Edges are based on some measure of semantic or lexical similarity between the text unit vertices. Unlike PageRank, the edges are typically undirected and can be weighted to reflect a degree of similarity. Once the graph is constructed, it is used to form a stochastic matrix, combined with a damping factor (as in the \"random surfer model\"), and the ranking over vertices is obtained by finding the eigenvector corresponding to eigenvalue 1 (i.e., the stationary distribution of the random walk on the graph).\\n\\nThe vertices should correspond to what we want to rank. Potentially, we could do something similar to the supervised methods and create a vertex for each unigram, bigram, trigram, etc. However, to keep the graph small, the authors decide to rank individual unigrams in a first step, and then include a second step that merges highly ranked adjacent unigrams to form multi-word phrases. This has a nice side effect of allowing us to produce keyphrases of arbitrary length. For example, if we rank unigrams and find that \"advanced\", \"natural\", \"language\", and \"processing\" all get high ranks, then we would look at the original text and see that these words appear consecutively and create a final keyphrase using all four together. Note that the unigrams placed in the graph can be filtered by part of speech. The authors found that adjectives and nouns were the best to include. Thus, some linguistic knowledge comes into play in this step.\\n\\nEdges are created based on word co-occurrence in this application of TextRank. Two vertices are connected by an edge if the unigrams appear within a window of size N in the original text. N is typically around 2–10. Thus, \"natural\" and \"language\" might be linked in a text about NLP. \"Natural\" and \"processing\" would also be linked because they would both appear in the same string of N words. These edges build on the notion of \"text cohesion\" and the idea that words that appear near each other are likely related in a meaningful way and \"recommend\" each other to the reader.\\n\\nSince this method simply ranks the individual vertices, we need a way to threshold or produce a limited number of keyphrases. The technique chosen is to set a count T to be a user-specified fraction of the total number of vertices in the graph. Then the top T vertices/unigrams are selected based on their stationary probabilities. A post- processing step is then applied to merge adjacent instances of these T unigrams. As a result, potentially more or less than T final keyphrases will be produced, but the number should be roughly proportional to the length of the original text.\\n\\nIt is not initially clear why applying PageRank to a co-occurrence graph would produce useful keyphrases. One way to think about it is the following. A word that appears multiple times throughout a text may have many different co-occurring neighbors. For example, in a text about machine learning, the unigram \"learning\" might co-occur with \"machine\", \"supervised\", \"un-supervised\", and \"semi-supervised\" in four different sentences. Thus, the \"learning\" vertex would be a central \"hub\" that connects to these other modifying words. Running PageRank/TextRank on the graph is likely to rank \"learning\" highly. Similarly, if the text contains the phrase \"supervised classification\", then there would be an edge between \"supervised\" and \"classification\". If \"classification\" appears several other places and thus has many neighbors, its importance would contribute to the importance of \"supervised\". If it ends up with a high rank, it will be selected as one of the top T unigrams, along with \"learning\" and probably \"classification\". In the final post-processing step, we would then end up with keyphrases \"supervised learning\" and \"supervised classification\".\\n\\nIn short, the co-occurrence graph will contain densely connected regions for terms that appear often and in different contexts. A random walk on this graph will have a stationary distribution that assigns large probabilities to the terms in the centers of the clusters. This is similar to densely connected Web pages getting ranked highly by PageRank. This approach has also been used in document summarization, considered below.\\n\\nLike keyphrase extraction, document summarization aims to identify the essence of a text. The only real difference is that now we are dealing with larger text units—whole sentences instead of words and phrases.\\n\\nSupervised text summarization is very much like supervised keyphrase extraction. Basically, if you have a collection of documents and human-generated summaries for them, you can learn features of sentences that make them good candidates for inclusion in the summary. Features might include the position in the document (i.e., the first few sentences are probably important), the number of words in the sentence, etc. The main difficulty in supervised extractive summarization is that the known summaries must be manually created by extracting sentences so the sentences in an original training document can be labeled as \"in summary\" or \"not in summary\". This is not typically how people create summaries, so simply using journal abstracts or existing summaries is usually not sufficient. The sentences in these summaries do not necessarily match up with sentences in the original text, so it would be difficult to assign labels to examples for training. Note, however, that these natural summaries can still be used for evaluation purposes, since ROUGE-1 evaluation only considers unigrams.\\n\\nDuring the DUC 2001 and 2002 evaluation workshops, TNO developed a sentence extraction system for multi-document summarization in the news domain. The system was based on a hybrid system using a Naive Bayes classifier and statistical language models for modeling salience. Although the system exhibited good results, the researchers wanted to explore the effectiveness of a maximum entropy (ME) classifier for the meeting summarization task, as ME is known to be robust against feature dependencies. Maximum entropy has also been applied successfully for summarization in the broadcast news domain.\\n\\nA promising approach is adaptive document/text summarization.[17] It involves first recognizing the text genre and then applying summarization algorithms optimized for this genre. Such software has been created.[18]\\n\\nThe unsupervised approach to summarization is also quite similar in spirit to unsupervised keyphrase extraction and gets around the issue of costly training data. Some unsupervised summarization approaches are based on finding a \"centroid\" sentence, which is the mean word vector of all the sentences in the document. Then the sentences can be ranked with regard to their similarity to this centroid sentence.\\n\\nA more principled way to estimate sentence importance is using random walks and eigenvector centrality. LexRank[19] is an algorithm essentially identical to TextRank, and both use this approach for document summarization. The two methods were developed by different groups at the same time, and LexRank simply focused on summarization, but could just as easily be used for keyphrase extraction or any other NLP ranking task.\\n\\nIn both LexRank and TextRank, a graph is constructed by creating a vertex for each sentence in the document.\\n\\nThe edges between sentences are based on some form of semantic similarity or content overlap. While LexRank uses cosine similarity of TF-IDF vectors, TextRank uses a very similar measure based on the number of words two sentences have in common (normalized by the sentences\\' lengths). The LexRank paper explored using unweighted edges after applying a threshold to the cosine values, but also experimented with using edges with weights equal to the similarity score. TextRank uses continuous similarity scores as weights.\\n\\nIn both algorithms, the sentences are ranked by applying PageRank to the resulting graph. A summary is formed by combining the top ranking sentences, using a threshold or length cutoff to limit the size of the summary.\\n\\nIt is worth noting that TextRank was applied to summarization exactly as described here, while LexRank was used as part of a larger summarization system (MEAD) that combines the LexRank score (stationary probability) with other features like sentence position and length using a linear combination with either user-specified or automatically tuned weights. In this case, some training documents might be needed, though the TextRank results show the additional features are not absolutely necessary.\\n\\nUnlike TextRank, LexRank has been applied to multi-document summarization.\\n\\nMulti-document summarization is an automatic procedure aimed at extraction of information from multiple texts written about the same topic. Resulting summary report allows individual users, such as professional information consumers, to quickly familiarize themselves with information contained in a large cluster of documents. In such a way, multi-document summarization systems are complementing the news aggregators performing the next step down the road of coping with information overload. Multi-document summarization may also be done in response to a question.[20][11]\\n\\nMulti-document summarization creates information reports that are both concise and comprehensive. With different opinions being put together and outlined, every topic is described from multiple perspectives within a single document. While the goal of a brief summary is to simplify information search and cut the time by pointing to the most relevant source documents, comprehensive multi-document summary should itself contain the required information, hence limiting the need for accessing original files to cases when refinement is required. Automatic summaries present information extracted from multiple sources algorithmically, without any editorial touch or subjective human intervention, thus making it completely unbiased.[dubious – discuss]\\n\\nMulti-document extractive summarization faces a problem of redundancy. Ideally, we want to extract sentences that are both \"central\" (i.e., contain the main ideas) and \"diverse\" (i.e., they differ from one another). For example, in a set of news articles about some event, each article is likely to have many similar sentences. To address this issue, LexRank applies a heuristic post-processing step that adds sentences in rank order, but discards sentences that are too similar to ones already in the summary. This method is called Cross-Sentence Information Subsumption (CSIS). These methods work based on the idea that sentences \"recommend\" other similar sentences to the reader. Thus, if one sentence is very similar to many others, it will likely be a sentence of great importance. Its importance also stems from the importance of the sentences \"recommending\" it. Thus, to get ranked highly and placed in a summary, a sentence must be similar to many sentences that are in turn also similar to many other sentences. This makes intuitive sense and allows the algorithms to be applied to an arbitrary new text. The methods are domain-independent and easily portable. One could imagine the features indicating important sentences in the news domain might vary considerably from the biomedical domain. However, the unsupervised \"recommendation\"-based approach applies to any domain.\\n\\nA related method is Maximal Marginal Relevance (MMR),[21] which uses a general-purpose graph-based ranking algorithm like Page/Lex/TextRank that handles both \"centrality\" and \"diversity\" in a unified mathematical framework based on absorbing Markov chain random walks (a random walk where certain states end the walk). The algorithm is called GRASSHOPPER.[22] In addition to explicitly promoting diversity during the ranking process, GRASSHOPPER incorporates a prior ranking (based on sentence position in the case of summarization).\\n\\nThe state of the art results for multi-document summarization are obtained using mixtures of submodular functions. These methods have achieved the state of the art results for Document Summarization Corpora, DUC 04 - 07.[23] Similar results were achieved with the use of determinantal point processes (which are a special case of submodular functions) for DUC-04.[24]\\n\\nA new method for multi-lingual multi-document summarization that avoids redundancy generates ideograms to represent the meaning of each sentence in each document, then evaluates similarity by comparing ideogram shape and position. It does not use word frequency, training or preprocessing. It uses two user-supplied parameters: equivalence (when are two sentences to be considered equivalent?) and relevance (how long is the desired summary?).\\n\\nThe idea of a submodular set function has recently emerged as a powerful modeling tool for various summarization problems. Submodular functions naturally model notions of coverage, information, representation and diversity. Moreover, several important combinatorial optimization problems occur as special instances of submodular optimization. For example, the set cover problem is a special case of submodular optimization, since the set cover function is submodular. The set cover function attempts to find a subset of objects which cover a given set of concepts. For example, in document summarization, one would like the summary to cover all important and relevant concepts in the document. This is an instance of set cover. Similarly, the facility location problem is a special case of submodular functions. The Facility Location function also naturally models coverage and diversity. Another example of a submodular optimization problem is using a determinantal point process to model diversity. Similarly, the Maximum-Marginal-Relevance procedure can also be seen as an instance of submodular optimization. All these important models encouraging coverage, diversity and information are all submodular. Moreover, submodular functions can be efficiently combined, and the resulting function is still submodular. Hence, one could combine one submodular function which models diversity, another one which models coverage and use human supervision to learn a right model of a submodular function for the problem.\\n\\nWhile submodular functions are fitting problems for summarization, they also admit very efficient algorithms for optimization. For example, a simple greedy algorithm admits a constant factor guarantee.[25] Moreover, the greedy algorithm is extremely simple to implement and can scale to large datasets, which is very important for summarization problems.\\n\\nSubmodular functions have achieved state-of-the-art for almost all summarization problems. For example, work by Lin and Bilmes, 2012[26] shows that submodular functions achieve the best results to date on DUC-04, DUC-05, DUC-06 and DUC-07 systems for document summarization. Similarly, work by Lin and Bilmes, 2011,[27] shows that many existing systems for automatic summarization are instances of submodular functions. This was a breakthrough result establishing submodular functions as the right models for summarization problems.[citation needed]\\n\\nSubmodular Functions have also been used for other summarization tasks. Tschiatschek et al., 2014 show[28] that mixtures of submodular functions achieve state-of-the-art results for image collection summarization. Similarly, Bairi et al., 2015[29] show the utility of submodular functions for summarizing multi-document topic hierarchies. Submodular Functions have also successfully been used for summarizing machine learning datasets.[30]\\n• The Reddit bot \"autotldr\",[31] created in 2011 summarizes news articles in the comment-section of reddit posts. It was found to be very useful by the reddit community which upvoted its summaries hundreds of thousands of times.[32] The name is reference to TL;DR − Internet slang for \"too long; didn\\'t read\".[33][34]\\n• Adversarial stylometry may make use of summaries, if the detail lost is not major and the summary is sufficiently stylistically different to the input.\\n\\nThe most common way to evaluate the informativeness of automatic summaries is to compare them with human-made model summaries.\\n\\nEvaluation can be intrinsic or extrinsic,[36] and inter-textual or intra-textual.[37]\\n\\nIntrinsic evaluation assesses the summaries directly, while extrinsic evaluation evaluates how the summarization system affects the completion of some other task. Intrinsic evaluations have assessed mainly the coherence and informativeness of summaries. Extrinsic evaluations, on the other hand, have tested the impact of summarization on tasks like relevance assessment, reading comprehension, etc.\\n\\nIntra-textual evaluation assess the output of a specific summarization system, while inter-textual evaluation focuses on contrastive analysis of outputs of several summarization systems.\\n\\nHuman judgement often varies greatly in what it considers a \"good\" summary, so creating an automatic evaluation process is particularly difficult. Manual evaluation can be used, but this is both time and labor-intensive, as it requires humans to read not only the summaries but also the source documents. Other issues are those concerning coherence and coverage.\\n\\nThe most common way to evaluate summaries is ROUGE (Recall-Oriented Understudy for Gisting Evaluation). It is very common for summarization and translation systems in NIST\\'s Document Understanding Conferences.[2] ROUGE is a recall-based measure of how well a summary covers the content of human-generated summaries known as references. It calculates n-gram overlaps between automatically generated summaries and previously written human summaries. It is recall-based to encourage inclusion of all important topics in summaries. Recall can be computed with respect to unigram, bigram, trigram, or 4-gram matching. For example, ROUGE-1 is the fraction of unigrams that appear in both the reference summary and the automatic summary out of all unigrams in the reference summary. If there are multiple reference summaries, their scores are averaged. A high level of overlap should indicate a high degree of shared concepts between the two summaries.\\n\\nROUGE cannot determine if the result is coherent, that is if sentences flow together in a sensibly. High-order n-gram ROUGE measures help to some degree.\\n\\nAnother unsolved problem is Anaphor resolution. Similarly, for image summarization, Tschiatschek et al., developed a Visual-ROUGE score which judges the performance of algorithms for image summarization.[38]\\n\\nDomain-independent summarization techniques apply sets of general features to identify information-rich text segments. Recent research focuses on domain-specific summarization using knowledge specific to the text\\'s domain, such as medical knowledge and ontologies for summarizing medical texts.[39]\\n\\nThe main drawback of the evaluation systems so far is that we need a reference summary (for some methods, more than one), to compare automatic summaries with models. This is a hard and expensive task. Much effort has to be made to create corpora of texts and their corresponding summaries. Furthermore, some methods require manual annotation of the summaries (e.g. SCU in the Pyramid Method). Moreover, they all perform a quantitative evaluation with regard to different similarity metrics.\\n\\nThe first publication in the area dates back to 1957 [40] (Hans Peter Luhn), starting with a statistical technique. Research increased significantly in 2015. Term frequency–inverse document frequency had been used by 2016. Pattern-based summarization was the most powerful option for multi-document summarization found by 2016. In the following year it was surpassed by latent semantic analysis (LSA) combined with non-negative matrix factorization (NMF). Although they did not replace other approaches and are often combined with them, by 2019 machine learning methods dominated the extractive summarization of single documents, which was considered to be nearing maturity. By 2020, the field was still very active and research is shifting towards abstractive summation and real-time summarization.[41]\\n\\nRecently the rise of transformer models replacing more traditional RNN (LSTM) have provided a flexibility in the mapping of text sequences to text sequences of a different type, which is well suited to automatic summarization. This includes models such as T5[42] and Pegasus.[43]\\n• None Potthast, Martin; Hagen, Matthias; Stein, Benno (2016). Author Obfuscation: Attacking the State of the Art in Authorship Verification . Conference and Labs of the Evaluation Forum.\\n• None Roxana, Angheluta (2002). The Use of Topic Segmentation for Automatic Summarization.\\n• None Elena, Lloret and Manuel, Palomar (2009). Challenging Issues of Automatic Summarization: Relevance Detection and Quality-based Evaluation. Archived from the original on 2018-10-03 .\\n• None Alrehamy, Hassan (2018). \"SemCluster: Unsupervised Automatic Keyphrase Extraction Using Affinity Propagation\". Advances in Computational Intelligence Systems. Advances in Intelligent Systems and Computing. Vol. 650. pp. 222–235. doi:10.1007/978-3-319-66939-7_19. ISBN .\\n• None Marcu, Daniel (2000). The Theory and Practice of Discourse Parsing and Summarization. MIT Press. ISBN .\\n• , Published in Proceeding RIAO\\'10 Adaptivity, Personalization and Fusion of Heterogeneous Information, CID Paris, France\\n• None Xiaojin, Zhu, Andrew Goldberg, Jurgen Van Gael, and David Andrzejewski (2007). Improving diversity in ranking using absorbing random walks . , The GRASSHOPPER algorithm\\n• None Miranda-Jiménez, Sabino, Gelbukh, Alexander, and Sidorov, Grigori (2013). \"Summarizing Conceptual Graphs for Automatic Summarization Task\". Conceptual Structures for STEM Research and Education. Lecture Notes in Computer Science. Vol. 7735. pp. 245–253. doi:10.1007/978-3-642-35786-2_18. ISBN . , Conceptual Structures for STEM Research and Education.'"
            ],
            "application/vnd.google.colaboratory.intrinsic+json": {
              "type": "string"
            }
          },
          "metadata": {},
          "execution_count": 41
        }
      ]
    },
    {
      "cell_type": "code",
      "source": [
        "len(article.cleaned_text)"
      ],
      "metadata": {
        "colab": {
          "base_uri": "https://localhost:8080/"
        },
        "id": "4MFqbTHgn4RY",
        "outputId": "d75ed0bc-7eaf-4031-b802-4ddf27b20e08"
      },
      "execution_count": 42,
      "outputs": [
        {
          "output_type": "execute_result",
          "data": {
            "text/plain": [
              "35247"
            ]
          },
          "metadata": {},
          "execution_count": 42
        }
      ]
    },
    {
      "cell_type": "code",
      "source": [
        "formatted_article = preprocess(article.cleaned_text)\n",
        "formatted_article"
      ],
      "metadata": {
        "colab": {
          "base_uri": "https://localhost:8080/",
          "height": 123
        },
        "id": "D2LawrBrn3YY",
        "outputId": "92cc8833-ae9a-47ef-9eb3-0659400c791d"
      },
      "execution_count": 43,
      "outputs": [
        {
          "output_type": "execute_result",
          "data": {
            "text/plain": [
              "\"automatic summarization process shortening set data computationally create subset summary represents important relevant information within original content artificial intelligence algorithms commonly developed employed achieve specialized different types data text summarization usually implemented natural language processing methods designed locate informative sentences given document 1 hand visual content summarized using computer vision algorithms image summarization subject ongoing research existing approaches typically attempt display representative images given image collection generate video includes important content entire collection 2 3 4 video summarization algorithms identify extract original video content important frames key-frames and/or important video segments key-shots normally temporally ordered fashion 5 6 7 8 video summaries simply retain carefully selected subset original video frames therefore identical output video synopsis algorithms new video frames synthesized based original video content two general approaches automatic summarization extraction abstraction content extracted original data extracted content modified way examples extracted content include key-phrases used `` tag '' index text document key sentences including headings collectively comprise abstract representative images video segments stated text extraction analogous process skimming summary available headings subheadings figures first last paragraphs section optionally first last sentences paragraph read one chooses read entire document detail 10 examples extraction include key sequences text terms clinical relevance including patient/problem intervention outcome 11 abstractive summarization methods generate new text exist original text 12 applied mainly text abstractive methods build internal semantic representation original content often called language model use representation create summary closer human might express abstraction may transform extracted content paraphrasing sections source document condense text strongly extraction transformation however computationally much challenging extraction involving natural language processing often deep understanding domain original text cases original document relates special field knowledge `` paraphrasing '' even difficult apply images videos summarization systems extractive approaches aimed higher summarization quality rely combined software human effort machine aided human summarization extractive techniques highlight candidate passages inclusion human adds removes text human aided machine summarization human post-processes software output way one edits output automatic translation google translate broadly two types extractive summarization tasks depending summarization program focuses first generic summarization focuses obtaining generic summary abstract collection whether documents sets images videos news stories etc. second query relevant summarization sometimes called query-based summarization summarizes objects specific query summarization systems able create query relevant text summaries generic machine-generated summaries depending user needs example summarization problem document summarization attempts automatically produce abstract given document sometimes one might interested generating summary single source document others use multiple source documents example cluster articles topic problem called multi-document summarization related application summarizing news articles imagine system automatically pulls together news articles given topic web concisely represents latest news summary image collection summarization another application example automatic summarization consists selecting representative set images larger set images 13 summary context useful show representative images results image collection exploration system video summarization related domain system automatically creates trailer long video also applications consumer personal videos one might want skip boring repetitive actions similarly surveillance videos one would want extract important suspicious activity ignoring boring redundant frames captured high level summarization algorithms try find subsets objects like set sentences set images cover information entire set also called core-set algorithms model notions like diversity coverage information representativeness summary query based summarization techniques additionally model relevance summary query techniques algorithms naturally model summarization problems textrank pagerank submodular set function determinantal point process maximal marginal relevance mmr etc task following given piece text journal article must produce list keywords key phrase capture primary topics discussed text 14 case research articles many authors provide manually assigned keywords text lacks pre-existing keyphrases example news articles rarely keyphrases attached would useful able automatically number applications discussed consider example text news article keyphrase extractor might select `` army corps engineers '' `` president bush '' `` new orleans '' `` defective flood-control pumps '' keyphrases pulled directly text contrast abstractive keyphrase system would somehow internalize content generate keyphrases appear text closely resemble human might produce `` political negligence '' `` inadequate protection floods '' abstraction requires deep understanding text makes difficult computer system keyphrases many applications enable document browsing providing short summary improve information retrieval documents keyphrases assigned user could search keyphrase produce reliable hits full-text search employed generating index entries large text corpus depending different literature definition key terms words phrases keyword extraction highly related theme beginning work turney 15 many researchers approached keyphrase extraction supervised machine learning problem given document construct example unigram bigram trigram found text though text units also possible discussed compute various features describing example e.g. phrase begin upper-case letter assume known keyphrases available set training documents using known keyphrases assign positive negative labels examples learn classifier discriminate positive negative examples function features classifiers make binary classification test example others assign probability keyphrase instance text might learn rule says phrases initial capital letters likely keyphrases training learner select keyphrases test documents following manner apply example-generation strategy test documents run example learner determine keyphrases looking binary classification decisions probabilities returned learned model probabilities given threshold used select keyphrases keyphrase extractors generally evaluated using precision recall precision measures many proposed keyphrases actually correct recall measures many true keyphrases system proposed two measures combined f-score harmonic mean two f 2pr/ p r matches proposed keyphrases known keyphrases checked stemming applying text normalization designing supervised keyphrase extraction system involves deciding several choices apply unsupervised first choice exactly generate examples turney others used possible unigrams bigrams trigrams without intervening punctuation removing stopwords hulth showed get improvement selecting examples sequences tokens match certain patterns part-of-speech tags ideally mechanism generating examples produces known labeled keyphrases candidates though often case example use unigrams bigrams trigrams never able extract known keyphrase containing four words thus recall may suffer however generating many examples also lead low precision also need create features describe examples informative enough allow learning algorithm discriminate keyphrases non- keyphrases typically features involve various term frequencies many times phrase appears current text larger corpus length example relative position first occurrence various boolean syntactic features e.g. contains caps etc turney paper used 12 features hulth uses reduced set features found successful kea keyphrase extraction algorithm work derived turney 's seminal paper end system need return list keyphrases test document need way limit number ensemble methods i.e. using votes several classifiers used produce numeric scores thresholded provide user-provided number keyphrases technique used turney c4.5 decision trees hulth used single binary classifier learning algorithm implicitly determines appropriate number examples features created need way learn predict keyphrases virtually supervised learning algorithm could used decision trees naive bayes rule induction case turney 's genex algorithm genetic algorithm used learn parameters domain-specific keyphrase extraction algorithm extractor follows series heuristics identify keyphrases genetic algorithm optimizes parameters heuristics respect performance training documents known key phrases another keyphrase extraction algorithm textrank supervised methods nice properties like able produce interpretable rules features characterize keyphrase also require large amount training data many documents known keyphrases needed furthermore training specific domain tends customize extraction process domain resulting classifier necessarily portable turney 's results demonstrate unsupervised keyphrase extraction removes need training data approaches problem different angle instead trying learn explicit features characterize keyphrases textrank algorithm 16 exploits structure text determine keyphrases appear `` central '' text way pagerank selects important web pages recall based notion `` prestige '' `` recommendation '' social networks way textrank rely previous training data rather run arbitrary piece text produce output simply based text 's intrinsic properties thus algorithm easily portable new domains languages textrank general purpose graph-based ranking algorithm nlp essentially runs pagerank graph specially designed particular nlp task keyphrase extraction builds graph using set text units vertices edges based measure semantic lexical similarity text unit vertices unlike pagerank edges typically undirected weighted reflect degree similarity graph constructed used form stochastic matrix combined damping factor `` random surfer model '' ranking vertices obtained finding eigenvector corresponding eigenvalue 1 i.e. stationary distribution random walk graph vertices correspond want rank potentially could something similar supervised methods create vertex unigram bigram trigram etc however keep graph small authors decide rank individual unigrams first step include second step merges highly ranked adjacent unigrams form multi-word phrases nice side effect allowing us produce keyphrases arbitrary length example rank unigrams find `` advanced '' `` natural '' `` language '' `` processing '' get high ranks would look original text see words appear consecutively create final keyphrase using four together note unigrams placed graph filtered part speech authors found adjectives nouns best include thus linguistic knowledge comes play step edges created based word co-occurrence application textrank two vertices connected edge unigrams appear within window size n original text n typically around 2–10 thus `` natural '' `` language '' might linked text nlp `` natural '' `` processing '' would also linked would appear string n words edges build notion `` text cohesion '' idea words appear near likely related meaningful way `` recommend '' reader since method simply ranks individual vertices need way threshold produce limited number keyphrases technique chosen set count user-specified fraction total number vertices graph top vertices/unigrams selected based stationary probabilities post- processing step applied merge adjacent instances unigrams result potentially less final keyphrases produced number roughly proportional length original text initially clear applying pagerank co-occurrence graph would produce useful keyphrases one way think following word appears multiple times throughout text may many different co-occurring neighbors example text machine learning unigram `` learning '' might co-occur `` machine '' `` supervised '' `` un-supervised '' `` semi-supervised '' four different sentences thus `` learning '' vertex would central `` hub '' connects modifying words running pagerank/textrank graph likely rank `` learning '' highly similarly text contains phrase `` supervised classification '' would edge `` supervised '' `` classification '' `` classification '' appears several places thus many neighbors importance would contribute importance `` supervised '' ends high rank selected one top unigrams along `` learning '' probably `` classification '' final post-processing step would end keyphrases `` supervised learning '' `` supervised classification '' short co-occurrence graph contain densely connected regions terms appear often different contexts random walk graph stationary distribution assigns large probabilities terms centers clusters similar densely connected web pages getting ranked highly pagerank approach also used document summarization considered like keyphrase extraction document summarization aims identify essence text real difference dealing larger text units—whole sentences instead words phrases supervised text summarization much like supervised keyphrase extraction basically collection documents human-generated summaries learn features sentences make good candidates inclusion summary features might include position document i.e. first sentences probably important number words sentence etc main difficulty supervised extractive summarization known summaries must manually created extracting sentences sentences original training document labeled `` summary '' `` summary '' typically people create summaries simply using journal abstracts existing summaries usually sufficient sentences summaries necessarily match sentences original text would difficult assign labels examples training note however natural summaries still used evaluation purposes since rouge-1 evaluation considers unigrams duc 2001 2002 evaluation workshops tno developed sentence extraction system multi-document summarization news domain system based hybrid system using naive bayes classifier statistical language models modeling salience although system exhibited good results researchers wanted explore effectiveness maximum entropy classifier meeting summarization task known robust feature dependencies maximum entropy also applied successfully summarization broadcast news domain promising approach adaptive document/text summarization 17 involves first recognizing text genre applying summarization algorithms optimized genre software created 18 unsupervised approach summarization also quite similar spirit unsupervised keyphrase extraction gets around issue costly training data unsupervised summarization approaches based finding `` centroid '' sentence mean word vector sentences document sentences ranked regard similarity centroid sentence principled way estimate sentence importance using random walks eigenvector centrality lexrank 19 algorithm essentially identical textrank use approach document summarization two methods developed different groups time lexrank simply focused summarization could easily used keyphrase extraction nlp ranking task lexrank textrank graph constructed creating vertex sentence document edges sentences based form semantic similarity content overlap lexrank uses cosine similarity tf-idf vectors textrank uses similar measure based number words two sentences common normalized sentences lengths lexrank paper explored using unweighted edges applying threshold cosine values also experimented using edges weights equal similarity score textrank uses continuous similarity scores weights algorithms sentences ranked applying pagerank resulting graph summary formed combining top ranking sentences using threshold length cutoff limit size summary worth noting textrank applied summarization exactly described lexrank used part larger summarization system mead combines lexrank score stationary probability features like sentence position length using linear combination either user-specified automatically tuned weights case training documents might needed though textrank results show additional features absolutely necessary unlike textrank lexrank applied multi-document summarization multi-document summarization automatic procedure aimed extraction information multiple texts written topic resulting summary report allows individual users professional information consumers quickly familiarize information contained large cluster documents way multi-document summarization systems complementing news aggregators performing next step road coping information overload multi-document summarization may also done response question 20 11 multi-document summarization creates information reports concise comprehensive different opinions put together outlined every topic described multiple perspectives within single document goal brief summary simplify information search cut time pointing relevant source documents comprehensive multi-document summary contain required information hence limiting need accessing original files cases refinement required automatic summaries present information extracted multiple sources algorithmically without editorial touch subjective human intervention thus making completely unbiased dubious – discuss multi-document extractive summarization faces problem redundancy ideally want extract sentences `` central '' i.e. contain main ideas `` diverse '' i.e. differ one another example set news articles event article likely many similar sentences address issue lexrank applies heuristic post-processing step adds sentences rank order discards sentences similar ones already summary method called cross-sentence information subsumption csis methods work based idea sentences `` recommend '' similar sentences reader thus one sentence similar many others likely sentence great importance importance also stems importance sentences `` recommending '' thus get ranked highly placed summary sentence must similar many sentences turn also similar many sentences makes intuitive sense allows algorithms applied arbitrary new text methods domain-independent easily portable one could imagine features indicating important sentences news domain might vary considerably biomedical domain however unsupervised `` recommendation '' -based approach applies domain related method maximal marginal relevance mmr 21 uses general-purpose graph-based ranking algorithm like page/lex/textrank handles `` centrality '' `` diversity '' unified mathematical framework based absorbing markov chain random walks random walk certain states end walk algorithm called grasshopper 22 addition explicitly promoting diversity ranking process grasshopper incorporates prior ranking based sentence position case summarization state art results multi-document summarization obtained using mixtures submodular functions methods achieved state art results document summarization corpora duc 04 07 23 similar results achieved use determinantal point processes special case submodular functions duc-04 24 new method multi-lingual multi-document summarization avoids redundancy generates ideograms represent meaning sentence document evaluates similarity comparing ideogram shape position use word frequency training preprocessing uses two user-supplied parameters equivalence two sentences considered equivalent relevance long desired summary idea submodular set function recently emerged powerful modeling tool various summarization problems submodular functions naturally model notions coverage information representation diversity moreover several important combinatorial optimization problems occur special instances submodular optimization example set cover problem special case submodular optimization since set cover function submodular set cover function attempts find subset objects cover given set concepts example document summarization one would like summary cover important relevant concepts document instance set cover similarly facility location problem special case submodular functions facility location function also naturally models coverage diversity another example submodular optimization problem using determinantal point process model diversity similarly maximum-marginal-relevance procedure also seen instance submodular optimization important models encouraging coverage diversity information submodular moreover submodular functions efficiently combined resulting function still submodular hence one could combine one submodular function models diversity another one models coverage use human supervision learn right model submodular function problem submodular functions fitting problems summarization also admit efficient algorithms optimization example simple greedy algorithm admits constant factor guarantee 25 moreover greedy algorithm extremely simple implement scale large datasets important summarization problems submodular functions achieved state-of-the-art almost summarization problems example work lin bilmes 2012 26 shows submodular functions achieve best results date duc-04 duc-05 duc-06 duc-07 systems document summarization similarly work lin bilmes 2011 27 shows many existing systems automatic summarization instances submodular functions breakthrough result establishing submodular functions right models summarization problems citation needed submodular functions also used summarization tasks tschiatschek et al. 2014 show 28 mixtures submodular functions achieve state-of-the-art results image collection summarization similarly bairi et al. 2015 29 show utility submodular functions summarizing multi-document topic hierarchies submodular functions also successfully used summarizing machine learning datasets 30 • reddit bot `` autotldr '' 31 created 2011 summarizes news articles comment-section reddit posts found useful reddit community upvoted summaries hundreds thousands times 32 name reference tl dr − internet slang `` long n't read '' 33 34 • adversarial stylometry may make use summaries detail lost major summary sufficiently stylistically different input common way evaluate informativeness automatic summaries compare human-made model summaries evaluation intrinsic extrinsic 36 inter-textual intra-textual 37 intrinsic evaluation assesses summaries directly extrinsic evaluation evaluates summarization system affects completion task intrinsic evaluations assessed mainly coherence informativeness summaries extrinsic evaluations hand tested impact summarization tasks like relevance assessment reading comprehension etc intra-textual evaluation assess output specific summarization system inter-textual evaluation focuses contrastive analysis outputs several summarization systems human judgement often varies greatly considers `` good '' summary creating automatic evaluation process particularly difficult manual evaluation used time labor-intensive requires humans read summaries also source documents issues concerning coherence coverage common way evaluate summaries rouge recall-oriented understudy gisting evaluation common summarization translation systems nist 's document understanding conferences 2 rouge recall-based measure well summary covers content human-generated summaries known references calculates n-gram overlaps automatically generated summaries previously written human summaries recall-based encourage inclusion important topics summaries recall computed respect unigram bigram trigram 4-gram matching example rouge-1 fraction unigrams appear reference summary automatic summary unigrams reference summary multiple reference summaries scores averaged high level overlap indicate high degree shared concepts two summaries rouge determine result coherent sentences flow together sensibly high-order n-gram rouge measures help degree another unsolved problem anaphor resolution similarly image summarization tschiatschek et al. developed visual-rouge score judges performance algorithms image summarization 38 domain-independent summarization techniques apply sets general features identify information-rich text segments recent research focuses domain-specific summarization using knowledge specific text 's domain medical knowledge ontologies summarizing medical texts 39 main drawback evaluation systems far need reference summary methods one compare automatic summaries models hard expensive task much effort made create corpora texts corresponding summaries furthermore methods require manual annotation summaries e.g scu pyramid method moreover perform quantitative evaluation regard different similarity metrics first publication area dates back 1957 40 hans peter luhn starting statistical technique research increased significantly 2015. term frequency–inverse document frequency used 2016. pattern-based summarization powerful option multi-document summarization found 2016. following year surpassed latent semantic analysis lsa combined non-negative matrix factorization nmf although replace approaches often combined 2019 machine learning methods dominated extractive summarization single documents considered nearing maturity 2020 field still active research shifting towards abstractive summation real-time summarization 41 recently rise transformer models replacing traditional rnn lstm provided flexibility mapping text sequences text sequences different type well suited automatic summarization includes models t5 42 pegasus 43 • none potthast martin hagen matthias stein benno 2016 author obfuscation attacking state art authorship verification conference labs evaluation forum • none roxana angheluta 2002 use topic segmentation automatic summarization • none elena lloret manuel palomar 2009 challenging issues automatic summarization relevance detection quality-based evaluation archived original 2018-10-03 • none alrehamy hassan 2018 `` semcluster unsupervised automatic keyphrase extraction using affinity propagation '' advances computational intelligence systems advances intelligent systems computing vol 650. pp 222–235 doi:10.1007/978-3-319-66939-7_19 isbn • none marcu daniel 2000 theory practice discourse parsing summarization mit press isbn • published proceeding riao'10 adaptivity personalization fusion heterogeneous information cid paris france • none xiaojin zhu andrew goldberg jurgen van gael david andrzejewski 2007 improving diversity ranking using absorbing random walks grasshopper algorithm • none miranda-jiménez sabino gelbukh alexander sidorov grigori 2013 `` summarizing conceptual graphs automatic summarization task '' conceptual structures stem research education lecture notes computer science vol 7735. pp 245–253 doi:10.1007/978-3-642-35786-2_18 isbn conceptual structures stem research education\""
            ],
            "application/vnd.google.colaboratory.intrinsic+json": {
              "type": "string"
            }
          },
          "metadata": {},
          "execution_count": 43
        }
      ]
    },
    {
      "cell_type": "code",
      "source": [
        "len(formatted_article)"
      ],
      "metadata": {
        "colab": {
          "base_uri": "https://localhost:8080/"
        },
        "id": "cqMV6UM9n57W",
        "outputId": "e6f9021a-07fd-4455-ac85-53109bd70fc9"
      },
      "execution_count": 44,
      "outputs": [
        {
          "output_type": "execute_result",
          "data": {
            "text/plain": [
              "26944"
            ]
          },
          "metadata": {},
          "execution_count": 44
        }
      ]
    },
    {
      "cell_type": "code",
      "source": [
        "def summarize(text, number_of_sentences, percentage = 0):\n",
        "  original_text = text\n",
        "  formatted_text = preprocess(original_text)\n",
        "\n",
        "  word_frequency = nltk.FreqDist(nltk.word_tokenize(formatted_text))\n",
        "  highest_frequency = max(word_frequency.values())\n",
        "  for word in word_frequency.keys():\n",
        "    word_frequency[word] = (word_frequency[word] / highest_frequency)\n",
        "  sentence_list = nltk.sent_tokenize(original_text)\n",
        "\n",
        "  score_sentences = {}\n",
        "  for sentence in sentence_list:\n",
        "    for word in nltk.word_tokenize(sentence):\n",
        "      if word in word_frequency.keys():\n",
        "        if sentence not in score_sentences.keys():\n",
        "          score_sentences[sentence] = word_frequency[word]\n",
        "        else:\n",
        "          score_sentences[sentence] += word_frequency[word]\n",
        "\n",
        "  import heapq\n",
        "  if percentage > 0:\n",
        "    best_sentences = heapq.nlargest(int(len(sentence_list) * percentage), score_sentences, key=score_sentences.get)\n",
        "  else:\n",
        "    best_sentences = heapq.nlargest(number_of_sentences, score_sentences, key=score_sentences.get)\n",
        "\n",
        "  return sentence_list, best_sentences, word_frequency, score_sentences"
      ],
      "metadata": {
        "id": "BXk3zo1_n7fd"
      },
      "execution_count": 45,
      "outputs": []
    },
    {
      "cell_type": "code",
      "source": [
        "len(sentence_list)"
      ],
      "metadata": {
        "colab": {
          "base_uri": "https://localhost:8080/"
        },
        "id": "_rELPxGHn_FI",
        "outputId": "a0731589-a8a7-494e-cc77-ec91dc0df38b"
      },
      "execution_count": 46,
      "outputs": [
        {
          "output_type": "execute_result",
          "data": {
            "text/plain": [
              "8"
            ]
          },
          "metadata": {},
          "execution_count": 46
        }
      ]
    },
    {
      "cell_type": "code",
      "source": [
        "(120 / len(sentence_list)) * 100"
      ],
      "metadata": {
        "colab": {
          "base_uri": "https://localhost:8080/"
        },
        "id": "vpKUj4KEoA7B",
        "outputId": "2dc51d9d-0bd0-4657-c91a-130282c8df28"
      },
      "execution_count": 47,
      "outputs": [
        {
          "output_type": "execute_result",
          "data": {
            "text/plain": [
              "1500.0"
            ]
          },
          "metadata": {},
          "execution_count": 47
        }
      ]
    },
    {
      "cell_type": "code",
      "source": [
        "sentence_list, best_sentences, word_frequency, score_sentences = summarize(article.cleaned_text, 100)"
      ],
      "metadata": {
        "id": "7Ptw8THKoCPz"
      },
      "execution_count": 48,
      "outputs": []
    },
    {
      "cell_type": "code",
      "source": [
        "sentence_list"
      ],
      "metadata": {
        "id": "uldfnW2doDXM"
      },
      "execution_count": null,
      "outputs": []
    },
    {
      "cell_type": "code",
      "source": [
        "best_sentences"
      ],
      "metadata": {
        "colab": {
          "base_uri": "https://localhost:8080/"
        },
        "id": "1GRQL-HooGUv",
        "outputId": "8f8e9697-dd14-4998-e358-25f376dcfdac"
      },
      "execution_count": 50,
      "outputs": [
        {
          "output_type": "execute_result",
          "data": {
            "text/plain": [
              "['For example, in a text about machine learning, the unigram \"learning\" might co-occur with \"machine\", \"supervised\", \"un-supervised\", and \"semi-supervised\" in four different sentences.',\n",
              " 'For example, if we rank unigrams and find that \"advanced\", \"natural\", \"language\", and \"processing\" all get high ranks, then we would look at the original text and see that these words appear consecutively and create a final keyphrase using all four together.',\n",
              " 'Consider the example text from a news article:\\n\\nA keyphrase extractor might select \"Army Corps of Engineers\", \"President Bush\", \"New Orleans\", and \"defective flood-control pumps\" as keyphrases.',\n",
              " 'The main difficulty in supervised extractive summarization is that the known summaries must be manually created by extracting sentences so the sentences in an original training document can be labeled as \"in summary\" or \"not in summary\".',\n",
              " 'Similarly, if the text contains the phrase \"supervised classification\", then there would be an edge between \"supervised\" and \"classification\".',\n",
              " 'In contrast, an abstractive keyphrase system would somehow internalize the content and generate keyphrases that do not appear in the text, but more closely resemble what a human might produce, such as \"political negligence\" or \"inadequate protection from floods\".',\n",
              " 'Instead of trying to learn explicit features that characterize keyphrases, the TextRank algorithm[16] exploits the structure of the text itself to determine keyphrases that appear \"central\" to the text in the same way that PageRank selects important Web pages.',\n",
              " 'A related method is Maximal Marginal Relevance (MMR),[21] which uses a general-purpose graph-based ranking algorithm like Page/Lex/TextRank that handles both \"centrality\" and \"diversity\" in a unified mathematical framework based on absorbing Markov chain random walks (a random walk where certain states end the walk).',\n",
              " 'These edges build on the notion of \"text cohesion\" and the idea that words that appear near each other are likely related in a meaningful way and \"recommend\" each other to the reader.',\n",
              " 'In the final post-processing step, we would then end up with keyphrases \"supervised learning\" and \"supervised classification\".',\n",
              " 'Examples of extracted content include key-phrases that can be used to \"tag\" or index a text document, or key sentences (including headings) that collectively comprise an abstract, and representative images or video segments, as stated above.',\n",
              " 'If \"classification\" appears several other places and thus has many neighbors, its importance would contribute to the importance of \"supervised\".',\n",
              " 'It is worth noting that TextRank was applied to summarization exactly as described here, while LexRank was used as part of a larger summarization system (MEAD) that combines the LexRank score (stationary probability) with other features like sentence position and length using a linear combination with either user-specified or automatically tuned weights.',\n",
              " 'Some unsupervised summarization approaches are based on finding a \"centroid\" sentence, which is the mean word vector of all the sentences in the document.',\n",
              " 'Thus, \"natural\" and \"language\" might be linked in a text about NLP.',\n",
              " 'Ideally, we want to extract sentences that are both \"central\" (i.e., contain the main ideas) and \"diverse\" (i.e., they differ from one another).',\n",
              " '\"Natural\" and \"processing\" would also be linked because they would both appear in the same string of N words.',\n",
              " 'If it ends up with a high rank, it will be selected as one of the top T unigrams, along with \"learning\" and probably \"classification\".',\n",
              " 'An example of a summarization problem is document summarization, which attempts to automatically produce an abstract from a given document.',\n",
              " 'Thus, the \"learning\" vertex would be a central \"hub\" that connects to these other modifying words.',\n",
              " 'For example, in document summarization, one would like the summary to cover all important and relevant concepts in the document.',\n",
              " 'Recall this is based on the notion of \"prestige\" or \"recommendation\" from social networks.',\n",
              " 'They can enable document browsing by providing a short summary, improve information retrieval (if documents have keyphrases assigned, a user could search by keyphrase to produce more reliable hits than a full-text search), and be employed in generating index entries for a large text corpus.',\n",
              " 'Intra-textual evaluation assess the output of a specific summarization system, while inter-textual evaluation focuses on contrastive analysis of outputs of several summarization systems.',\n",
              " 'At a very high level, summarization algorithms try to find subsets of objects (like set of sentences, or a set of images), which cover information of the entire set.',\n",
              " 'Once the graph is constructed, it is used to form a stochastic matrix, combined with a damping factor (as in the \"random surfer model\"), and the ranking over vertices is obtained by finding the eigenvector corresponding to eigenvalue 1 (i.e., the stationary distribution of the random walk on the graph).',\n",
              " '[41]\\n\\nRecently the rise of transformer models replacing more traditional RNN (LSTM) have provided a flexibility in the mapping of text sequences to text sequences of a different type, which is well suited to automatic summarization.',\n",
              " 'For text, extraction is analogous to the process of skimming, where the summary (if available), headings and subheadings, figures, the first and last paragraphs of a section, and optionally the first and last sentences in a paragraph are read before one chooses to read the entire document in detail.',\n",
              " '\"Paraphrasing\" is even more difficult to apply to images and videos, which is why most summarization systems are extractive.',\n",
              " 'Automatic summarization is the process of shortening a set of data computationally, to create a subset (a summary) that represents the most important or relevant information within the original content.',\n",
              " 'These methods work based on the idea that sentences \"recommend\" other similar sentences to the reader.',\n",
              " '[11]\\n\\nAbstractive summarization methods generate new text that did not exist in the original text.',\n",
              " 'The two methods were developed by different groups at the same time, and LexRank simply focused on summarization, but could just as easily be used for keyphrase extraction or any other NLP ranking task.',\n",
              " 'Hence, one could combine one submodular function which models diversity, another one which models coverage and use human supervision to learn a right model of a submodular function for the problem.',\n",
              " 'Image collection summarization is another application example of automatic summarization.',\n",
              " 'The sentences in these summaries do not necessarily match up with sentences in the original text, so it would be difficult to assign labels to examples for training.',\n",
              " 'Like keyphrase extraction, document summarization aims to identify the essence of a text.',\n",
              " \"Recent research focuses on domain-specific summarization using knowledge specific to the text's domain, such as medical knowledge and ontologies for summarizing medical texts.\",\n",
              " '[18]\\n\\nThe unsupervised approach to summarization is also quite similar in spirit to unsupervised keyphrase extraction and gets around the issue of costly training data.',\n",
              " 'For example, work by Lin and Bilmes, 2012[26] shows that submodular functions achieve the best results to date on DUC-04, DUC-05, DUC-06 and DUC-07 systems for document summarization.',\n",
              " 'The first is generic summarization, which focuses on obtaining a generic summary or abstract of the collection (whether documents, or sets of images, or videos, news stories etc.).',\n",
              " 'Human judgement often varies greatly in what it considers a \"good\" summary, so creating an automatic evaluation process is particularly difficult.',\n",
              " '[2][3][4] Video summarization algorithms identify and extract from the original video content the most important frames (key-frames), and/or the most important video segments (key-shots), normally in a temporally ordered fashion.',\n",
              " 'Similarly, for image summarization, Tschiatschek et al., developed a Visual-ROUGE score which judges the performance of algorithms for image summarization.',\n",
              " 'Thus, to get ranked highly and placed in a summary, a sentence must be similar to many sentences that are in turn also similar to many other sentences.',\n",
              " 'Such transformation, however, is computationally much more challenging than extraction, involving both natural language processing and often a deep understanding of the domain of the original text in cases where the original document relates to a special field of knowledge.',\n",
              " 'Supervised text summarization is very much like supervised keyphrase extraction.',\n",
              " 'Image summarization is the subject of ongoing research; existing approaches typically attempt to display the most representative images from a given image collection, or generate a video that only includes the most important content from the entire collection.',\n",
              " 'The second is query relevant summarization, sometimes called query-based summarization, which summarizes objects specific to a query.',\n",
              " 'Given a document, we construct an example for each unigram, bigram, and trigram found in the text (though other text units are also possible, as discussed below).',\n",
              " '[5][6][7][8] Video summaries simply retain a carefully selected subset of the original video frames and, therefore, are not identical to the output of video synopsis algorithms, where new video frames are being synthesized based on the original video content.',\n",
              " 'There are broadly two types of extractive summarization tasks depending on what the summarization program focuses on.',\n",
              " \"In this way, TextRank does not rely on any previous training data at all, but rather can be run on any arbitrary piece of text, and it can produce output simply based on the text's intrinsic properties.\",\n",
              " 'During the DUC 2001 and 2002 evaluation workshops, TNO developed a sentence extraction system for multi-document summarization in the news domain.',\n",
              " 'Text summarization is usually implemented by natural language processing methods, designed to locate the most informative sentences in a given document.',\n",
              " 'While the goal of a brief summary is to simplify information search and cut the time by pointing to the most relevant source documents, comprehensive multi-document summary should itself contain the required information, hence limiting the need for accessing original files to cases when refinement is required.',\n",
              " 'Pattern-based summarization was the most powerful option for multi-document summarization found by 2016.',\n",
              " 'Typically features involve various term frequencies (how many times a phrase appears in the current text or in a larger corpus), the length of the example, relative position of the first occurrence, various boolean syntactic features (e.g., contains all caps), etc.',\n",
              " 'Similarly, work by Lin and Bilmes, 2011,[27] shows that many existing systems for automatic summarization are instances of submodular functions.',\n",
              " 'Its importance also stems from the importance of the sentences \"recommending\" it.',\n",
              " 'Some techniques and algorithms which naturally model summarization problems are TextRank and PageRank, Submodular set function, Determinantal point process, maximal marginal relevance (MMR) etc.',\n",
              " '[24]\\n\\nA new method for multi-lingual multi-document summarization that avoids redundancy generates ideograms to represent the meaning of each sentence in each document, then evaluates similarity by comparing ideogram shape and position.',\n",
              " '[37]\\n\\nIntrinsic evaluation assesses the summaries directly, while extrinsic evaluation evaluates how the summarization system affects the completion of some other task.',\n",
              " 'Sometimes one might be interested in generating a summary from a single source document, while others can use multiple source documents (for example, a cluster of articles on the same topic).',\n",
              " 'For example, ROUGE-1 is the fraction of unigrams that appear in both the reference summary and the automatic summary out of all unigrams in the reference summary.',\n",
              " 'The state of the art results for multi-document summarization are obtained using mixtures of submodular functions.',\n",
              " 'While submodular functions are fitting problems for summarization, they also admit very efficient algorithms for optimization.',\n",
              " '[38]\\n\\nDomain-independent summarization techniques apply sets of general features to identify information-rich text segments.',\n",
              " 'We also need to create features that describe the examples and are informative enough to allow a learning algorithm to discriminate keyphrases from non- keyphrases.',\n",
              " '[17] It involves first recognizing the text genre and then applying summarization algorithms optimized for this genre.',\n",
              " 'For example, the set cover problem is a special case of submodular optimization, since the set cover function is submodular.',\n",
              " 'Although they did not replace other approaches and are often combined with them, by 2019 machine learning methods dominated the extractive summarization of single documents, which was considered to be nearing maturity.',\n",
              " 'In such a way, multi-document summarization systems are complementing the news aggregators performing the next step down the road of coping with information overload.',\n",
              " 'Tschiatschek et al., 2014 show[28] that mixtures of submodular functions achieve state-of-the-art results for image collection summarization.',\n",
              " '[30]\\n• The Reddit bot \"autotldr\",[31] created in 2011 summarizes news articles in the comment-section of reddit posts.',\n",
              " '[22] In addition to explicitly promoting diversity during the ranking process, GRASSHOPPER incorporates a prior ranking (based on sentence position in the case of summarization).',\n",
              " '[39]\\n\\nThe main drawback of the evaluation systems so far is that we need a reference summary (for some methods, more than one), to compare automatic summaries with models.',\n",
              " 'Abstractive methods build an internal semantic representation of the original content (often called a language model), and then use this representation to create a summary that is closer to what a human might express.',\n",
              " 'Multi-document summarization is an automatic procedure aimed at extraction of information from multiple texts written about the same topic.',\n",
              " 'The idea of a submodular set function has recently emerged as a powerful modeling tool for various summarization problems.',\n",
              " 'This approach has also been used in document summarization, considered below.',\n",
              " 'Running PageRank/TextRank on the graph is likely to rank \"learning\" highly.',\n",
              " 'Query based summarization techniques, additionally model for relevance of the summary with the query.',\n",
              " 'For keyphrase extraction, it builds a graph using some set of text units as vertices.',\n",
              " \"While LexRank uses cosine similarity of TF-IDF vectors, TextRank uses a very similar measure based on the number of words two sentences have in common (normalized by the sentences' lengths).\",\n",
              " 'Summarization systems are able to create both query relevant text summaries and generic machine-generated summaries depending on what the user needs.',\n",
              " 'You are given a piece of text, such as a journal article, and you must produce a list of keywords or key[phrase]s that capture the primary topics discussed in the text.',\n",
              " 'Basically, if you have a collection of documents and human-generated summaries for them, you can learn features of sentences that make them good candidates for inclusion in the summary.',\n",
              " 'While supervised methods have some nice properties, like being able to produce interpretable rules for what features characterize a keyphrase, they also require a large amount of training data.',\n",
              " 'Although the system exhibited good results, the researchers wanted to explore the effectiveness of a maximum entropy (ME) classifier for the meeting summarization task, as ME is known to be robust against feature dependencies.',\n",
              " \"In the case of Turney's GenEx algorithm, a genetic algorithm is used to learn parameters for a domain-specific keyphrase extraction algorithm.\",\n",
              " 'LexRank[19] is an algorithm essentially identical to TextRank, and both use this approach for document summarization.',\n",
              " 'This was a breakthrough result establishing submodular functions as the right models for summarization problems.',\n",
              " 'Features might include the position in the document (i.e., the first few sentences are probably important), the number of words in the sentence, etc.',\n",
              " 'There are two general approaches to automatic summarization: extraction and abstraction.',\n",
              " 'However, the unsupervised \"recommendation\"-based approach applies to any domain.',\n",
              " 'A summary is formed by combining the top ranking sentences, using a threshold or length cutoff to limit the size of the summary.',\n",
              " 'Video summarization is a related domain, where the system automatically creates a trailer of a long video.',\n",
              " 'Matches between the proposed keyphrases and the known keyphrases can be checked after stemming or applying some other text normalization.',\n",
              " 'Maximum entropy has also been applied successfully for summarization in the broadcast news domain.']"
            ]
          },
          "metadata": {},
          "execution_count": 50
        }
      ]
    },
    {
      "cell_type": "code",
      "source": [
        "word_frequency"
      ],
      "metadata": {
        "colab": {
          "base_uri": "https://localhost:8080/"
        },
        "id": "HbPFJV5moIon",
        "outputId": "b965bffe-34ba-4090-c71d-0b642fbaa422"
      },
      "execution_count": 51,
      "outputs": [
        {
          "output_type": "execute_result",
          "data": {
            "text/plain": [
              "FreqDist({'``': 1.0, 'summarization': 0.7222222222222222, 'text': 0.4444444444444444, 'sentences': 0.28703703703703703, 'keyphrases': 0.28703703703703703, 'summary': 0.26851851851851855, 'summaries': 0.25, 'document': 0.24074074074074073, 'submodular': 0.23148148148148148, 'extraction': 0.19444444444444445, ...})"
            ]
          },
          "metadata": {},
          "execution_count": 51
        }
      ]
    },
    {
      "cell_type": "code",
      "source": [
        "score_sentences"
      ],
      "metadata": {
        "colab": {
          "base_uri": "https://localhost:8080/"
        },
        "id": "DV24D-tVoNZL",
        "outputId": "30c40fb2-1913-491a-bce8-e9362185c715"
      },
      "execution_count": 52,
      "outputs": [
        {
          "output_type": "execute_result",
          "data": {
            "text/plain": [
              "{'Automatic summarization is the process of shortening a set of data computationally, to create a subset (a summary) that represents the most important or relevant information within the original content.': 2.148148148148148,\n",
              " 'Artificial intelligence algorithms are commonly developed and employed to achieve this, specialized for different types of data.': 0.5185185185185185,\n",
              " 'Text summarization is usually implemented by natural language processing methods, designed to locate the most informative sentences in a given document.': 1.7777777777777781,\n",
              " '[1] On the other hand, visual content can be summarized using computer vision algorithms.': 0.5925925925925926,\n",
              " 'Image summarization is the subject of ongoing research; existing approaches typically attempt to display the most representative images from a given image collection, or generate a video that only includes the most important content from the entire collection.': 1.8703703703703707,\n",
              " '[2][3][4] Video summarization algorithms identify and extract from the original video content the most important frames (key-frames), and/or the most important video segments (key-shots), normally in a temporally ordered fashion.': 1.9074074074074079,\n",
              " '[5][6][7][8] Video summaries simply retain a carefully selected subset of the original video frames and, therefore, are not identical to the output of video synopsis algorithms, where new video frames are being synthesized based on the original video content.': 1.8333333333333335,\n",
              " 'There are two general approaches to automatic summarization: extraction and abstraction.': 1.3703703703703702,\n",
              " 'Here, content is extracted from the original data, but the extracted content is not modified in any way.': 0.7777777777777778,\n",
              " 'Examples of extracted content include key-phrases that can be used to \"tag\" or index a text document, or key sentences (including headings) that collectively comprise an abstract, and representative images or video segments, as stated above.': 2.8796296296296293,\n",
              " 'For text, extraction is analogous to the process of skimming, where the summary (if available), headings and subheadings, figures, the first and last paragraphs of a section, and optionally the first and last sentences in a paragraph are read before one chooses to read the entire document in detail.': 2.185185185185185,\n",
              " '[10] Other examples of extraction that include key sequences of text in terms of clinical relevance (including patient/problem, intervention, and outcome).': 1.1481481481481481,\n",
              " '[11]\\n\\nAbstractive summarization methods generate new text that did not exist in the original text.': 2.1018518518518516,\n",
              " '[12] This has been applied mainly for text.': 0.6388888888888888,\n",
              " 'Abstractive methods build an internal semantic representation of the original content (often called a language model), and then use this representation to create a summary that is closer to what a human might express.': 1.5185185185185186,\n",
              " 'Abstraction may transform the extracted content by paraphrasing sections of the source document, to condense a text more strongly than extraction.': 1.2962962962962963,\n",
              " 'Such transformation, however, is computationally much more challenging than extraction, involving both natural language processing and often a deep understanding of the domain of the original text in cases where the original document relates to a special field of knowledge.': 1.888888888888889,\n",
              " '\"Paraphrasing\" is even more difficult to apply to images and videos, which is why most summarization systems are extractive.': 2.166666666666666,\n",
              " 'Approaches aimed at higher summarization quality rely on combined software and human effort.': 1.0833333333333333,\n",
              " 'In Machine Aided Human Summarization, extractive techniques highlight candidate passages for inclusion (to which the human adds or removes text).': 0.8333333333333333,\n",
              " 'In Human Aided Machine Summarization, a human post-processes software output, in the same way that one edits the output of automatic translation by Google Translate.': 0.7685185185185185,\n",
              " 'There are broadly two types of extractive summarization tasks depending on what the summarization program focuses on.': 1.8240740740740742,\n",
              " 'The first is generic summarization, which focuses on obtaining a generic summary or abstract of the collection (whether documents, or sets of images, or videos, news stories etc.).': 1.9166666666666667,\n",
              " 'The second is query relevant summarization, sometimes called query-based summarization, which summarizes objects specific to a query.': 1.8703703703703702,\n",
              " 'Summarization systems are able to create both query relevant text summaries and generic machine-generated summaries depending on what the user needs.': 1.4351851851851851,\n",
              " 'An example of a summarization problem is document summarization, which attempts to automatically produce an abstract from a given document.': 2.5740740740740735,\n",
              " 'Sometimes one might be interested in generating a summary from a single source document, while others can use multiple source documents (for example, a cluster of articles on the same topic).': 1.6574074074074072,\n",
              " 'This problem is called multi-document summarization.': 1.0925925925925926,\n",
              " 'A related application is summarizing news articles.': 0.39814814814814814,\n",
              " 'Imagine a system, which automatically pulls together news articles on a given topic (from the web), and concisely represents the latest news as a summary.': 1.0925925925925928,\n",
              " 'Image collection summarization is another application example of automatic summarization.': 2.0277777777777777,\n",
              " 'It consists in selecting a representative set of images from a larger set of images.': 0.6851851851851851,\n",
              " '[13] A summary in this context is useful to show the most representative images of results in an image collection exploration system.': 0.9351851851851851,\n",
              " 'Video summarization is a related domain, where the system automatically creates a trailer of a long video.': 1.3240740740740742,\n",
              " 'This also has applications in consumer or personal videos, where one might want to skip the boring or repetitive actions.': 0.6944444444444445,\n",
              " 'Similarly, in surveillance videos, one would want to extract important and suspicious activity, while ignoring all the boring and redundant frames captured.': 0.7037037037037037,\n",
              " 'At a very high level, summarization algorithms try to find subsets of objects (like set of sentences, or a set of images), which cover information of the entire set.': 2.259259259259259,\n",
              " 'This is also called the core-set.': 0.35185185185185186,\n",
              " 'These algorithms model notions like diversity, coverage, information and representativeness of the summary.': 0.9722222222222223,\n",
              " 'Query based summarization techniques, additionally model for relevance of the summary with the query.': 1.4722222222222223,\n",
              " 'Some techniques and algorithms which naturally model summarization problems are TextRank and PageRank, Submodular set function, Determinantal point process, maximal marginal relevance (MMR) etc.': 1.6574074074074077,\n",
              " 'The task is the following.': 0.2037037037037037,\n",
              " 'You are given a piece of text, such as a journal article, and you must produce a list of keywords or key[phrase]s that capture the primary topics discussed in the text.': 1.4351851851851851,\n",
              " '[14] In the case of research articles, many authors provide manually assigned keywords, but most text lacks pre-existing keyphrases.': 1.3055555555555556,\n",
              " 'For example, news articles rarely have keyphrases attached, but it would be useful to be able to automatically do so for a number of applications discussed below.': 1.1574074074074072,\n",
              " 'Consider the example text from a news article:\\n\\nA keyphrase extractor might select \"Army Corps of Engineers\", \"President Bush\", \"New Orleans\", and \"defective flood-control pumps\" as keyphrases.': 5.518518518518519,\n",
              " 'These are pulled directly from the text.': 0.5740740740740741,\n",
              " 'In contrast, an abstractive keyphrase system would somehow internalize the content and generate keyphrases that do not appear in the text, but more closely resemble what a human might produce, such as \"political negligence\" or \"inadequate protection from floods\".': 3.9351851851851842,\n",
              " 'Abstraction requires a deep understanding of the text, which makes it difficult for a computer system.': 0.8333333333333333,\n",
              " 'Keyphrases have many applications.': 0.26851851851851855,\n",
              " 'They can enable document browsing by providing a short summary, improve information retrieval (if documents have keyphrases assigned, a user could search by keyphrase to produce more reliable hits than a full-text search), and be employed in generating index entries for a large text corpus.': 2.287037037037037,\n",
              " 'Depending on the different literature and the definition of key terms, words or phrases, keyword extraction is a highly related theme.': 0.7407407407407407,\n",
              " 'Beginning with the work of Turney,[15] many researchers have approached keyphrase extraction as a supervised machine learning problem.': 1.1018518518518519,\n",
              " 'Given a document, we construct an example for each unigram, bigram, and trigram found in the text (though other text units are also possible, as discussed below).': 1.8425925925925926,\n",
              " 'We then compute various features describing each example (e.g., does the phrase begin with an upper-case letter?).': 0.5555555555555555,\n",
              " 'We assume there are known keyphrases available for a set of training documents.': 0.9166666666666666,\n",
              " 'Using the known keyphrases, we can assign positive or negative labels to the examples.': 0.6666666666666666,\n",
              " 'Then we learn a classifier that can discriminate between positive and negative examples as a function of the features.': 0.6018518518518517,\n",
              " 'Some classifiers make a binary classification for a test example, while others assign a probability of being a keyphrase.': 0.7314814814814814,\n",
              " 'For instance, in the above text, we might learn a rule that says phrases with initial capital letters are likely to be keyphrases.': 1.175925925925926,\n",
              " 'After training a learner, we can select keyphrases for test documents in the following manner.': 0.7592592592592593,\n",
              " 'We apply the same example-generation strategy to the test documents, then run each example through the learner.': 0.5462962962962963,\n",
              " 'We can determine the keyphrases by looking at binary classification decisions or probabilities returned from our learned model.': 0.6759259259259259,\n",
              " 'If probabilities are given, a threshold is used to select the keyphrases.': 0.7314814814814814,\n",
              " 'Keyphrase extractors are generally evaluated using precision and recall.': 0.37037037037037035,\n",
              " 'Precision measures how many of the proposed keyphrases are actually correct.': 0.6111111111111112,\n",
              " 'Recall measures how many of the true keyphrases your system proposed.': 0.7407407407407408,\n",
              " 'The two measures can be combined in an F-score, which is the harmonic mean of the two (F = 2PR/(P + R) ).': 0.4074074074074074,\n",
              " 'Matches between the proposed keyphrases and the known keyphrases can be checked after stemming or applying some other text normalization.': 1.3148148148148149,\n",
              " 'Designing a supervised keyphrase extraction system involves deciding on several choices (some of these apply to unsupervised, too).': 0.9351851851851852,\n",
              " 'The first choice is exactly how to generate examples.': 0.35185185185185186,\n",
              " 'Turney and others have used all possible unigrams, bigrams, and trigrams without intervening punctuation and after removing stopwords.': 0.5277777777777777,\n",
              " 'Hulth showed that you can get some improvement by selecting examples to be sequences of tokens that match certain patterns of part-of-speech tags.': 0.3796296296296296,\n",
              " 'Ideally, the mechanism for generating examples produces all the known labeled keyphrases as candidates, though this is often not the case.': 0.8333333333333334,\n",
              " 'For example, if we use only unigrams, bigrams, and trigrams, then we will never be able to extract a known keyphrase containing four words.': 1.0,\n",
              " 'Thus, recall may suffer.': 0.2037037037037037,\n",
              " 'However, generating too many examples can also lead to low precision.': 0.611111111111111,\n",
              " 'We also need to create features that describe the examples and are informative enough to allow a learning algorithm to discriminate keyphrases from non- keyphrases.': 1.611111111111111,\n",
              " 'Typically features involve various term frequencies (how many times a phrase appears in the current text or in a larger corpus), the length of the example, relative position of the first occurrence, various boolean syntactic features (e.g., contains all caps), etc.': 1.7314814814814816,\n",
              " 'The Turney paper used about 12 such features.': 0.4629629629629629,\n",
              " \"Hulth uses a reduced set of features, which were found most successful in the KEA (Keyphrase Extraction Algorithm) work derived from Turney's seminal paper.\": 0.6851851851851851,\n",
              " 'In the end, the system will need to return a list of keyphrases for a test document, so we need to have a way to limit the number.': 1.2314814814814814,\n",
              " 'Ensemble methods (i.e., using votes from several classifiers) have been used to produce numeric scores that can be thresholded to provide a user-provided number of keyphrases.': 1.1666666666666667,\n",
              " 'This is the technique used by Turney with C4.5 decision trees.': 0.3333333333333333,\n",
              " 'Hulth used a single binary classifier so the learning algorithm implicitly determines the appropriate number.': 0.7685185185185186,\n",
              " 'Once examples and features are created, we need a way to learn to predict keyphrases.': 0.9537037037037037,\n",
              " 'Virtually any supervised learning algorithm could be used, such as decision trees, Naive Bayes, and rule induction.': 0.7962962962962962,\n",
              " \"In the case of Turney's GenEx algorithm, a genetic algorithm is used to learn parameters for a domain-specific keyphrase extraction algorithm.\": 1.4074074074074072,\n",
              " 'The extractor follows a series of heuristics to identify keyphrases.': 0.4814814814814815,\n",
              " 'The genetic algorithm optimizes parameters for these heuristics with respect to performance on training documents with known key phrases.': 0.8055555555555555,\n",
              " 'Another keyphrase extraction algorithm is TextRank.': 0.6481481481481481,\n",
              " 'While supervised methods have some nice properties, like being able to produce interpretable rules for what features characterize a keyphrase, they also require a large amount of training data.': 1.4074074074074074,\n",
              " 'Many documents with known keyphrases are needed.': 0.638888888888889,\n",
              " \"Furthermore, training on a specific domain tends to customize the extraction process to that domain, so the resulting classifier is not necessarily portable, as some of Turney's results demonstrate.\": 0.9907407407407408,\n",
              " 'Unsupervised keyphrase extraction removes the need for training data.': 0.7499999999999999,\n",
              " 'It approaches the problem from a different angle.': 0.3611111111111111,\n",
              " 'Instead of trying to learn explicit features that characterize keyphrases, the TextRank algorithm[16] exploits the structure of the text itself to determine keyphrases that appear \"central\" to the text in the same way that PageRank selects important Web pages.': 3.407407407407407,\n",
              " 'Recall this is based on the notion of \"prestige\" or \"recommendation\" from social networks.': 2.296296296296296,\n",
              " \"In this way, TextRank does not rely on any previous training data at all, but rather can be run on any arbitrary piece of text, and it can produce output simply based on the text's intrinsic properties.\": 1.8148148148148147,\n",
              " 'Thus the algorithm is easily portable to new domains and languages.': 0.39814814814814814,\n",
              " 'TextRank is a general purpose graph-based ranking algorithm for NLP.': 0.39814814814814814,\n",
              " 'Essentially, it runs PageRank on a graph specially designed for a particular NLP task.': 0.33333333333333337,\n",
              " 'For keyphrase extraction, it builds a graph using some set of text units as vertices.': 1.4722222222222223,\n",
              " 'Edges are based on some measure of semantic or lexical similarity between the text unit vertices.': 0.9074074074074073,\n",
              " 'Unlike PageRank, the edges are typically undirected and can be weighted to reflect a degree of similarity.': 0.35185185185185186,\n",
              " 'Once the graph is constructed, it is used to form a stochastic matrix, combined with a damping factor (as in the \"random surfer model\"), and the ranking over vertices is obtained by finding the eigenvector corresponding to eigenvalue 1 (i.e., the stationary distribution of the random walk on the graph).': 2.2314814814814823,\n",
              " 'The vertices should correspond to what we want to rank.': 0.2685185185185185,\n",
              " 'Potentially, we could do something similar to the supervised methods and create a vertex for each unigram, bigram, trigram, etc.': 0.7685185185185186,\n",
              " 'However, to keep the graph small, the authors decide to rank individual unigrams in a first step, and then include a second step that merges highly ranked adjacent unigrams to form multi-word phrases.': 1.0648148148148147,\n",
              " 'This has a nice side effect of allowing us to produce keyphrases of arbitrary length.': 0.6111111111111112,\n",
              " 'For example, if we rank unigrams and find that \"advanced\", \"natural\", \"language\", and \"processing\" all get high ranks, then we would look at the original text and see that these words appear consecutively and create a final keyphrase using all four together.': 6.157407407407409,\n",
              " 'Note that the unigrams placed in the graph can be filtered by part of speech.': 0.3888888888888889,\n",
              " 'The authors found that adjectives and nouns were the best to include.': 0.25925925925925924,\n",
              " 'Thus, some linguistic knowledge comes into play in this step.': 0.23148148148148145,\n",
              " 'Edges are created based on word co-occurrence in this application of TextRank.': 0.3703703703703704,\n",
              " 'Two vertices are connected by an edge if the unigrams appear within a window of size N in the original text.': 1.0462962962962963,\n",
              " 'N is typically around 2–10.': 0.17592592592592593,\n",
              " 'Thus, \"natural\" and \"language\" might be linked in a text about NLP.': 2.7777777777777772,\n",
              " '\"Natural\" and \"processing\" would also be linked because they would both appear in the same string of N words.': 2.7592592592592586,\n",
              " 'These edges build on the notion of \"text cohesion\" and the idea that words that appear near each other are likely related in a meaningful way and \"recommend\" each other to the reader.': 3.111111111111111,\n",
              " 'Since this method simply ranks the individual vertices, we need a way to threshold or produce a limited number of keyphrases.': 1.0092592592592593,\n",
              " 'The technique chosen is to set a count T to be a user-specified fraction of the total number of vertices in the graph.': 0.6296296296296297,\n",
              " 'Then the top T vertices/unigrams are selected based on their stationary probabilities.': 0.37037037037037035,\n",
              " 'A post- processing step is then applied to merge adjacent instances of these T unigrams.': 0.4444444444444444,\n",
              " 'As a result, potentially more or less than T final keyphrases will be produced, but the number should be roughly proportional to the length of the original text.': 1.222222222222222,\n",
              " 'It is not initially clear why applying PageRank to a co-occurrence graph would produce useful keyphrases.': 0.8518518518518519,\n",
              " 'One way to think about it is the following.': 0.2685185185185185,\n",
              " 'A word that appears multiple times throughout a text may have many different co-occurring neighbors.': 1.0185185185185184,\n",
              " 'For example, in a text about machine learning, the unigram \"learning\" might co-occur with \"machine\", \"supervised\", \"un-supervised\", and \"semi-supervised\" in four different sentences.': 6.796296296296298,\n",
              " 'Thus, the \"learning\" vertex would be a central \"hub\" that connects to these other modifying words.': 2.4999999999999996,\n",
              " 'Running PageRank/TextRank on the graph is likely to rank \"learning\" highly.': 1.4814814814814816,\n",
              " 'Similarly, if the text contains the phrase \"supervised classification\", then there would be an edge between \"supervised\" and \"classification\".': 4.12962962962963,\n",
              " 'If \"classification\" appears several other places and thus has many neighbors, its importance would contribute to the importance of \"supervised\".': 2.861111111111111,\n",
              " 'If it ends up with a high rank, it will be selected as one of the top T unigrams, along with \"learning\" and probably \"classification\".': 2.7222222222222223,\n",
              " 'In the final post-processing step, we would then end up with keyphrases \"supervised learning\" and \"supervised classification\".': 3.0833333333333335,\n",
              " 'In short, the co-occurrence graph will contain densely connected regions for terms that appear often and in different contexts.': 0.6296296296296297,\n",
              " 'A random walk on this graph will have a stationary distribution that assigns large probabilities to the terms in the centers of the clusters.': 0.5277777777777777,\n",
              " 'This is similar to densely connected Web pages getting ranked highly by PageRank.': 0.37037037037037035,\n",
              " 'This approach has also been used in document summarization, considered below.': 1.4907407407407407,\n",
              " 'Like keyphrase extraction, document summarization aims to identify the essence of a text.': 1.9444444444444444,\n",
              " 'The only real difference is that now we are dealing with larger text units—whole sentences instead of words and phrases.': 1.0555555555555556,\n",
              " 'Supervised text summarization is very much like supervised keyphrase extraction.': 1.8888888888888884,\n",
              " 'Basically, if you have a collection of documents and human-generated summaries for them, you can learn features of sentences that make them good candidates for inclusion in the summary.': 1.4351851851851851,\n",
              " 'Features might include the position in the document (i.e., the first few sentences are probably important), the number of words in the sentence, etc.': 1.3796296296296295,\n",
              " 'The main difficulty in supervised extractive summarization is that the known summaries must be manually created by extracting sentences so the sentences in an original training document can be labeled as \"in summary\" or \"not in summary\".': 5.12037037037037,\n",
              " 'This is not typically how people create summaries, so simply using journal abstracts or existing summaries is usually not sufficient.': 1.0277777777777777,\n",
              " 'The sentences in these summaries do not necessarily match up with sentences in the original text, so it would be difficult to assign labels to examples for training.': 1.972222222222222,\n",
              " 'Note, however, that these natural summaries can still be used for evaluation purposes, since ROUGE-1 evaluation only considers unigrams.': 1.0925925925925926,\n",
              " 'During the DUC 2001 and 2002 evaluation workshops, TNO developed a sentence extraction system for multi-document summarization in the news domain.': 1.8055555555555556,\n",
              " 'The system was based on a hybrid system using a Naive Bayes classifier and statistical language models for modeling salience.': 0.9166666666666666,\n",
              " 'Although the system exhibited good results, the researchers wanted to explore the effectiveness of a maximum entropy (ME) classifier for the meeting summarization task, as ME is known to be robust against feature dependencies.': 1.4074074074074074,\n",
              " 'Maximum entropy has also been applied successfully for summarization in the broadcast news domain.': 1.3148148148148149,\n",
              " 'A promising approach is adaptive document/text summarization.': 0.8981481481481481,\n",
              " '[17] It involves first recognizing the text genre and then applying summarization algorithms optimized for this genre.': 1.5925925925925926,\n",
              " 'Such software has been created.': 0.17592592592592593,\n",
              " '[18]\\n\\nThe unsupervised approach to summarization is also quite similar in spirit to unsupervised keyphrase extraction and gets around the issue of costly training data.': 1.9259259259259263,\n",
              " 'Some unsupervised summarization approaches are based on finding a \"centroid\" sentence, which is the mean word vector of all the sentences in the document.': 2.814814814814815,\n",
              " 'Then the sentences can be ranked with regard to their similarity to this centroid sentence.': 0.6666666666666667,\n",
              " 'A more principled way to estimate sentence importance is using random walks and eigenvector centrality.': 0.7037037037037036,\n",
              " 'LexRank[19] is an algorithm essentially identical to TextRank, and both use this approach for document summarization.': 1.4074074074074072,\n",
              " 'The two methods were developed by different groups at the same time, and LexRank simply focused on summarization, but could just as easily be used for keyphrase extraction or any other NLP ranking task.': 2.0370370370370368,\n",
              " 'In both LexRank and TextRank, a graph is constructed by creating a vertex for each sentence in the document.': 0.6388888888888888,\n",
              " 'The edges between sentences are based on some form of semantic similarity or content overlap.': 0.8703703703703703,\n",
              " \"While LexRank uses cosine similarity of TF-IDF vectors, TextRank uses a very similar measure based on the number of words two sentences have in common (normalized by the sentences' lengths).\": 1.472222222222222,\n",
              " 'The LexRank paper explored using unweighted edges after applying a threshold to the cosine values, but also experimented with using edges with weights equal to the similarity score.': 1.0648148148148149,\n",
              " 'TextRank uses continuous similarity scores as weights.': 0.3055555555555556,\n",
              " 'In both algorithms, the sentences are ranked by applying PageRank to the resulting graph.': 0.7499999999999999,\n",
              " 'A summary is formed by combining the top ranking sentences, using a threshold or length cutoff to limit the size of the summary.': 1.3425925925925926,\n",
              " 'It is worth noting that TextRank was applied to summarization exactly as described here, while LexRank was used as part of a larger summarization system (MEAD) that combines the LexRank score (stationary probability) with other features like sentence position and length using a linear combination with either user-specified or automatically tuned weights.': 2.8518518518518507,\n",
              " 'In this case, some training documents might be needed, though the TextRank results show the additional features are not absolutely necessary.': 0.8703703703703705,\n",
              " 'Unlike TextRank, LexRank has been applied to multi-document summarization.': 1.0,\n",
              " 'Multi-document summarization is an automatic procedure aimed at extraction of information from multiple texts written about the same topic.': 1.5092592592592593,\n",
              " 'Resulting summary report allows individual users, such as professional information consumers, to quickly familiarize themselves with information contained in a large cluster of documents.': 0.9722222222222222,\n",
              " 'In such a way, multi-document summarization systems are complementing the news aggregators performing the next step down the road of coping with information overload.': 1.5462962962962967,\n",
              " 'Multi-document summarization may also be done in response to a question.': 1.0833333333333335,\n",
              " '[20][11]\\n\\nMulti-document summarization creates information reports that are both concise and comprehensive.': 1.0555555555555556,\n",
              " 'With different opinions being put together and outlined, every topic is described from multiple perspectives within a single document.': 0.7222222222222221,\n",
              " 'While the goal of a brief summary is to simplify information search and cut the time by pointing to the most relevant source documents, comprehensive multi-document summary should itself contain the required information, hence limiting the need for accessing original files to cases when refinement is required.': 1.7592592592592597,\n",
              " 'Automatic summaries present information extracted from multiple sources algorithmically, without any editorial touch or subjective human intervention, thus making it completely unbiased.': 0.9074074074074077,\n",
              " '[dubious – discuss]\\n\\nMulti-document extractive summarization faces a problem of redundancy.': 1.0277777777777777,\n",
              " 'Ideally, we want to extract sentences that are both \"central\" (i.e., contain the main ideas) and \"diverse\" (i.e., they differ from one another).': 2.7685185185185173,\n",
              " 'For example, in a set of news articles about some event, each article is likely to have many similar sentences.': 1.2407407407407407,\n",
              " 'To address this issue, LexRank applies a heuristic post-processing step that adds sentences in rank order, but discards sentences that are too similar to ones already in the summary.': 1.2962962962962965,\n",
              " 'This method is called Cross-Sentence Information Subsumption (CSIS).': 0.2037037037037037,\n",
              " 'These methods work based on the idea that sentences \"recommend\" other similar sentences to the reader.': 2.138888888888889,\n",
              " 'Thus, if one sentence is very similar to many others, it will likely be a sentence of great importance.': 0.8518518518518519,\n",
              " 'Its importance also stems from the importance of the sentences \"recommending\" it.': 1.7037037037037037,\n",
              " 'Thus, to get ranked highly and placed in a summary, a sentence must be similar to many sentences that are in turn also similar to many other sentences.': 1.8981481481481481,\n",
              " 'This makes intuitive sense and allows the algorithms to be applied to an arbitrary new text.': 0.8518518518518519,\n",
              " 'The methods are domain-independent and easily portable.': 0.29629629629629634,\n",
              " 'One could imagine the features indicating important sentences in the news domain might vary considerably from the biomedical domain.': 1.1666666666666667,\n",
              " 'However, the unsupervised \"recommendation\"-based approach applies to any domain.': 1.351851851851852,\n",
              " 'A related method is Maximal Marginal Relevance (MMR),[21] which uses a general-purpose graph-based ranking algorithm like Page/Lex/TextRank that handles both \"centrality\" and \"diversity\" in a unified mathematical framework based on absorbing Markov chain random walks (a random walk where certain states end the walk).': 3.194444444444444,\n",
              " 'The algorithm is called GRASSHOPPER.': 0.32407407407407407,\n",
              " '[22] In addition to explicitly promoting diversity during the ranking process, GRASSHOPPER incorporates a prior ranking (based on sentence position in the case of summarization).': 1.537037037037037,\n",
              " 'The state of the art results for multi-document summarization are obtained using mixtures of submodular functions.': 1.648148148148148,\n",
              " 'These methods have achieved the state of the art results for Document Summarization Corpora, DUC 04 - 07.': 0.4074074074074074,\n",
              " '[23] Similar results were achieved with the use of determinantal point processes (which are a special case of submodular functions) for DUC-04.': 0.8518518518518519,\n",
              " '[24]\\n\\nA new method for multi-lingual multi-document summarization that avoids redundancy generates ideograms to represent the meaning of each sentence in each document, then evaluates similarity by comparing ideogram shape and position.': 1.6574074074074077,\n",
              " 'It does not use word frequency, training or preprocessing.': 0.3611111111111111,\n",
              " 'It uses two user-supplied parameters: equivalence (when are two sentences to be considered equivalent?)': 0.611111111111111,\n",
              " 'and relevance (how long is the desired summary?).': 0.47222222222222227,\n",
              " 'The idea of a submodular set function has recently emerged as a powerful modeling tool for various summarization problems.': 1.5092592592592593,\n",
              " 'Submodular functions naturally model notions of coverage, information, representation and diversity.': 0.6851851851851852,\n",
              " 'Moreover, several important combinatorial optimization problems occur as special instances of submodular optimization.': 0.7685185185185185,\n",
              " 'For example, the set cover problem is a special case of submodular optimization, since the set cover function is submodular.': 1.5925925925925926,\n",
              " 'The set cover function attempts to find a subset of objects which cover a given set of concepts.': 0.8518518518518519,\n",
              " 'For example, in document summarization, one would like the summary to cover all important and relevant concepts in the document.': 2.361111111111111,\n",
              " 'This is an instance of set cover.': 0.3611111111111111,\n",
              " 'Similarly, the facility location problem is a special case of submodular functions.': 0.712962962962963,\n",
              " 'The Facility Location function also naturally models coverage and diversity.': 0.6203703703703703,\n",
              " 'Another example of a submodular optimization problem is using a determinantal point process to model diversity.': 1.1296296296296295,\n",
              " 'Similarly, the Maximum-Marginal-Relevance procedure can also be seen as an instance of submodular optimization.': 0.6296296296296297,\n",
              " 'All these important models encouraging coverage, diversity and information are all submodular.': 0.8333333333333333,\n",
              " 'Moreover, submodular functions can be efficiently combined, and the resulting function is still submodular.': 0.9074074074074074,\n",
              " 'Hence, one could combine one submodular function which models diversity, another one which models coverage and use human supervision to learn a right model of a submodular function for the problem.': 2.0370370370370368,\n",
              " 'While submodular functions are fitting problems for summarization, they also admit very efficient algorithms for optimization.': 1.6296296296296298,\n",
              " 'For example, a simple greedy algorithm admits a constant factor guarantee.': 0.5370370370370369,\n",
              " '[25] Moreover, the greedy algorithm is extremely simple to implement and can scale to large datasets, which is very important for summarization problems.': 1.3148148148148147,\n",
              " 'Submodular functions have achieved state-of-the-art for almost all summarization problems.': 1.074074074074074,\n",
              " 'For example, work by Lin and Bilmes, 2012[26] shows that submodular functions achieve the best results to date on DUC-04, DUC-05, DUC-06 and DUC-07 systems for document summarization.': 1.9259259259259258,\n",
              " 'Similarly, work by Lin and Bilmes, 2011,[27] shows that many existing systems for automatic summarization are instances of submodular functions.': 1.7129629629629628,\n",
              " 'This was a breakthrough result establishing submodular functions as the right models for summarization problems.': 1.3981481481481481,\n",
              " '[citation needed]\\n\\nSubmodular Functions have also been used for other summarization tasks.': 1.2407407407407407,\n",
              " 'Tschiatschek et al., 2014 show[28] that mixtures of submodular functions achieve state-of-the-art results for image collection summarization.': 1.546296296296296,\n",
              " 'Similarly, Bairi et al., 2015[29] show the utility of submodular functions for summarizing multi-document topic hierarchies.': 0.7870370370370371,\n",
              " 'Submodular Functions have also successfully been used for summarizing machine learning datasets.': 0.7129629629629629,\n",
              " '[30]\\n• The Reddit bot \"autotldr\",[31] created in 2011 summarizes news articles in the comment-section of reddit posts.': 1.5370370370370374,\n",
              " 'It was found to be very useful by the reddit community which upvoted its summaries hundreds of thousands of times.': 0.5277777777777778,\n",
              " '[32] The name is reference to TL;DR − Internet slang for \"too long; didn\\'t read\".': 1.259259259259259,\n",
              " '[33][34]\\n• Adversarial stylometry may make use of summaries, if the detail lost is not major and the summary is sufficiently stylistically different to the input.': 1.0648148148148149,\n",
              " 'The most common way to evaluate the informativeness of automatic summaries is to compare them with human-made model summaries.': 1.0648148148148147,\n",
              " 'Evaluation can be intrinsic or extrinsic,[36] and inter-textual or intra-textual.': 0.21296296296296297,\n",
              " '[37]\\n\\nIntrinsic evaluation assesses the summaries directly, while extrinsic evaluation evaluates how the summarization system affects the completion of some other task.': 1.6574074074074074,\n",
              " 'Intrinsic evaluations have assessed mainly the coherence and informativeness of summaries.': 0.4351851851851852,\n",
              " 'Extrinsic evaluations, on the other hand, have tested the impact of summarization on tasks like relevance assessment, reading comprehension, etc.': 1.138888888888889,\n",
              " 'Intra-textual evaluation assess the output of a specific summarization system, while inter-textual evaluation focuses on contrastive analysis of outputs of several summarization systems.': 2.2870370370370368,\n",
              " 'Human judgement often varies greatly in what it considers a \"good\" summary, so creating an automatic evaluation process is particularly difficult.': 1.9166666666666667,\n",
              " 'Manual evaluation can be used, but this is both time and labor-intensive, as it requires humans to read not only the summaries but also the source documents.': 1.1203703703703702,\n",
              " 'Other issues are those concerning coherence and coverage.': 0.2037037037037037,\n",
              " 'The most common way to evaluate summaries is ROUGE (Recall-Oriented Understudy for Gisting Evaluation).': 0.5277777777777778,\n",
              " \"It is very common for summarization and translation systems in NIST's Document Understanding Conferences.\": 1.0277777777777777,\n",
              " '[2] ROUGE is a recall-based measure of how well a summary covers the content of human-generated summaries known as references.': 0.9537037037037037,\n",
              " 'It calculates n-gram overlaps between automatically generated summaries and previously written human summaries.': 0.8333333333333334,\n",
              " 'It is recall-based to encourage inclusion of all important topics in summaries.': 0.5462962962962963,\n",
              " 'Recall can be computed with respect to unigram, bigram, trigram, or 4-gram matching.': 0.24074074074074076,\n",
              " 'For example, ROUGE-1 is the fraction of unigrams that appear in both the reference summary and the automatic summary out of all unigrams in the reference summary.': 1.6481481481481484,\n",
              " 'If there are multiple reference summaries, their scores are averaged.': 0.49074074074074076,\n",
              " 'A high level of overlap should indicate a high degree of shared concepts between the two summaries.': 0.6481481481481481,\n",
              " 'ROUGE cannot determine if the result is coherent, that is if sentences flow together in a sensibly.': 0.5092592592592592,\n",
              " 'High-order n-gram ROUGE measures help to some degree.': 0.19444444444444442,\n",
              " 'Another unsolved problem is Anaphor resolution.': 0.21296296296296297,\n",
              " 'Similarly, for image summarization, Tschiatschek et al., developed a Visual-ROUGE score which judges the performance of algorithms for image summarization.': 1.9074074074074077,\n",
              " '[38]\\n\\nDomain-independent summarization techniques apply sets of general features to identify information-rich text segments.': 1.6203703703703702,\n",
              " \"Recent research focuses on domain-specific summarization using knowledge specific to the text's domain, such as medical knowledge and ontologies for summarizing medical texts.\": 1.9351851851851851,\n",
              " '[39]\\n\\nThe main drawback of the evaluation systems so far is that we need a reference summary (for some methods, more than one), to compare automatic summaries with models.': 1.5370370370370368,\n",
              " 'This is a hard and expensive task.': 0.18518518518518517,\n",
              " 'Much effort has to be made to create corpora of texts and their corresponding summaries.': 0.5185185185185185,\n",
              " 'Furthermore, some methods require manual annotation of the summaries (e.g.': 0.5462962962962963,\n",
              " 'SCU in the Pyramid Method).': 0.10185185185185185,\n",
              " 'Moreover, they all perform a quantitative evaluation with regard to different similarity metrics.': 0.4722222222222222,\n",
              " 'The first publication in the area dates back to 1957 [40] (Hans Peter Luhn), starting with a statistical technique.': 0.2962962962962963,\n",
              " 'Research increased significantly in 2015.': 0.12962962962962962,\n",
              " 'Term frequency–inverse document frequency had been used by 2016.': 0.5462962962962962,\n",
              " 'Pattern-based summarization was the most powerful option for multi-document summarization found by 2016.': 1.75,\n",
              " 'In the following year it was surpassed by latent semantic analysis (LSA) combined with non-negative matrix factorization (NMF).': 0.3148148148148148,\n",
              " 'Although they did not replace other approaches and are often combined with them, by 2019 machine learning methods dominated the extractive summarization of single documents, which was considered to be nearing maturity.': 1.5833333333333333,\n",
              " 'By 2020, the field was still very active and research is shifting towards abstractive summation and real-time summarization.': 1.0277777777777777,\n",
              " '[41]\\n\\nRecently the rise of transformer models replacing more traditional RNN (LSTM) have provided a flexibility in the mapping of text sequences to text sequences of a different type, which is well suited to automatic summarization.': 2.2314814814814814,\n",
              " 'This includes models such as T5[42] and Pegasus.': 0.21296296296296297,\n",
              " '[43]\\n• None Potthast, Martin; Hagen, Matthias; Stein, Benno (2016).': 0.21296296296296297,\n",
              " 'Author Obfuscation: Attacking the State of the Art in Authorship Verification .': 0.10185185185185185,\n",
              " 'Conference and Labs of the Evaluation Forum.': 0.10185185185185185,\n",
              " '• None Roxana, Angheluta (2002).': 0.21296296296296297,\n",
              " 'The Use of Topic Segmentation for Automatic Summarization.': 0.10185185185185185,\n",
              " '• None Elena, Lloret and Manuel, Palomar (2009).': 0.2037037037037037,\n",
              " 'Challenging Issues of Automatic Summarization: Relevance Detection and Quality-based Evaluation.': 0.10185185185185185,\n",
              " 'Archived from the original on 2018-10-03 .': 0.25925925925925924,\n",
              " '• None Alrehamy, Hassan (2018).': 0.2037037037037037,\n",
              " '\"SemCluster: Unsupervised Automatic Keyphrase Extraction Using Affinity Propagation\".': 1.1018518518518519,\n",
              " 'Advances in Computational Intelligence Systems.': 0.10185185185185185,\n",
              " 'Advances in Intelligent Systems and Computing.': 0.10185185185185185,\n",
              " 'Vol.': 0.2037037037037037,\n",
              " '650. pp.': 0.12962962962962962,\n",
              " '222–235.': 0.1111111111111111,\n",
              " 'doi:10.1007/978-3-319-66939-7_19.': 0.1111111111111111,\n",
              " 'ISBN .': 0.3055555555555555,\n",
              " '• None Marcu, Daniel (2000).': 0.2037037037037037,\n",
              " 'The Theory and Practice of Discourse Parsing and Summarization.': 0.10185185185185185,\n",
              " 'MIT Press.': 0.10185185185185185,\n",
              " \"• , Published in Proceeding RIAO'10 Adaptivity, Personalization and Fusion of Heterogeneous Information, CID Paris, France\\n• None Xiaojin, Zhu, Andrew Goldberg, Jurgen Van Gael, and David Andrzejewski (2007).\": 0.2962962962962963,\n",
              " 'Improving diversity in ranking using absorbing random walks .': 0.537037037037037,\n",
              " ', The GRASSHOPPER algorithm\\n• None Miranda-Jiménez, Sabino, Gelbukh, Alexander, and Sidorov, Grigori (2013).': 0.37037037037037035,\n",
              " '\"Summarizing Conceptual Graphs for Automatic Summarization Task\".': 1.1018518518518519,\n",
              " 'Conceptual Structures for STEM Research and Education.': 0.10185185185185185,\n",
              " 'Lecture Notes in Computer Science.': 0.10185185185185185,\n",
              " '7735. pp.': 0.12962962962962962,\n",
              " '245–253.': 0.1111111111111111,\n",
              " 'doi:10.1007/978-3-642-35786-2_18.': 0.1111111111111111,\n",
              " ', Conceptual Structures for STEM Research and Education.': 0.10185185185185185}"
            ]
          },
          "metadata": {},
          "execution_count": 52
        }
      ]
    },
    {
      "cell_type": "code",
      "source": [
        "def visualize(title, sentence_list, best_sentences):\n",
        "  from IPython.core.display import HTML\n",
        "  text = ''\n",
        "\n",
        "  display(HTML(f'<h1>Summary - {title}</h1>'))\n",
        "  for sentence in sentence_list:\n",
        "    if sentence in best_sentences:\n",
        "      text += ' ' + str(sentence).replace(sentence, f\"<mark>{sentence}</mark>\")\n",
        "    else:\n",
        "      text += ' ' + sentence\n",
        "  display(HTML(f\"\"\" {text} \"\"\"))"
      ],
      "metadata": {
        "id": "h--sShxYoWC2"
      },
      "execution_count": 53,
      "outputs": []
    },
    {
      "cell_type": "code",
      "source": [
        "visualize(article.title, sentence_list, best_sentences)"
      ],
      "metadata": {
        "colab": {
          "base_uri": "https://localhost:8080/",
          "height": 1000
        },
        "id": "cUsu1yS0oYwH",
        "outputId": "6d43046c-3e44-4a0c-8c30-0b7b244afc28"
      },
      "execution_count": 54,
      "outputs": [
        {
          "output_type": "display_data",
          "data": {
            "text/plain": [
              "<IPython.core.display.HTML object>"
            ],
            "text/html": [
              "<h1>Summary - Automatic summarization - Wikipedia</h1>"
            ]
          },
          "metadata": {}
        },
        {
          "output_type": "display_data",
          "data": {
            "text/plain": [
              "<IPython.core.display.HTML object>"
            ],
            "text/html": [
              "  <mark>Automatic summarization is the process of shortening a set of data computationally, to create a subset (a summary) that represents the most important or relevant information within the original content.</mark> Artificial intelligence algorithms are commonly developed and employed to achieve this, specialized for different types of data. <mark>Text summarization is usually implemented by natural language processing methods, designed to locate the most informative sentences in a given document.</mark> [1] On the other hand, visual content can be summarized using computer vision algorithms. <mark>Image summarization is the subject of ongoing research; existing approaches typically attempt to display the most representative images from a given image collection, or generate a video that only includes the most important content from the entire collection.</mark> <mark>[2][3][4] Video summarization algorithms identify and extract from the original video content the most important frames (key-frames), and/or the most important video segments (key-shots), normally in a temporally ordered fashion.</mark> <mark>[5][6][7][8] Video summaries simply retain a carefully selected subset of the original video frames and, therefore, are not identical to the output of video synopsis algorithms, where new video frames are being synthesized based on the original video content.</mark> <mark>There are two general approaches to automatic summarization: extraction and abstraction.</mark> Here, content is extracted from the original data, but the extracted content is not modified in any way. <mark>Examples of extracted content include key-phrases that can be used to \"tag\" or index a text document, or key sentences (including headings) that collectively comprise an abstract, and representative images or video segments, as stated above.</mark> <mark>For text, extraction is analogous to the process of skimming, where the summary (if available), headings and subheadings, figures, the first and last paragraphs of a section, and optionally the first and last sentences in a paragraph are read before one chooses to read the entire document in detail.</mark> [10] Other examples of extraction that include key sequences of text in terms of clinical relevance (including patient/problem, intervention, and outcome). <mark>[11]\n",
              "\n",
              "Abstractive summarization methods generate new text that did not exist in the original text.</mark> [12] This has been applied mainly for text. <mark>Abstractive methods build an internal semantic representation of the original content (often called a language model), and then use this representation to create a summary that is closer to what a human might express.</mark> Abstraction may transform the extracted content by paraphrasing sections of the source document, to condense a text more strongly than extraction. <mark>Such transformation, however, is computationally much more challenging than extraction, involving both natural language processing and often a deep understanding of the domain of the original text in cases where the original document relates to a special field of knowledge.</mark> <mark>\"Paraphrasing\" is even more difficult to apply to images and videos, which is why most summarization systems are extractive.</mark> Approaches aimed at higher summarization quality rely on combined software and human effort. In Machine Aided Human Summarization, extractive techniques highlight candidate passages for inclusion (to which the human adds or removes text). In Human Aided Machine Summarization, a human post-processes software output, in the same way that one edits the output of automatic translation by Google Translate. <mark>There are broadly two types of extractive summarization tasks depending on what the summarization program focuses on.</mark> <mark>The first is generic summarization, which focuses on obtaining a generic summary or abstract of the collection (whether documents, or sets of images, or videos, news stories etc.).</mark> <mark>The second is query relevant summarization, sometimes called query-based summarization, which summarizes objects specific to a query.</mark> <mark>Summarization systems are able to create both query relevant text summaries and generic machine-generated summaries depending on what the user needs.</mark> <mark>An example of a summarization problem is document summarization, which attempts to automatically produce an abstract from a given document.</mark> <mark>Sometimes one might be interested in generating a summary from a single source document, while others can use multiple source documents (for example, a cluster of articles on the same topic).</mark> This problem is called multi-document summarization. A related application is summarizing news articles. Imagine a system, which automatically pulls together news articles on a given topic (from the web), and concisely represents the latest news as a summary. <mark>Image collection summarization is another application example of automatic summarization.</mark> It consists in selecting a representative set of images from a larger set of images. [13] A summary in this context is useful to show the most representative images of results in an image collection exploration system. <mark>Video summarization is a related domain, where the system automatically creates a trailer of a long video.</mark> This also has applications in consumer or personal videos, where one might want to skip the boring or repetitive actions. Similarly, in surveillance videos, one would want to extract important and suspicious activity, while ignoring all the boring and redundant frames captured. <mark>At a very high level, summarization algorithms try to find subsets of objects (like set of sentences, or a set of images), which cover information of the entire set.</mark> This is also called the core-set. These algorithms model notions like diversity, coverage, information and representativeness of the summary. <mark>Query based summarization techniques, additionally model for relevance of the summary with the query.</mark> <mark>Some techniques and algorithms which naturally model summarization problems are TextRank and PageRank, Submodular set function, Determinantal point process, maximal marginal relevance (MMR) etc.</mark> The task is the following. <mark>You are given a piece of text, such as a journal article, and you must produce a list of keywords or key[phrase]s that capture the primary topics discussed in the text.</mark> [14] In the case of research articles, many authors provide manually assigned keywords, but most text lacks pre-existing keyphrases. For example, news articles rarely have keyphrases attached, but it would be useful to be able to automatically do so for a number of applications discussed below. <mark>Consider the example text from a news article:\n",
              "\n",
              "A keyphrase extractor might select \"Army Corps of Engineers\", \"President Bush\", \"New Orleans\", and \"defective flood-control pumps\" as keyphrases.</mark> These are pulled directly from the text. <mark>In contrast, an abstractive keyphrase system would somehow internalize the content and generate keyphrases that do not appear in the text, but more closely resemble what a human might produce, such as \"political negligence\" or \"inadequate protection from floods\".</mark> Abstraction requires a deep understanding of the text, which makes it difficult for a computer system. Keyphrases have many applications. <mark>They can enable document browsing by providing a short summary, improve information retrieval (if documents have keyphrases assigned, a user could search by keyphrase to produce more reliable hits than a full-text search), and be employed in generating index entries for a large text corpus.</mark> Depending on the different literature and the definition of key terms, words or phrases, keyword extraction is a highly related theme. Beginning with the work of Turney,[15] many researchers have approached keyphrase extraction as a supervised machine learning problem. <mark>Given a document, we construct an example for each unigram, bigram, and trigram found in the text (though other text units are also possible, as discussed below).</mark> We then compute various features describing each example (e.g., does the phrase begin with an upper-case letter?). We assume there are known keyphrases available for a set of training documents. Using the known keyphrases, we can assign positive or negative labels to the examples. Then we learn a classifier that can discriminate between positive and negative examples as a function of the features. Some classifiers make a binary classification for a test example, while others assign a probability of being a keyphrase. For instance, in the above text, we might learn a rule that says phrases with initial capital letters are likely to be keyphrases. After training a learner, we can select keyphrases for test documents in the following manner. We apply the same example-generation strategy to the test documents, then run each example through the learner. We can determine the keyphrases by looking at binary classification decisions or probabilities returned from our learned model. If probabilities are given, a threshold is used to select the keyphrases. Keyphrase extractors are generally evaluated using precision and recall. Precision measures how many of the proposed keyphrases are actually correct. Recall measures how many of the true keyphrases your system proposed. The two measures can be combined in an F-score, which is the harmonic mean of the two (F = 2PR/(P + R) ). <mark>Matches between the proposed keyphrases and the known keyphrases can be checked after stemming or applying some other text normalization.</mark> Designing a supervised keyphrase extraction system involves deciding on several choices (some of these apply to unsupervised, too). The first choice is exactly how to generate examples. Turney and others have used all possible unigrams, bigrams, and trigrams without intervening punctuation and after removing stopwords. Hulth showed that you can get some improvement by selecting examples to be sequences of tokens that match certain patterns of part-of-speech tags. Ideally, the mechanism for generating examples produces all the known labeled keyphrases as candidates, though this is often not the case. For example, if we use only unigrams, bigrams, and trigrams, then we will never be able to extract a known keyphrase containing four words. Thus, recall may suffer. However, generating too many examples can also lead to low precision. <mark>We also need to create features that describe the examples and are informative enough to allow a learning algorithm to discriminate keyphrases from non- keyphrases.</mark> <mark>Typically features involve various term frequencies (how many times a phrase appears in the current text or in a larger corpus), the length of the example, relative position of the first occurrence, various boolean syntactic features (e.g., contains all caps), etc.</mark> The Turney paper used about 12 such features. Hulth uses a reduced set of features, which were found most successful in the KEA (Keyphrase Extraction Algorithm) work derived from Turney's seminal paper. In the end, the system will need to return a list of keyphrases for a test document, so we need to have a way to limit the number. Ensemble methods (i.e., using votes from several classifiers) have been used to produce numeric scores that can be thresholded to provide a user-provided number of keyphrases. This is the technique used by Turney with C4.5 decision trees. Hulth used a single binary classifier so the learning algorithm implicitly determines the appropriate number. Once examples and features are created, we need a way to learn to predict keyphrases. Virtually any supervised learning algorithm could be used, such as decision trees, Naive Bayes, and rule induction. <mark>In the case of Turney's GenEx algorithm, a genetic algorithm is used to learn parameters for a domain-specific keyphrase extraction algorithm.</mark> The extractor follows a series of heuristics to identify keyphrases. The genetic algorithm optimizes parameters for these heuristics with respect to performance on training documents with known key phrases. Another keyphrase extraction algorithm is TextRank. <mark>While supervised methods have some nice properties, like being able to produce interpretable rules for what features characterize a keyphrase, they also require a large amount of training data.</mark> Many documents with known keyphrases are needed. Furthermore, training on a specific domain tends to customize the extraction process to that domain, so the resulting classifier is not necessarily portable, as some of Turney's results demonstrate. Unsupervised keyphrase extraction removes the need for training data. It approaches the problem from a different angle. <mark>Instead of trying to learn explicit features that characterize keyphrases, the TextRank algorithm[16] exploits the structure of the text itself to determine keyphrases that appear \"central\" to the text in the same way that PageRank selects important Web pages.</mark> <mark>Recall this is based on the notion of \"prestige\" or \"recommendation\" from social networks.</mark> <mark>In this way, TextRank does not rely on any previous training data at all, but rather can be run on any arbitrary piece of text, and it can produce output simply based on the text's intrinsic properties.</mark> Thus the algorithm is easily portable to new domains and languages. TextRank is a general purpose graph-based ranking algorithm for NLP. Essentially, it runs PageRank on a graph specially designed for a particular NLP task. <mark>For keyphrase extraction, it builds a graph using some set of text units as vertices.</mark> Edges are based on some measure of semantic or lexical similarity between the text unit vertices. Unlike PageRank, the edges are typically undirected and can be weighted to reflect a degree of similarity. <mark>Once the graph is constructed, it is used to form a stochastic matrix, combined with a damping factor (as in the \"random surfer model\"), and the ranking over vertices is obtained by finding the eigenvector corresponding to eigenvalue 1 (i.e., the stationary distribution of the random walk on the graph).</mark> The vertices should correspond to what we want to rank. Potentially, we could do something similar to the supervised methods and create a vertex for each unigram, bigram, trigram, etc. However, to keep the graph small, the authors decide to rank individual unigrams in a first step, and then include a second step that merges highly ranked adjacent unigrams to form multi-word phrases. This has a nice side effect of allowing us to produce keyphrases of arbitrary length. <mark>For example, if we rank unigrams and find that \"advanced\", \"natural\", \"language\", and \"processing\" all get high ranks, then we would look at the original text and see that these words appear consecutively and create a final keyphrase using all four together.</mark> Note that the unigrams placed in the graph can be filtered by part of speech. The authors found that adjectives and nouns were the best to include. Thus, some linguistic knowledge comes into play in this step. Edges are created based on word co-occurrence in this application of TextRank. Two vertices are connected by an edge if the unigrams appear within a window of size N in the original text. N is typically around 2–10. <mark>Thus, \"natural\" and \"language\" might be linked in a text about NLP.</mark> <mark>\"Natural\" and \"processing\" would also be linked because they would both appear in the same string of N words.</mark> <mark>These edges build on the notion of \"text cohesion\" and the idea that words that appear near each other are likely related in a meaningful way and \"recommend\" each other to the reader.</mark> Since this method simply ranks the individual vertices, we need a way to threshold or produce a limited number of keyphrases. The technique chosen is to set a count T to be a user-specified fraction of the total number of vertices in the graph. Then the top T vertices/unigrams are selected based on their stationary probabilities. A post- processing step is then applied to merge adjacent instances of these T unigrams. As a result, potentially more or less than T final keyphrases will be produced, but the number should be roughly proportional to the length of the original text. It is not initially clear why applying PageRank to a co-occurrence graph would produce useful keyphrases. One way to think about it is the following. A word that appears multiple times throughout a text may have many different co-occurring neighbors. <mark>For example, in a text about machine learning, the unigram \"learning\" might co-occur with \"machine\", \"supervised\", \"un-supervised\", and \"semi-supervised\" in four different sentences.</mark> <mark>Thus, the \"learning\" vertex would be a central \"hub\" that connects to these other modifying words.</mark> <mark>Running PageRank/TextRank on the graph is likely to rank \"learning\" highly.</mark> <mark>Similarly, if the text contains the phrase \"supervised classification\", then there would be an edge between \"supervised\" and \"classification\".</mark> <mark>If \"classification\" appears several other places and thus has many neighbors, its importance would contribute to the importance of \"supervised\".</mark> <mark>If it ends up with a high rank, it will be selected as one of the top T unigrams, along with \"learning\" and probably \"classification\".</mark> <mark>In the final post-processing step, we would then end up with keyphrases \"supervised learning\" and \"supervised classification\".</mark> In short, the co-occurrence graph will contain densely connected regions for terms that appear often and in different contexts. A random walk on this graph will have a stationary distribution that assigns large probabilities to the terms in the centers of the clusters. This is similar to densely connected Web pages getting ranked highly by PageRank. <mark>This approach has also been used in document summarization, considered below.</mark> <mark>Like keyphrase extraction, document summarization aims to identify the essence of a text.</mark> The only real difference is that now we are dealing with larger text units—whole sentences instead of words and phrases. <mark>Supervised text summarization is very much like supervised keyphrase extraction.</mark> <mark>Basically, if you have a collection of documents and human-generated summaries for them, you can learn features of sentences that make them good candidates for inclusion in the summary.</mark> <mark>Features might include the position in the document (i.e., the first few sentences are probably important), the number of words in the sentence, etc.</mark> <mark>The main difficulty in supervised extractive summarization is that the known summaries must be manually created by extracting sentences so the sentences in an original training document can be labeled as \"in summary\" or \"not in summary\".</mark> This is not typically how people create summaries, so simply using journal abstracts or existing summaries is usually not sufficient. <mark>The sentences in these summaries do not necessarily match up with sentences in the original text, so it would be difficult to assign labels to examples for training.</mark> Note, however, that these natural summaries can still be used for evaluation purposes, since ROUGE-1 evaluation only considers unigrams. <mark>During the DUC 2001 and 2002 evaluation workshops, TNO developed a sentence extraction system for multi-document summarization in the news domain.</mark> The system was based on a hybrid system using a Naive Bayes classifier and statistical language models for modeling salience. <mark>Although the system exhibited good results, the researchers wanted to explore the effectiveness of a maximum entropy (ME) classifier for the meeting summarization task, as ME is known to be robust against feature dependencies.</mark> <mark>Maximum entropy has also been applied successfully for summarization in the broadcast news domain.</mark> A promising approach is adaptive document/text summarization. <mark>[17] It involves first recognizing the text genre and then applying summarization algorithms optimized for this genre.</mark> Such software has been created. <mark>[18]\n",
              "\n",
              "The unsupervised approach to summarization is also quite similar in spirit to unsupervised keyphrase extraction and gets around the issue of costly training data.</mark> <mark>Some unsupervised summarization approaches are based on finding a \"centroid\" sentence, which is the mean word vector of all the sentences in the document.</mark> Then the sentences can be ranked with regard to their similarity to this centroid sentence. A more principled way to estimate sentence importance is using random walks and eigenvector centrality. <mark>LexRank[19] is an algorithm essentially identical to TextRank, and both use this approach for document summarization.</mark> <mark>The two methods were developed by different groups at the same time, and LexRank simply focused on summarization, but could just as easily be used for keyphrase extraction or any other NLP ranking task.</mark> In both LexRank and TextRank, a graph is constructed by creating a vertex for each sentence in the document. The edges between sentences are based on some form of semantic similarity or content overlap. <mark>While LexRank uses cosine similarity of TF-IDF vectors, TextRank uses a very similar measure based on the number of words two sentences have in common (normalized by the sentences' lengths).</mark> The LexRank paper explored using unweighted edges after applying a threshold to the cosine values, but also experimented with using edges with weights equal to the similarity score. TextRank uses continuous similarity scores as weights. In both algorithms, the sentences are ranked by applying PageRank to the resulting graph. <mark>A summary is formed by combining the top ranking sentences, using a threshold or length cutoff to limit the size of the summary.</mark> <mark>It is worth noting that TextRank was applied to summarization exactly as described here, while LexRank was used as part of a larger summarization system (MEAD) that combines the LexRank score (stationary probability) with other features like sentence position and length using a linear combination with either user-specified or automatically tuned weights.</mark> In this case, some training documents might be needed, though the TextRank results show the additional features are not absolutely necessary. Unlike TextRank, LexRank has been applied to multi-document summarization. <mark>Multi-document summarization is an automatic procedure aimed at extraction of information from multiple texts written about the same topic.</mark> Resulting summary report allows individual users, such as professional information consumers, to quickly familiarize themselves with information contained in a large cluster of documents. <mark>In such a way, multi-document summarization systems are complementing the news aggregators performing the next step down the road of coping with information overload.</mark> Multi-document summarization may also be done in response to a question. [20][11]\n",
              "\n",
              "Multi-document summarization creates information reports that are both concise and comprehensive. With different opinions being put together and outlined, every topic is described from multiple perspectives within a single document. <mark>While the goal of a brief summary is to simplify information search and cut the time by pointing to the most relevant source documents, comprehensive multi-document summary should itself contain the required information, hence limiting the need for accessing original files to cases when refinement is required.</mark> Automatic summaries present information extracted from multiple sources algorithmically, without any editorial touch or subjective human intervention, thus making it completely unbiased. [dubious – discuss]\n",
              "\n",
              "Multi-document extractive summarization faces a problem of redundancy. <mark>Ideally, we want to extract sentences that are both \"central\" (i.e., contain the main ideas) and \"diverse\" (i.e., they differ from one another).</mark> For example, in a set of news articles about some event, each article is likely to have many similar sentences. To address this issue, LexRank applies a heuristic post-processing step that adds sentences in rank order, but discards sentences that are too similar to ones already in the summary. This method is called Cross-Sentence Information Subsumption (CSIS). <mark>These methods work based on the idea that sentences \"recommend\" other similar sentences to the reader.</mark> Thus, if one sentence is very similar to many others, it will likely be a sentence of great importance. <mark>Its importance also stems from the importance of the sentences \"recommending\" it.</mark> <mark>Thus, to get ranked highly and placed in a summary, a sentence must be similar to many sentences that are in turn also similar to many other sentences.</mark> This makes intuitive sense and allows the algorithms to be applied to an arbitrary new text. The methods are domain-independent and easily portable. One could imagine the features indicating important sentences in the news domain might vary considerably from the biomedical domain. <mark>However, the unsupervised \"recommendation\"-based approach applies to any domain.</mark> <mark>A related method is Maximal Marginal Relevance (MMR),[21] which uses a general-purpose graph-based ranking algorithm like Page/Lex/TextRank that handles both \"centrality\" and \"diversity\" in a unified mathematical framework based on absorbing Markov chain random walks (a random walk where certain states end the walk).</mark> The algorithm is called GRASSHOPPER. <mark>[22] In addition to explicitly promoting diversity during the ranking process, GRASSHOPPER incorporates a prior ranking (based on sentence position in the case of summarization).</mark> <mark>The state of the art results for multi-document summarization are obtained using mixtures of submodular functions.</mark> These methods have achieved the state of the art results for Document Summarization Corpora, DUC 04 - 07. [23] Similar results were achieved with the use of determinantal point processes (which are a special case of submodular functions) for DUC-04. <mark>[24]\n",
              "\n",
              "A new method for multi-lingual multi-document summarization that avoids redundancy generates ideograms to represent the meaning of each sentence in each document, then evaluates similarity by comparing ideogram shape and position.</mark> It does not use word frequency, training or preprocessing. It uses two user-supplied parameters: equivalence (when are two sentences to be considered equivalent?) and relevance (how long is the desired summary?). <mark>The idea of a submodular set function has recently emerged as a powerful modeling tool for various summarization problems.</mark> Submodular functions naturally model notions of coverage, information, representation and diversity. Moreover, several important combinatorial optimization problems occur as special instances of submodular optimization. <mark>For example, the set cover problem is a special case of submodular optimization, since the set cover function is submodular.</mark> The set cover function attempts to find a subset of objects which cover a given set of concepts. <mark>For example, in document summarization, one would like the summary to cover all important and relevant concepts in the document.</mark> This is an instance of set cover. Similarly, the facility location problem is a special case of submodular functions. The Facility Location function also naturally models coverage and diversity. Another example of a submodular optimization problem is using a determinantal point process to model diversity. Similarly, the Maximum-Marginal-Relevance procedure can also be seen as an instance of submodular optimization. All these important models encouraging coverage, diversity and information are all submodular. Moreover, submodular functions can be efficiently combined, and the resulting function is still submodular. <mark>Hence, one could combine one submodular function which models diversity, another one which models coverage and use human supervision to learn a right model of a submodular function for the problem.</mark> <mark>While submodular functions are fitting problems for summarization, they also admit very efficient algorithms for optimization.</mark> For example, a simple greedy algorithm admits a constant factor guarantee. [25] Moreover, the greedy algorithm is extremely simple to implement and can scale to large datasets, which is very important for summarization problems. Submodular functions have achieved state-of-the-art for almost all summarization problems. <mark>For example, work by Lin and Bilmes, 2012[26] shows that submodular functions achieve the best results to date on DUC-04, DUC-05, DUC-06 and DUC-07 systems for document summarization.</mark> <mark>Similarly, work by Lin and Bilmes, 2011,[27] shows that many existing systems for automatic summarization are instances of submodular functions.</mark> <mark>This was a breakthrough result establishing submodular functions as the right models for summarization problems.</mark> [citation needed]\n",
              "\n",
              "Submodular Functions have also been used for other summarization tasks. <mark>Tschiatschek et al., 2014 show[28] that mixtures of submodular functions achieve state-of-the-art results for image collection summarization.</mark> Similarly, Bairi et al., 2015[29] show the utility of submodular functions for summarizing multi-document topic hierarchies. Submodular Functions have also successfully been used for summarizing machine learning datasets. <mark>[30]\n",
              "• The Reddit bot \"autotldr\",[31] created in 2011 summarizes news articles in the comment-section of reddit posts.</mark> It was found to be very useful by the reddit community which upvoted its summaries hundreds of thousands of times. [32] The name is reference to TL;DR − Internet slang for \"too long; didn't read\". [33][34]\n",
              "• Adversarial stylometry may make use of summaries, if the detail lost is not major and the summary is sufficiently stylistically different to the input. The most common way to evaluate the informativeness of automatic summaries is to compare them with human-made model summaries. Evaluation can be intrinsic or extrinsic,[36] and inter-textual or intra-textual. <mark>[37]\n",
              "\n",
              "Intrinsic evaluation assesses the summaries directly, while extrinsic evaluation evaluates how the summarization system affects the completion of some other task.</mark> Intrinsic evaluations have assessed mainly the coherence and informativeness of summaries. Extrinsic evaluations, on the other hand, have tested the impact of summarization on tasks like relevance assessment, reading comprehension, etc. <mark>Intra-textual evaluation assess the output of a specific summarization system, while inter-textual evaluation focuses on contrastive analysis of outputs of several summarization systems.</mark> <mark>Human judgement often varies greatly in what it considers a \"good\" summary, so creating an automatic evaluation process is particularly difficult.</mark> Manual evaluation can be used, but this is both time and labor-intensive, as it requires humans to read not only the summaries but also the source documents. Other issues are those concerning coherence and coverage. The most common way to evaluate summaries is ROUGE (Recall-Oriented Understudy for Gisting Evaluation). It is very common for summarization and translation systems in NIST's Document Understanding Conferences. [2] ROUGE is a recall-based measure of how well a summary covers the content of human-generated summaries known as references. It calculates n-gram overlaps between automatically generated summaries and previously written human summaries. It is recall-based to encourage inclusion of all important topics in summaries. Recall can be computed with respect to unigram, bigram, trigram, or 4-gram matching. <mark>For example, ROUGE-1 is the fraction of unigrams that appear in both the reference summary and the automatic summary out of all unigrams in the reference summary.</mark> If there are multiple reference summaries, their scores are averaged. A high level of overlap should indicate a high degree of shared concepts between the two summaries. ROUGE cannot determine if the result is coherent, that is if sentences flow together in a sensibly. High-order n-gram ROUGE measures help to some degree. Another unsolved problem is Anaphor resolution. <mark>Similarly, for image summarization, Tschiatschek et al., developed a Visual-ROUGE score which judges the performance of algorithms for image summarization.</mark> <mark>[38]\n",
              "\n",
              "Domain-independent summarization techniques apply sets of general features to identify information-rich text segments.</mark> <mark>Recent research focuses on domain-specific summarization using knowledge specific to the text's domain, such as medical knowledge and ontologies for summarizing medical texts.</mark> <mark>[39]\n",
              "\n",
              "The main drawback of the evaluation systems so far is that we need a reference summary (for some methods, more than one), to compare automatic summaries with models.</mark> This is a hard and expensive task. Much effort has to be made to create corpora of texts and their corresponding summaries. Furthermore, some methods require manual annotation of the summaries (e.g. SCU in the Pyramid Method). Moreover, they all perform a quantitative evaluation with regard to different similarity metrics. The first publication in the area dates back to 1957 [40] (Hans Peter Luhn), starting with a statistical technique. Research increased significantly in 2015. Term frequency–inverse document frequency had been used by 2016. <mark>Pattern-based summarization was the most powerful option for multi-document summarization found by 2016.</mark> In the following year it was surpassed by latent semantic analysis (LSA) combined with non-negative matrix factorization (NMF). <mark>Although they did not replace other approaches and are often combined with them, by 2019 machine learning methods dominated the extractive summarization of single documents, which was considered to be nearing maturity.</mark> By 2020, the field was still very active and research is shifting towards abstractive summation and real-time summarization. <mark>[41]\n",
              "\n",
              "Recently the rise of transformer models replacing more traditional RNN (LSTM) have provided a flexibility in the mapping of text sequences to text sequences of a different type, which is well suited to automatic summarization.</mark> This includes models such as T5[42] and Pegasus. [43]\n",
              "• None Potthast, Martin; Hagen, Matthias; Stein, Benno (2016). Author Obfuscation: Attacking the State of the Art in Authorship Verification . Conference and Labs of the Evaluation Forum. • None Roxana, Angheluta (2002). The Use of Topic Segmentation for Automatic Summarization. • None Elena, Lloret and Manuel, Palomar (2009). Challenging Issues of Automatic Summarization: Relevance Detection and Quality-based Evaluation. Archived from the original on 2018-10-03 . • None Alrehamy, Hassan (2018). \"SemCluster: Unsupervised Automatic Keyphrase Extraction Using Affinity Propagation\". Advances in Computational Intelligence Systems. Advances in Intelligent Systems and Computing. Vol. 650. pp. 222–235. doi:10.1007/978-3-319-66939-7_19. ISBN . • None Marcu, Daniel (2000). The Theory and Practice of Discourse Parsing and Summarization. MIT Press. ISBN . • , Published in Proceeding RIAO'10 Adaptivity, Personalization and Fusion of Heterogeneous Information, CID Paris, France\n",
              "• None Xiaojin, Zhu, Andrew Goldberg, Jurgen Van Gael, and David Andrzejewski (2007). Improving diversity in ranking using absorbing random walks . , The GRASSHOPPER algorithm\n",
              "• None Miranda-Jiménez, Sabino, Gelbukh, Alexander, and Sidorov, Grigori (2013). \"Summarizing Conceptual Graphs for Automatic Summarization Task\". Conceptual Structures for STEM Research and Education. Lecture Notes in Computer Science. Vol. 7735. pp. 245–253. doi:10.1007/978-3-642-35786-2_18. ISBN . , Conceptual Structures for STEM Research and Education. "
            ]
          },
          "metadata": {}
        }
      ]
    },
    {
      "cell_type": "markdown",
      "source": [
        "## Summarizing multiple texts"
      ],
      "metadata": {
        "id": "lOfYOLIAoe01"
      }
    },
    {
      "cell_type": "code",
      "source": [
        "article_list = ['https://en.wikipedia.org/wiki/Automatic_summarization',\n",
        "                'https://en.wikipedia.org/wiki/Natural_language_processing',\n",
        "                'https://en.wikipedia.org/wiki/Lemmatisation']"
      ],
      "metadata": {
        "id": "c7ZO9txUobqf"
      },
      "execution_count": 55,
      "outputs": []
    },
    {
      "cell_type": "code",
      "source": [
        "for url in article_list:\n",
        "  #print(article)\n",
        "  g = Goose()\n",
        "  article = g.extract(url)\n",
        "  sentence_list, best_sentences, _, _ = summarize(article.cleaned_text, 100, percentage=0.5)\n",
        "  #print(len(sentence_list), len(best_sentences))\n",
        "  visualize(article.title, sentence_list, best_sentences)"
      ],
      "metadata": {
        "colab": {
          "base_uri": "https://localhost:8080/",
          "height": 1000
        },
        "id": "2tw3F21UoeWv",
        "outputId": "858761bf-ea10-45a0-822a-ae8ca6476688"
      },
      "execution_count": 56,
      "outputs": [
        {
          "output_type": "display_data",
          "data": {
            "text/plain": [
              "<IPython.core.display.HTML object>"
            ],
            "text/html": [
              "<h1>Summary - Automatic summarization - Wikipedia</h1>"
            ]
          },
          "metadata": {}
        },
        {
          "output_type": "display_data",
          "data": {
            "text/plain": [
              "<IPython.core.display.HTML object>"
            ],
            "text/html": [
              "  <mark>Automatic summarization is the process of shortening a set of data computationally, to create a subset (a summary) that represents the most important or relevant information within the original content.</mark> Artificial intelligence algorithms are commonly developed and employed to achieve this, specialized for different types of data. <mark>Text summarization is usually implemented by natural language processing methods, designed to locate the most informative sentences in a given document.</mark> [1] On the other hand, visual content can be summarized using computer vision algorithms. <mark>Image summarization is the subject of ongoing research; existing approaches typically attempt to display the most representative images from a given image collection, or generate a video that only includes the most important content from the entire collection.</mark> <mark>[2][3][4] Video summarization algorithms identify and extract from the original video content the most important frames (key-frames), and/or the most important video segments (key-shots), normally in a temporally ordered fashion.</mark> <mark>[5][6][7][8] Video summaries simply retain a carefully selected subset of the original video frames and, therefore, are not identical to the output of video synopsis algorithms, where new video frames are being synthesized based on the original video content.</mark> <mark>There are two general approaches to automatic summarization: extraction and abstraction.</mark> Here, content is extracted from the original data, but the extracted content is not modified in any way. <mark>Examples of extracted content include key-phrases that can be used to \"tag\" or index a text document, or key sentences (including headings) that collectively comprise an abstract, and representative images or video segments, as stated above.</mark> <mark>For text, extraction is analogous to the process of skimming, where the summary (if available), headings and subheadings, figures, the first and last paragraphs of a section, and optionally the first and last sentences in a paragraph are read before one chooses to read the entire document in detail.</mark> <mark>[10] Other examples of extraction that include key sequences of text in terms of clinical relevance (including patient/problem, intervention, and outcome).</mark> <mark>[11]\n",
              "\n",
              "Abstractive summarization methods generate new text that did not exist in the original text.</mark> [12] This has been applied mainly for text. <mark>Abstractive methods build an internal semantic representation of the original content (often called a language model), and then use this representation to create a summary that is closer to what a human might express.</mark> <mark>Abstraction may transform the extracted content by paraphrasing sections of the source document, to condense a text more strongly than extraction.</mark> <mark>Such transformation, however, is computationally much more challenging than extraction, involving both natural language processing and often a deep understanding of the domain of the original text in cases where the original document relates to a special field of knowledge.</mark> <mark>\"Paraphrasing\" is even more difficult to apply to images and videos, which is why most summarization systems are extractive.</mark> <mark>Approaches aimed at higher summarization quality rely on combined software and human effort.</mark> In Machine Aided Human Summarization, extractive techniques highlight candidate passages for inclusion (to which the human adds or removes text). In Human Aided Machine Summarization, a human post-processes software output, in the same way that one edits the output of automatic translation by Google Translate. <mark>There are broadly two types of extractive summarization tasks depending on what the summarization program focuses on.</mark> <mark>The first is generic summarization, which focuses on obtaining a generic summary or abstract of the collection (whether documents, or sets of images, or videos, news stories etc.).</mark> <mark>The second is query relevant summarization, sometimes called query-based summarization, which summarizes objects specific to a query.</mark> <mark>Summarization systems are able to create both query relevant text summaries and generic machine-generated summaries depending on what the user needs.</mark> <mark>An example of a summarization problem is document summarization, which attempts to automatically produce an abstract from a given document.</mark> <mark>Sometimes one might be interested in generating a summary from a single source document, while others can use multiple source documents (for example, a cluster of articles on the same topic).</mark> <mark>This problem is called multi-document summarization.</mark> A related application is summarizing news articles. <mark>Imagine a system, which automatically pulls together news articles on a given topic (from the web), and concisely represents the latest news as a summary.</mark> <mark>Image collection summarization is another application example of automatic summarization.</mark> It consists in selecting a representative set of images from a larger set of images. <mark>[13] A summary in this context is useful to show the most representative images of results in an image collection exploration system.</mark> <mark>Video summarization is a related domain, where the system automatically creates a trailer of a long video.</mark> This also has applications in consumer or personal videos, where one might want to skip the boring or repetitive actions. Similarly, in surveillance videos, one would want to extract important and suspicious activity, while ignoring all the boring and redundant frames captured. <mark>At a very high level, summarization algorithms try to find subsets of objects (like set of sentences, or a set of images), which cover information of the entire set.</mark> This is also called the core-set. <mark>These algorithms model notions like diversity, coverage, information and representativeness of the summary.</mark> <mark>Query based summarization techniques, additionally model for relevance of the summary with the query.</mark> <mark>Some techniques and algorithms which naturally model summarization problems are TextRank and PageRank, Submodular set function, Determinantal point process, maximal marginal relevance (MMR) etc.</mark> The task is the following. <mark>You are given a piece of text, such as a journal article, and you must produce a list of keywords or key[phrase]s that capture the primary topics discussed in the text.</mark> <mark>[14] In the case of research articles, many authors provide manually assigned keywords, but most text lacks pre-existing keyphrases.</mark> <mark>For example, news articles rarely have keyphrases attached, but it would be useful to be able to automatically do so for a number of applications discussed below.</mark> <mark>Consider the example text from a news article:\n",
              "\n",
              "A keyphrase extractor might select \"Army Corps of Engineers\", \"President Bush\", \"New Orleans\", and \"defective flood-control pumps\" as keyphrases.</mark> These are pulled directly from the text. <mark>In contrast, an abstractive keyphrase system would somehow internalize the content and generate keyphrases that do not appear in the text, but more closely resemble what a human might produce, such as \"political negligence\" or \"inadequate protection from floods\".</mark> Abstraction requires a deep understanding of the text, which makes it difficult for a computer system. Keyphrases have many applications. <mark>They can enable document browsing by providing a short summary, improve information retrieval (if documents have keyphrases assigned, a user could search by keyphrase to produce more reliable hits than a full-text search), and be employed in generating index entries for a large text corpus.</mark> Depending on the different literature and the definition of key terms, words or phrases, keyword extraction is a highly related theme. <mark>Beginning with the work of Turney,[15] many researchers have approached keyphrase extraction as a supervised machine learning problem.</mark> <mark>Given a document, we construct an example for each unigram, bigram, and trigram found in the text (though other text units are also possible, as discussed below).</mark> We then compute various features describing each example (e.g., does the phrase begin with an upper-case letter?). <mark>We assume there are known keyphrases available for a set of training documents.</mark> Using the known keyphrases, we can assign positive or negative labels to the examples. Then we learn a classifier that can discriminate between positive and negative examples as a function of the features. Some classifiers make a binary classification for a test example, while others assign a probability of being a keyphrase. <mark>For instance, in the above text, we might learn a rule that says phrases with initial capital letters are likely to be keyphrases.</mark> After training a learner, we can select keyphrases for test documents in the following manner. We apply the same example-generation strategy to the test documents, then run each example through the learner. We can determine the keyphrases by looking at binary classification decisions or probabilities returned from our learned model. If probabilities are given, a threshold is used to select the keyphrases. Keyphrase extractors are generally evaluated using precision and recall. Precision measures how many of the proposed keyphrases are actually correct. Recall measures how many of the true keyphrases your system proposed. The two measures can be combined in an F-score, which is the harmonic mean of the two (F = 2PR/(P + R) ). <mark>Matches between the proposed keyphrases and the known keyphrases can be checked after stemming or applying some other text normalization.</mark> <mark>Designing a supervised keyphrase extraction system involves deciding on several choices (some of these apply to unsupervised, too).</mark> The first choice is exactly how to generate examples. Turney and others have used all possible unigrams, bigrams, and trigrams without intervening punctuation and after removing stopwords. Hulth showed that you can get some improvement by selecting examples to be sequences of tokens that match certain patterns of part-of-speech tags. Ideally, the mechanism for generating examples produces all the known labeled keyphrases as candidates, though this is often not the case. <mark>For example, if we use only unigrams, bigrams, and trigrams, then we will never be able to extract a known keyphrase containing four words.</mark> Thus, recall may suffer. However, generating too many examples can also lead to low precision. <mark>We also need to create features that describe the examples and are informative enough to allow a learning algorithm to discriminate keyphrases from non- keyphrases.</mark> <mark>Typically features involve various term frequencies (how many times a phrase appears in the current text or in a larger corpus), the length of the example, relative position of the first occurrence, various boolean syntactic features (e.g., contains all caps), etc.</mark> The Turney paper used about 12 such features. Hulth uses a reduced set of features, which were found most successful in the KEA (Keyphrase Extraction Algorithm) work derived from Turney's seminal paper. <mark>In the end, the system will need to return a list of keyphrases for a test document, so we need to have a way to limit the number.</mark> <mark>Ensemble methods (i.e., using votes from several classifiers) have been used to produce numeric scores that can be thresholded to provide a user-provided number of keyphrases.</mark> This is the technique used by Turney with C4.5 decision trees. Hulth used a single binary classifier so the learning algorithm implicitly determines the appropriate number. <mark>Once examples and features are created, we need a way to learn to predict keyphrases.</mark> Virtually any supervised learning algorithm could be used, such as decision trees, Naive Bayes, and rule induction. <mark>In the case of Turney's GenEx algorithm, a genetic algorithm is used to learn parameters for a domain-specific keyphrase extraction algorithm.</mark> The extractor follows a series of heuristics to identify keyphrases. The genetic algorithm optimizes parameters for these heuristics with respect to performance on training documents with known key phrases. Another keyphrase extraction algorithm is TextRank. <mark>While supervised methods have some nice properties, like being able to produce interpretable rules for what features characterize a keyphrase, they also require a large amount of training data.</mark> Many documents with known keyphrases are needed. <mark>Furthermore, training on a specific domain tends to customize the extraction process to that domain, so the resulting classifier is not necessarily portable, as some of Turney's results demonstrate.</mark> Unsupervised keyphrase extraction removes the need for training data. It approaches the problem from a different angle. <mark>Instead of trying to learn explicit features that characterize keyphrases, the TextRank algorithm[16] exploits the structure of the text itself to determine keyphrases that appear \"central\" to the text in the same way that PageRank selects important Web pages.</mark> <mark>Recall this is based on the notion of \"prestige\" or \"recommendation\" from social networks.</mark> <mark>In this way, TextRank does not rely on any previous training data at all, but rather can be run on any arbitrary piece of text, and it can produce output simply based on the text's intrinsic properties.</mark> Thus the algorithm is easily portable to new domains and languages. TextRank is a general purpose graph-based ranking algorithm for NLP. Essentially, it runs PageRank on a graph specially designed for a particular NLP task. <mark>For keyphrase extraction, it builds a graph using some set of text units as vertices.</mark> Edges are based on some measure of semantic or lexical similarity between the text unit vertices. Unlike PageRank, the edges are typically undirected and can be weighted to reflect a degree of similarity. <mark>Once the graph is constructed, it is used to form a stochastic matrix, combined with a damping factor (as in the \"random surfer model\"), and the ranking over vertices is obtained by finding the eigenvector corresponding to eigenvalue 1 (i.e., the stationary distribution of the random walk on the graph).</mark> The vertices should correspond to what we want to rank. Potentially, we could do something similar to the supervised methods and create a vertex for each unigram, bigram, trigram, etc. <mark>However, to keep the graph small, the authors decide to rank individual unigrams in a first step, and then include a second step that merges highly ranked adjacent unigrams to form multi-word phrases.</mark> This has a nice side effect of allowing us to produce keyphrases of arbitrary length. <mark>For example, if we rank unigrams and find that \"advanced\", \"natural\", \"language\", and \"processing\" all get high ranks, then we would look at the original text and see that these words appear consecutively and create a final keyphrase using all four together.</mark> Note that the unigrams placed in the graph can be filtered by part of speech. The authors found that adjectives and nouns were the best to include. Thus, some linguistic knowledge comes into play in this step. Edges are created based on word co-occurrence in this application of TextRank. <mark>Two vertices are connected by an edge if the unigrams appear within a window of size N in the original text.</mark> N is typically around 2–10. <mark>Thus, \"natural\" and \"language\" might be linked in a text about NLP.</mark> <mark>\"Natural\" and \"processing\" would also be linked because they would both appear in the same string of N words.</mark> <mark>These edges build on the notion of \"text cohesion\" and the idea that words that appear near each other are likely related in a meaningful way and \"recommend\" each other to the reader.</mark> <mark>Since this method simply ranks the individual vertices, we need a way to threshold or produce a limited number of keyphrases.</mark> The technique chosen is to set a count T to be a user-specified fraction of the total number of vertices in the graph. Then the top T vertices/unigrams are selected based on their stationary probabilities. A post- processing step is then applied to merge adjacent instances of these T unigrams. <mark>As a result, potentially more or less than T final keyphrases will be produced, but the number should be roughly proportional to the length of the original text.</mark> It is not initially clear why applying PageRank to a co-occurrence graph would produce useful keyphrases. One way to think about it is the following. <mark>A word that appears multiple times throughout a text may have many different co-occurring neighbors.</mark> <mark>For example, in a text about machine learning, the unigram \"learning\" might co-occur with \"machine\", \"supervised\", \"un-supervised\", and \"semi-supervised\" in four different sentences.</mark> <mark>Thus, the \"learning\" vertex would be a central \"hub\" that connects to these other modifying words.</mark> <mark>Running PageRank/TextRank on the graph is likely to rank \"learning\" highly.</mark> <mark>Similarly, if the text contains the phrase \"supervised classification\", then there would be an edge between \"supervised\" and \"classification\".</mark> <mark>If \"classification\" appears several other places and thus has many neighbors, its importance would contribute to the importance of \"supervised\".</mark> <mark>If it ends up with a high rank, it will be selected as one of the top T unigrams, along with \"learning\" and probably \"classification\".</mark> <mark>In the final post-processing step, we would then end up with keyphrases \"supervised learning\" and \"supervised classification\".</mark> In short, the co-occurrence graph will contain densely connected regions for terms that appear often and in different contexts. A random walk on this graph will have a stationary distribution that assigns large probabilities to the terms in the centers of the clusters. This is similar to densely connected Web pages getting ranked highly by PageRank. <mark>This approach has also been used in document summarization, considered below.</mark> <mark>Like keyphrase extraction, document summarization aims to identify the essence of a text.</mark> <mark>The only real difference is that now we are dealing with larger text units—whole sentences instead of words and phrases.</mark> <mark>Supervised text summarization is very much like supervised keyphrase extraction.</mark> <mark>Basically, if you have a collection of documents and human-generated summaries for them, you can learn features of sentences that make them good candidates for inclusion in the summary.</mark> <mark>Features might include the position in the document (i.e., the first few sentences are probably important), the number of words in the sentence, etc.</mark> <mark>The main difficulty in supervised extractive summarization is that the known summaries must be manually created by extracting sentences so the sentences in an original training document can be labeled as \"in summary\" or \"not in summary\".</mark> <mark>This is not typically how people create summaries, so simply using journal abstracts or existing summaries is usually not sufficient.</mark> <mark>The sentences in these summaries do not necessarily match up with sentences in the original text, so it would be difficult to assign labels to examples for training.</mark> <mark>Note, however, that these natural summaries can still be used for evaluation purposes, since ROUGE-1 evaluation only considers unigrams.</mark> <mark>During the DUC 2001 and 2002 evaluation workshops, TNO developed a sentence extraction system for multi-document summarization in the news domain.</mark> <mark>The system was based on a hybrid system using a Naive Bayes classifier and statistical language models for modeling salience.</mark> <mark>Although the system exhibited good results, the researchers wanted to explore the effectiveness of a maximum entropy (ME) classifier for the meeting summarization task, as ME is known to be robust against feature dependencies.</mark> <mark>Maximum entropy has also been applied successfully for summarization in the broadcast news domain.</mark> A promising approach is adaptive document/text summarization. <mark>[17] It involves first recognizing the text genre and then applying summarization algorithms optimized for this genre.</mark> Such software has been created. <mark>[18]\n",
              "\n",
              "The unsupervised approach to summarization is also quite similar in spirit to unsupervised keyphrase extraction and gets around the issue of costly training data.</mark> <mark>Some unsupervised summarization approaches are based on finding a \"centroid\" sentence, which is the mean word vector of all the sentences in the document.</mark> Then the sentences can be ranked with regard to their similarity to this centroid sentence. A more principled way to estimate sentence importance is using random walks and eigenvector centrality. <mark>LexRank[19] is an algorithm essentially identical to TextRank, and both use this approach for document summarization.</mark> <mark>The two methods were developed by different groups at the same time, and LexRank simply focused on summarization, but could just as easily be used for keyphrase extraction or any other NLP ranking task.</mark> In both LexRank and TextRank, a graph is constructed by creating a vertex for each sentence in the document. The edges between sentences are based on some form of semantic similarity or content overlap. <mark>While LexRank uses cosine similarity of TF-IDF vectors, TextRank uses a very similar measure based on the number of words two sentences have in common (normalized by the sentences' lengths).</mark> <mark>The LexRank paper explored using unweighted edges after applying a threshold to the cosine values, but also experimented with using edges with weights equal to the similarity score.</mark> TextRank uses continuous similarity scores as weights. In both algorithms, the sentences are ranked by applying PageRank to the resulting graph. <mark>A summary is formed by combining the top ranking sentences, using a threshold or length cutoff to limit the size of the summary.</mark> <mark>It is worth noting that TextRank was applied to summarization exactly as described here, while LexRank was used as part of a larger summarization system (MEAD) that combines the LexRank score (stationary probability) with other features like sentence position and length using a linear combination with either user-specified or automatically tuned weights.</mark> In this case, some training documents might be needed, though the TextRank results show the additional features are not absolutely necessary. <mark>Unlike TextRank, LexRank has been applied to multi-document summarization.</mark> <mark>Multi-document summarization is an automatic procedure aimed at extraction of information from multiple texts written about the same topic.</mark> <mark>Resulting summary report allows individual users, such as professional information consumers, to quickly familiarize themselves with information contained in a large cluster of documents.</mark> <mark>In such a way, multi-document summarization systems are complementing the news aggregators performing the next step down the road of coping with information overload.</mark> <mark>Multi-document summarization may also be done in response to a question.</mark> <mark>[20][11]\n",
              "\n",
              "Multi-document summarization creates information reports that are both concise and comprehensive.</mark> With different opinions being put together and outlined, every topic is described from multiple perspectives within a single document. <mark>While the goal of a brief summary is to simplify information search and cut the time by pointing to the most relevant source documents, comprehensive multi-document summary should itself contain the required information, hence limiting the need for accessing original files to cases when refinement is required.</mark> <mark>Automatic summaries present information extracted from multiple sources algorithmically, without any editorial touch or subjective human intervention, thus making it completely unbiased.</mark> <mark>[dubious – discuss]\n",
              "\n",
              "Multi-document extractive summarization faces a problem of redundancy.</mark> <mark>Ideally, we want to extract sentences that are both \"central\" (i.e., contain the main ideas) and \"diverse\" (i.e., they differ from one another).</mark> <mark>For example, in a set of news articles about some event, each article is likely to have many similar sentences.</mark> <mark>To address this issue, LexRank applies a heuristic post-processing step that adds sentences in rank order, but discards sentences that are too similar to ones already in the summary.</mark> This method is called Cross-Sentence Information Subsumption (CSIS). <mark>These methods work based on the idea that sentences \"recommend\" other similar sentences to the reader.</mark> Thus, if one sentence is very similar to many others, it will likely be a sentence of great importance. <mark>Its importance also stems from the importance of the sentences \"recommending\" it.</mark> <mark>Thus, to get ranked highly and placed in a summary, a sentence must be similar to many sentences that are in turn also similar to many other sentences.</mark> This makes intuitive sense and allows the algorithms to be applied to an arbitrary new text. The methods are domain-independent and easily portable. <mark>One could imagine the features indicating important sentences in the news domain might vary considerably from the biomedical domain.</mark> <mark>However, the unsupervised \"recommendation\"-based approach applies to any domain.</mark> <mark>A related method is Maximal Marginal Relevance (MMR),[21] which uses a general-purpose graph-based ranking algorithm like Page/Lex/TextRank that handles both \"centrality\" and \"diversity\" in a unified mathematical framework based on absorbing Markov chain random walks (a random walk where certain states end the walk).</mark> The algorithm is called GRASSHOPPER. <mark>[22] In addition to explicitly promoting diversity during the ranking process, GRASSHOPPER incorporates a prior ranking (based on sentence position in the case of summarization).</mark> <mark>The state of the art results for multi-document summarization are obtained using mixtures of submodular functions.</mark> These methods have achieved the state of the art results for Document Summarization Corpora, DUC 04 - 07. [23] Similar results were achieved with the use of determinantal point processes (which are a special case of submodular functions) for DUC-04. <mark>[24]\n",
              "\n",
              "A new method for multi-lingual multi-document summarization that avoids redundancy generates ideograms to represent the meaning of each sentence in each document, then evaluates similarity by comparing ideogram shape and position.</mark> It does not use word frequency, training or preprocessing. It uses two user-supplied parameters: equivalence (when are two sentences to be considered equivalent?) and relevance (how long is the desired summary?). <mark>The idea of a submodular set function has recently emerged as a powerful modeling tool for various summarization problems.</mark> Submodular functions naturally model notions of coverage, information, representation and diversity. Moreover, several important combinatorial optimization problems occur as special instances of submodular optimization. <mark>For example, the set cover problem is a special case of submodular optimization, since the set cover function is submodular.</mark> The set cover function attempts to find a subset of objects which cover a given set of concepts. <mark>For example, in document summarization, one would like the summary to cover all important and relevant concepts in the document.</mark> This is an instance of set cover. Similarly, the facility location problem is a special case of submodular functions. The Facility Location function also naturally models coverage and diversity. <mark>Another example of a submodular optimization problem is using a determinantal point process to model diversity.</mark> Similarly, the Maximum-Marginal-Relevance procedure can also be seen as an instance of submodular optimization. All these important models encouraging coverage, diversity and information are all submodular. Moreover, submodular functions can be efficiently combined, and the resulting function is still submodular. <mark>Hence, one could combine one submodular function which models diversity, another one which models coverage and use human supervision to learn a right model of a submodular function for the problem.</mark> <mark>While submodular functions are fitting problems for summarization, they also admit very efficient algorithms for optimization.</mark> For example, a simple greedy algorithm admits a constant factor guarantee. <mark>[25] Moreover, the greedy algorithm is extremely simple to implement and can scale to large datasets, which is very important for summarization problems.</mark> <mark>Submodular functions have achieved state-of-the-art for almost all summarization problems.</mark> <mark>For example, work by Lin and Bilmes, 2012[26] shows that submodular functions achieve the best results to date on DUC-04, DUC-05, DUC-06 and DUC-07 systems for document summarization.</mark> <mark>Similarly, work by Lin and Bilmes, 2011,[27] shows that many existing systems for automatic summarization are instances of submodular functions.</mark> <mark>This was a breakthrough result establishing submodular functions as the right models for summarization problems.</mark> <mark>[citation needed]\n",
              "\n",
              "Submodular Functions have also been used for other summarization tasks.</mark> <mark>Tschiatschek et al., 2014 show[28] that mixtures of submodular functions achieve state-of-the-art results for image collection summarization.</mark> Similarly, Bairi et al., 2015[29] show the utility of submodular functions for summarizing multi-document topic hierarchies. Submodular Functions have also successfully been used for summarizing machine learning datasets. <mark>[30]\n",
              "• The Reddit bot \"autotldr\",[31] created in 2011 summarizes news articles in the comment-section of reddit posts.</mark> It was found to be very useful by the reddit community which upvoted its summaries hundreds of thousands of times. <mark>[32] The name is reference to TL;DR − Internet slang for \"too long; didn't read\".</mark> <mark>[33][34]\n",
              "• Adversarial stylometry may make use of summaries, if the detail lost is not major and the summary is sufficiently stylistically different to the input.</mark> <mark>The most common way to evaluate the informativeness of automatic summaries is to compare them with human-made model summaries.</mark> Evaluation can be intrinsic or extrinsic,[36] and inter-textual or intra-textual. <mark>[37]\n",
              "\n",
              "Intrinsic evaluation assesses the summaries directly, while extrinsic evaluation evaluates how the summarization system affects the completion of some other task.</mark> Intrinsic evaluations have assessed mainly the coherence and informativeness of summaries. <mark>Extrinsic evaluations, on the other hand, have tested the impact of summarization on tasks like relevance assessment, reading comprehension, etc.</mark> <mark>Intra-textual evaluation assess the output of a specific summarization system, while inter-textual evaluation focuses on contrastive analysis of outputs of several summarization systems.</mark> <mark>Human judgement often varies greatly in what it considers a \"good\" summary, so creating an automatic evaluation process is particularly difficult.</mark> <mark>Manual evaluation can be used, but this is both time and labor-intensive, as it requires humans to read not only the summaries but also the source documents.</mark> Other issues are those concerning coherence and coverage. The most common way to evaluate summaries is ROUGE (Recall-Oriented Understudy for Gisting Evaluation). <mark>It is very common for summarization and translation systems in NIST's Document Understanding Conferences.</mark> <mark>[2] ROUGE is a recall-based measure of how well a summary covers the content of human-generated summaries known as references.</mark> It calculates n-gram overlaps between automatically generated summaries and previously written human summaries. It is recall-based to encourage inclusion of all important topics in summaries. Recall can be computed with respect to unigram, bigram, trigram, or 4-gram matching. <mark>For example, ROUGE-1 is the fraction of unigrams that appear in both the reference summary and the automatic summary out of all unigrams in the reference summary.</mark> If there are multiple reference summaries, their scores are averaged. A high level of overlap should indicate a high degree of shared concepts between the two summaries. ROUGE cannot determine if the result is coherent, that is if sentences flow together in a sensibly. High-order n-gram ROUGE measures help to some degree. Another unsolved problem is Anaphor resolution. <mark>Similarly, for image summarization, Tschiatschek et al., developed a Visual-ROUGE score which judges the performance of algorithms for image summarization.</mark> <mark>[38]\n",
              "\n",
              "Domain-independent summarization techniques apply sets of general features to identify information-rich text segments.</mark> <mark>Recent research focuses on domain-specific summarization using knowledge specific to the text's domain, such as medical knowledge and ontologies for summarizing medical texts.</mark> <mark>[39]\n",
              "\n",
              "The main drawback of the evaluation systems so far is that we need a reference summary (for some methods, more than one), to compare automatic summaries with models.</mark> This is a hard and expensive task. Much effort has to be made to create corpora of texts and their corresponding summaries. Furthermore, some methods require manual annotation of the summaries (e.g. SCU in the Pyramid Method). Moreover, they all perform a quantitative evaluation with regard to different similarity metrics. The first publication in the area dates back to 1957 [40] (Hans Peter Luhn), starting with a statistical technique. Research increased significantly in 2015. Term frequency–inverse document frequency had been used by 2016. <mark>Pattern-based summarization was the most powerful option for multi-document summarization found by 2016.</mark> In the following year it was surpassed by latent semantic analysis (LSA) combined with non-negative matrix factorization (NMF). <mark>Although they did not replace other approaches and are often combined with them, by 2019 machine learning methods dominated the extractive summarization of single documents, which was considered to be nearing maturity.</mark> <mark>By 2020, the field was still very active and research is shifting towards abstractive summation and real-time summarization.</mark> <mark>[41]\n",
              "\n",
              "Recently the rise of transformer models replacing more traditional RNN (LSTM) have provided a flexibility in the mapping of text sequences to text sequences of a different type, which is well suited to automatic summarization.</mark> This includes models such as T5[42] and Pegasus. [43]\n",
              "• None Potthast, Martin; Hagen, Matthias; Stein, Benno (2016). Author Obfuscation: Attacking the State of the Art in Authorship Verification . Conference and Labs of the Evaluation Forum. • None Roxana, Angheluta (2002). The Use of Topic Segmentation for Automatic Summarization. • None Elena, Lloret and Manuel, Palomar (2009). Challenging Issues of Automatic Summarization: Relevance Detection and Quality-based Evaluation. Archived from the original on 2018-10-03 . • None Alrehamy, Hassan (2018). <mark>\"SemCluster: Unsupervised Automatic Keyphrase Extraction Using Affinity Propagation\".</mark> Advances in Computational Intelligence Systems. Advances in Intelligent Systems and Computing. Vol. 650. pp. 222–235. doi:10.1007/978-3-319-66939-7_19. ISBN . • None Marcu, Daniel (2000). The Theory and Practice of Discourse Parsing and Summarization. MIT Press. ISBN . • , Published in Proceeding RIAO'10 Adaptivity, Personalization and Fusion of Heterogeneous Information, CID Paris, France\n",
              "• None Xiaojin, Zhu, Andrew Goldberg, Jurgen Van Gael, and David Andrzejewski (2007). Improving diversity in ranking using absorbing random walks . , The GRASSHOPPER algorithm\n",
              "• None Miranda-Jiménez, Sabino, Gelbukh, Alexander, and Sidorov, Grigori (2013). <mark>\"Summarizing Conceptual Graphs for Automatic Summarization Task\".</mark> Conceptual Structures for STEM Research and Education. Lecture Notes in Computer Science. Vol. 7735. pp. 245–253. doi:10.1007/978-3-642-35786-2_18. ISBN . , Conceptual Structures for STEM Research and Education. "
            ]
          },
          "metadata": {}
        },
        {
          "output_type": "display_data",
          "data": {
            "text/plain": [
              "<IPython.core.display.HTML object>"
            ],
            "text/html": [
              "<h1>Summary - Natural language processing - Wikipedia</h1>"
            ]
          },
          "metadata": {}
        },
        {
          "output_type": "display_data",
          "data": {
            "text/plain": [
              "<IPython.core.display.HTML object>"
            ],
            "text/html": [
              "  <mark>Natural language processing (NLP) is an interdisciplinary subfield of computer science and linguistics.</mark> It is primarily concerned with giving computers the ability to support and manipulate speech. <mark>It involves processing natural language datasets, such as text corpora or speech corpora, using either rule-based or probabilistic (i.e.</mark> statistical and, most recently, neural network-based) machine learning approaches. <mark>The goal is a computer capable of \"understanding\" the contents of documents, including the contextual nuances of the language within them.</mark> The technology can then accurately extract information and insights contained in the documents as well as categorize and organize the documents themselves. Natural language processing has its roots in the 1950s. <mark>Already in 1950, Alan Turing published an article titled \"Computing Machinery and Intelligence\" which proposed what is now called the Turing test as a criterion of intelligence, though at the time that was not articulated as a problem separate from artificial intelligence.</mark> The proposed test includes a task that involves the automated interpretation and generation of natural language. <mark>The premise of symbolic NLP is well-summarized by John Searle's Chinese room experiment: Given a collection of rules (e.g., a Chinese phrasebook, with questions and matching answers), the computer emulates natural language understanding (or other NLP tasks) by applying those rules to the data it confronts.</mark> • 1950s: The Georgetown experiment in 1954 involved fully automatic translation of more than sixty Russian sentences into English. The authors claimed that within three or five years, machine translation would be a solved problem. [1] However, real progress was much slower, and after the ALPAC report in 1966, which found that ten-year-long research had failed to fulfill the expectations, funding for machine translation was dramatically reduced. <mark>Little further research in machine translation was conducted in America (though some research continued elsewhere, such as Japan and Europe[2]) until the late 1980s when the first statistical machine translation systems were developed.</mark> <mark>• 1960s: Some notably successful natural language processing systems developed in the 1960s were SHRDLU, a natural language system working in restricted \"blocks worlds\" with restricted vocabularies, and ELIZA, a simulation of a Rogerian psychotherapist, written by Joseph Weizenbaum between 1964 and 1966.</mark> Using almost no information about human thought or emotion, ELIZA sometimes provided a startlingly human-like interaction. <mark>When the \"patient\" exceeded the very small knowledge base, ELIZA might provide a generic response, for example, responding to \"My head hurts\" with \"Why do you say your head hurts?\".</mark> <mark>Ross Quillian's successful work on natural language was demonstrated with a vocabulary of only twenty words, because that was all that would fit in a computer memory at the time.</mark> <mark>[3]\n",
              "• 1970s: During the 1970s, many programmers began to write \"conceptual ontologies\", which structured real-world information into computer-understandable data.</mark> Examples are MARGIE (Schank, 1975), SAM (Cullingford, 1978), PAM (Wilensky, 1978), TaleSpin (Meehan, 1976), QUALM (Lehnert, 1977), Politics (Carbonell, 1979), and Plot Units (Lehnert 1981). During this time, the first chatterbots were written (e.g., PARRY). • 1980s: The 1980s and early 1990s mark the heyday of symbolic methods in NLP. <mark>Focus areas of the time included research on rule-based parsing (e.g., the development of HPSG as a computational operationalization of generative grammar), morphology (e.g., two-level morphology[4]), semantics (e.g., Lesk algorithm), reference (e.g., within Centering Theory[5]) and other areas of natural language understanding (e.g., in the Rhetorical Structure Theory).</mark> Other lines of research were continued, e.g., the development of chatterbots with Racter and Jabberwacky. An important development (that eventually led to the statistical turn in the 1990s) was the rising importance of quantitative evaluation in this period. <mark>[6]\n",
              "\n",
              "Up to the 1980s, most natural language processing systems were based on complex sets of hand-written rules.</mark> <mark>Starting in the late 1980s, however, there was a revolution in natural language processing with the introduction of machine learning algorithms for language processing.</mark> This was due to both the steady increase in computational power (see Moore's law) and the gradual lessening of the dominance of Chomskyan theories of linguistics (e.g. <mark>transformational grammar), whose theoretical underpinnings discouraged the sort of corpus linguistics that underlies the machine-learning approach to language processing.</mark> <mark>[7]\n",
              "• 1990s: Many of the notable early successes on statistical methods in NLP occurred in the field of machine translation, due especially to work at IBM Research, such as IBM alignment models.</mark> <mark>These systems were able to take advantage of existing multilingual textual corpora that had been produced by the Parliament of Canada and the European Union as a result of laws calling for the translation of all governmental proceedings into all official languages of the corresponding systems of government.</mark> <mark>However, most other systems depended on corpora specifically developed for the tasks implemented by these systems, which was (and often continues to be) a major limitation in the success of these systems.</mark> As a result, a great deal of research has gone into methods of more effectively learning from limited amounts of data. <mark>• 2000s: With the growth of the web, increasing amounts of raw (unannotated) language data has become available since the mid-1990s.</mark> Research has thus increasingly focused on unsupervised and semi-supervised learning algorithms. Such algorithms can learn from data that has not been hand-annotated with the desired answers or using a combination of annotated and non-annotated data. Generally, this task is much more difficult than supervised learning, and typically produces less accurate results for a given amount of input data. However, there is an enormous amount of non-annotated data available (including, among other things, the entire content of the World Wide Web), which can often make up for the inferior results if the algorithm used has a low enough time complexity to be practical. <mark>In 2003, word n-gram model, at the time the best statistical algorithm, was overperformed by a multi-layer perceptron (with a single hidden layer and context length of several words trained on up to 14 million of words with a CPU cluster in language modelling) by Yoshua Bengio with co-authors.</mark> <mark>[8]\n",
              "\n",
              "In 2010, Tomáš Mikolov (then a PhD student at Brno University of Technology) with co-authors applied a simple recurrent neural network with a single hidden layer to language modelling,[9] and in the following years he went on to develop Word2vec.</mark> <mark>In the 2010s, representation learning and deep neural network-style (featuring many hidden layers) machine learning methods became widespread in natural language processing.</mark> <mark>That popularity was due partly to a flurry of results showing that such techniques[10][11] can achieve state-of-the-art results in many natural language tasks, e.g., in language modeling[12] and parsing.</mark> [13][14] This is increasingly important in medicine and healthcare, where NLP helps analyze notes and text in electronic health records that would otherwise be inaccessible for study when seeking to improve care[15] or protect patient privacy. <mark>[16]\n",
              "\n",
              "Symbolic approach, i.e., the hand-coding of a set of rules for manipulating symbols, coupled with a dictionary lookup, was historically the first approach used both by AI in general and by NLP in particular:[17][18] such as by writing grammars or devising heuristic rules for stemming.</mark> <mark>Machine learning approaches, which include both statistical and neural networks, on the other hand, have many advantages over the symbolic approach:\n",
              "• both statistical and neural networks methods can focus more on the most common cases extracted from a corpus of texts, whereas the rule-based approach needs to provide rules for both rare cases and common ones equally.</mark> <mark>• language models, produced by either statistical or neural networks methods, are more robust to both unfamiliar (e.g.</mark> containing words or structures that have not been seen before) and erroneous input (e.g. with misspelled words or words accidentally omitted) in comparison to the rule-based systems, which are also more costly to produce. <mark>• the larger such a (probabilistic) language model is, the more accurate it becomes, in contrast to rule-based systems that can gain accuracy only by increasing the amount and complexity of the rules leading to intractability problems.</mark> Although rule-based systems for manipulating symbols were still in use in 2020, they have become mostly obsolete with the advance of LLMs in 2023. <mark>Before that they were commonly used:\n",
              "• when the amount of training data is insufficient to successfully apply machine learning methods, e.g., for the machine translation of low-resource languages such as provided by the Apertium system,\n",
              "• for preprocessing in NLP pipelines, e.g., tokenization, or\n",
              "• for postprocessing and transforming the output of NLP pipelines, e.g., for knowledge extraction from syntactic parses.</mark> In the late 1980s and mid-1990s, the statistical approach ended a period of AI winter, which was caused by the inefficiencies of the rule-based approaches. [19][20]\n",
              "\n",
              "The earliest decision trees, producing systems of hard if–then rules, were still very similar to the old rule-based approaches. Only the introduction of hidden Markov models, applied to part-of-speech tagging, announced the end of the old rule-based approach. A major drawback of statistical methods is that they require elaborate feature engineering. <mark>Since 2015,[21] the statistical approach was replaced by neural networks approach, using word embeddings to capture semantic properties of words.</mark> Intermediate tasks (e.g., part-of-speech tagging and dependency parsing) have not been needed anymore. <mark>Neural machine translation, based on then-newly-invented sequence-to-sequence transformations, made obsolete the intermediate steps, such as word alignment, previously necessary for statistical machine translation.</mark> <mark>The following is a list of some of the most commonly researched tasks in natural language processing.</mark> Some of these tasks have direct real-world applications, while others more commonly serve as subtasks that are used to aid in solving larger tasks. <mark>Though natural language processing tasks are closely intertwined, they can be subdivided into categories for convenience.</mark> A coarse division is given below. Based on long-standing trends in the field, it is possible to extrapolate future directions of NLP. <mark>As of 2020, three trends among the topics of the long-standing series of CoNLL Shared Tasks can be observed:[43]\n",
              "• Increasing interest in multilinguality, and, potentially, multimodality (English since 1999; Spanish, Dutch since 2002; German since 2003; Bulgarian, Danish, Japanese, Portuguese, Slovenian, Swedish, Turkish since 2006; Basque, Catalan, Chinese, Greek, Hungarian, Italian, Turkish since 2007; Czech since 2009; Arabic since 2012; 2017: 40+ languages; 2018: 60+/100+ languages)\n",
              "• Elimination of symbolic representations (rule-based over supervised towards weakly supervised methods, representation learning and end-to-end systems)\n",
              "\n",
              "Most higher-level NLP applications involve aspects that emulate intelligent behaviour and apparent comprehension of natural language.</mark> More broadly speaking, the technical operationalization of increasingly advanced aspects of cognitive behaviour represents one of the developmental trajectories of NLP (see trends among CoNLL shared tasks above). Cognition refers to \"the mental action or process of acquiring knowledge and understanding through thought, experience, and the senses. \"[44] Cognitive science is the interdisciplinary, scientific study of the mind and its processes. [45] Cognitive linguistics is an interdisciplinary branch of linguistics, combining knowledge and research from both psychology and linguistics. [46] Especially during the age of symbolic NLP, the area of computational linguistics maintained strong ties with cognitive studies. <mark>As an example, George Lakoff offers a methodology to build natural language processing (NLP) algorithms through the perspective of cognitive science, along with the findings of cognitive linguistics,[47] with two defining aspects:\n",
              "• Apply the theory of conceptual metaphor, explained by Lakoff as \"the understanding of one idea, in terms of another\" which provides an idea of the intent of the author.</mark> [48] For example, consider the English word big. <mark>When used in a comparison (\"That is a big tree\"), the author's intent is to imply that the tree is physically large relative to other trees or the authors experience.</mark> When used metaphorically (\"Tomorrow is a big day\"), the author's intent to imply importance. <mark>The intent behind other usages, like in \"She is a big person\", will remain somewhat ambiguous to a person and a cognitive NLP algorithm alike without additional information.</mark> <mark>• Assign relative measures of meaning to a word, phrase, sentence or piece of text based on the information presented before and after the piece of text being analyzed, e.g., by means of a probabilistic context-free grammar (PCFG).</mark> <mark>The mathematical equation for such algorithms is presented in :\n",
              "\n",
              "Ties with cognitive linguistics are part of the historical heritage of NLP, but they have been less frequently addressed since the statistical turn during the 1990s.</mark> <mark>Nevertheless, approaches to develop cognitive models towards technically operationalizable frameworks have been pursued in the context of various frameworks, e.g., of cognitive grammar,[49] functional grammar,[50] construction grammar,[51] computational psycholinguistics and cognitive neuroscience (e.g., ACT-R), however, with limited uptake in mainstream NLP (as measured by presence on major conferences[52] of the ACL).</mark> <mark>More recently, ideas of cognitive NLP have been revived as an approach to achieve explainability, e.g., under the notion of \"cognitive AI\".</mark> <mark>[53] Likewise, ideas of cognitive NLP are inherent to neural models multimodal NLP (although rarely made explicit)[54] and developments in Artificial intelligence, specifically tools and technologies using Large language model approaches.</mark> [55] "
            ]
          },
          "metadata": {}
        },
        {
          "output_type": "display_data",
          "data": {
            "text/plain": [
              "<IPython.core.display.HTML object>"
            ],
            "text/html": [
              "<h1>Summary - Lemmatization - Wikipedia</h1>"
            ]
          },
          "metadata": {}
        },
        {
          "output_type": "display_data",
          "data": {
            "text/plain": [
              "<IPython.core.display.HTML object>"
            ],
            "text/html": [
              "  <mark>Lemmatization (or less commonly lemmatisation) in linguistics is the process of grouping together the inflected forms of a word so they can be analysed as a single item, identified by the word's lemma, or dictionary form.</mark> <mark>[1]\n",
              "\n",
              "In computational linguistics, lemmatization is the algorithmic process of determining the lemma of a word based on its intended meaning.</mark> <mark>Unlike stemming, lemmatization depends on correctly identifying the intended part of speech and meaning of a word in a sentence, as well as within the larger context surrounding that sentence, such as neighboring sentences or even an entire document.</mark> As a result, developing efficient lemmatization algorithms is an open area of research. [2][3][4]\n",
              "\n",
              "In many languages, words appear in several inflected forms. For example, in English, the verb 'to walk' may appear as 'walk', 'walked', 'walks' or 'walking'. <mark>The base form, 'walk', that one might look up in a dictionary, is called the lemma for the word.</mark> <mark>The association of the base form with a part of speech is often called a lexeme of the word.</mark> Lemmatization is closely related to stemming. <mark>The difference is that a stemmer operates on a single word without knowledge of the context, and therefore cannot discriminate between words which have different meanings depending on part of speech.</mark> However, stemmers are typically easier to implement and run faster. The reduced \"accuracy\" may not matter for some applications. <mark>In fact, when used within information retrieval systems, stemming improves query recall accuracy, or true positive rate, when compared to lemmatization.</mark> Nonetheless, stemming reduces precision, or the proportion of positively-labeled instances that are actually positive, for such systems. <mark>[5]\n",
              "• The word \"better\" has \"good\" as its lemma.</mark> This link is missed by stemming, as it requires a dictionary look-up. <mark>• The word \"walk\" is the base form for the word \"walking\", and hence this is matched in both stemming and lemmatization.</mark> <mark>• The word \"meeting\" can be either the base form of a noun or a form of a verb (\"to meet\") depending on the context; e.g., \"in our last meeting\" or \"We are meeting again tomorrow\".</mark> <mark>Unlike stemming, lemmatization attempts to select the correct lemma depending on the context.</mark> <mark>Document indexing software like Lucene[6] can store the base stemmed format of the word without the knowledge of meaning, but only considering word formation grammar rules.</mark> <mark>The stemmed word itself might not be a valid word: 'lazy', as seen in the example below, is stemmed by many stemmers to 'lazi'.</mark> This is because the purpose of stemming is not to produce the appropriate lemma – that is a more challenging task that requires knowledge of context. <mark>The main purpose of stemming is to map different forms of a word to a single form.</mark> <mark>[7] As a rule-based algorithm, dependent only upon the spelling of a word, it sacrifices accuracy to ensure that, for example, when 'laziness' is stemmed to 'lazi', it has the same stem as 'lazy'.</mark> A trivial way to do lemmatization is by simple dictionary lookup. This works well for straightforward inflected forms, but a rule-based system will be needed for other cases, such as in languages with long compound words. Such rules can be either hand-crafted or learned automatically from an annotated corpus. Morphological analysis of published biomedical literature can yield useful results. Morphological processing of biomedical text can be more effective by a specialised lemmatization program for biomedicine, and may improve the accuracy of practical information extraction tasks. [8] "
            ]
          },
          "metadata": {}
        }
      ]
    },
    {
      "cell_type": "code",
      "source": [],
      "metadata": {
        "id": "5UVmskcbojgk"
      },
      "execution_count": null,
      "outputs": []
    }
  ]
}